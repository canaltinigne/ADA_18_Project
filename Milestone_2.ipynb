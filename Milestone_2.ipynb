{
 "cells": [
  {
   "cell_type": "markdown",
   "metadata": {},
   "source": [
    "# Analysis and Impacts of Fake News"
   ]
  },
  {
   "cell_type": "markdown",
   "metadata": {},
   "source": [
    "Everybody lies at some point of time. However, if the liar is a popular and respected source or figure in society, this may have crucial effects on people. The goal of this project is to analyze the distribution of lies among the political figures and news sources in the U.S. and the effects of these lies on voters and social media. We use Liar dataset collected from PolitiFact.com and prepared by William Yang Wang. We aim to specify the topics which politicians and news sources mostly lie about. Also, we intend to reveal if the lies told by politicians propagate to other news sources. We would like to emphasize the power of the statements made by notable sources in society. Because, we believe that the manipulation of people's decisions through fake news may have drastic effects on society and democracy in a country. As we are all from Turkey, we are the witnesses of how biased media manipulates the people's political views which determine the future of the country.\n",
    "\n",
    "We use Liar dataset collected from PolitiFact.com and prepared by William Yang Wang. The dataset is in tsv format, and also for each row, there is an HTML link column including some additional information about the specific statement. We will parse the dataset as well as the webpage to extract other informations such as statement date and place. The dataset contains train, test and validation sets amd has nearly 12k statements. We will combine them for analysis."
   ]
  },
  {
   "cell_type": "markdown",
   "metadata": {},
   "source": [
    "***"
   ]
  },
  {
   "cell_type": "markdown",
   "metadata": {},
   "source": [
    "## Part 1: Data Wrangling and Data Preprocessing"
   ]
  },
  {
   "cell_type": "code",
   "execution_count": 1,
   "metadata": {},
   "outputs": [],
   "source": [
    "# Import libraries\n",
    "%matplotlib inline\n",
    "import requests\n",
    "from bs4 import BeautifulSoup\n",
    "from datetime import datetime\n",
    "import csv\n",
    "import pandas as pd\n",
    "import numpy as np\n",
    "from sklearn.externals import joblib\n",
    "import multiprocessing as multi\n",
    "import sys\n",
    "import matplotlib.pyplot as plt\n",
    "from nltk.corpus import stopwords\n",
    "import nltk\n",
    "import folium\n",
    "import json\n",
    "from scipy import stats"
   ]
  },
  {
   "cell_type": "markdown",
   "metadata": {},
   "source": [
    "Our dataset is prepared for a automatic fake news detection project. Therefore we had train, test and validation datasets. In order to analyze our dataset we concatenated these three datasets."
   ]
  },
  {
   "cell_type": "code",
   "execution_count": 2,
   "metadata": {},
   "outputs": [
    {
     "name": "stdout",
     "output_type": "stream",
     "text": [
      "Validation Set Size: 1284\n"
     ]
    }
   ],
   "source": [
    "with open('data/liar_dataset/valid.tsv') as tsvfile:\n",
    "    valid = pd.read_csv(tsvfile,sep='\\t')\n",
    "    print(\"Validation Set Size: {}\".format(len(valid)))"
   ]
  },
  {
   "cell_type": "code",
   "execution_count": 3,
   "metadata": {},
   "outputs": [
    {
     "name": "stdout",
     "output_type": "stream",
     "text": [
      "Test Set Size: 1277\n"
     ]
    }
   ],
   "source": [
    "with open('data/liar_dataset/test.tsv') as tsvfile:\n",
    "    test = pd.read_csv(tsvfile, sep='\\t')\n",
    "    print(\"Test Set Size: {}\".format(len(test)))"
   ]
  },
  {
   "cell_type": "code",
   "execution_count": 4,
   "metadata": {},
   "outputs": [
    {
     "name": "stdout",
     "output_type": "stream",
     "text": [
      "Training Set Size: 10240\n"
     ]
    }
   ],
   "source": [
    "with open('data/liar_dataset/train.tsv') as tsvfile:\n",
    "    train = pd.read_csv(tsvfile, sep='\\t')\n",
    "    print(\"Training Set Size: {}\".format(len(train)))"
   ]
  },
  {
   "cell_type": "code",
   "execution_count": 5,
   "metadata": {},
   "outputs": [
    {
     "name": "stdout",
     "output_type": "stream",
     "text": [
      "Number of samples: 12801\n"
     ]
    },
    {
     "data": {
      "text/html": [
       "<div>\n",
       "<style scoped>\n",
       "    .dataframe tbody tr th:only-of-type {\n",
       "        vertical-align: middle;\n",
       "    }\n",
       "\n",
       "    .dataframe tbody tr th {\n",
       "        vertical-align: top;\n",
       "    }\n",
       "\n",
       "    .dataframe thead th {\n",
       "        text-align: right;\n",
       "    }\n",
       "</style>\n",
       "<table border=\"1\" class=\"dataframe\">\n",
       "  <thead>\n",
       "    <tr style=\"text-align: right;\">\n",
       "      <th></th>\n",
       "      <th>Id</th>\n",
       "      <th>Label</th>\n",
       "      <th>Statement</th>\n",
       "      <th>Subject</th>\n",
       "      <th>Speaker’s Job Title</th>\n",
       "      <th>Job</th>\n",
       "      <th>State</th>\n",
       "      <th>The Party Affiliation</th>\n",
       "      <th>barely true counts</th>\n",
       "      <th>false counts</th>\n",
       "      <th>half true counts</th>\n",
       "      <th>mostly true counts</th>\n",
       "      <th>pants on fire counts</th>\n",
       "      <th>Communication Media</th>\n",
       "    </tr>\n",
       "  </thead>\n",
       "  <tbody>\n",
       "    <tr>\n",
       "      <th>0</th>\n",
       "      <td>2635.json</td>\n",
       "      <td>false</td>\n",
       "      <td>Says the Annies List political group supports ...</td>\n",
       "      <td>abortion</td>\n",
       "      <td>dwayne-bohac</td>\n",
       "      <td>State representative</td>\n",
       "      <td>Texas</td>\n",
       "      <td>republican</td>\n",
       "      <td>0.0</td>\n",
       "      <td>1.0</td>\n",
       "      <td>0.0</td>\n",
       "      <td>0</td>\n",
       "      <td>0.0</td>\n",
       "      <td>a mailer</td>\n",
       "    </tr>\n",
       "    <tr>\n",
       "      <th>1</th>\n",
       "      <td>10540.json</td>\n",
       "      <td>half-true</td>\n",
       "      <td>When did the decline of coal start? It started...</td>\n",
       "      <td>energy,history,job-accomplishments</td>\n",
       "      <td>scott-surovell</td>\n",
       "      <td>State delegate</td>\n",
       "      <td>Virginia</td>\n",
       "      <td>democrat</td>\n",
       "      <td>0.0</td>\n",
       "      <td>0.0</td>\n",
       "      <td>1.0</td>\n",
       "      <td>1</td>\n",
       "      <td>0.0</td>\n",
       "      <td>a floor speech.</td>\n",
       "    </tr>\n",
       "    <tr>\n",
       "      <th>2</th>\n",
       "      <td>324.json</td>\n",
       "      <td>mostly-true</td>\n",
       "      <td>Hillary Clinton agrees with John McCain \"by vo...</td>\n",
       "      <td>foreign-policy</td>\n",
       "      <td>barack-obama</td>\n",
       "      <td>President</td>\n",
       "      <td>Illinois</td>\n",
       "      <td>democrat</td>\n",
       "      <td>70.0</td>\n",
       "      <td>71.0</td>\n",
       "      <td>160.0</td>\n",
       "      <td>163</td>\n",
       "      <td>9.0</td>\n",
       "      <td>Denver</td>\n",
       "    </tr>\n",
       "    <tr>\n",
       "      <th>3</th>\n",
       "      <td>1123.json</td>\n",
       "      <td>false</td>\n",
       "      <td>Health care reform legislation is likely to ma...</td>\n",
       "      <td>health-care</td>\n",
       "      <td>blog-posting</td>\n",
       "      <td>NaN</td>\n",
       "      <td>NaN</td>\n",
       "      <td>none</td>\n",
       "      <td>7.0</td>\n",
       "      <td>19.0</td>\n",
       "      <td>3.0</td>\n",
       "      <td>5</td>\n",
       "      <td>44.0</td>\n",
       "      <td>a news release</td>\n",
       "    </tr>\n",
       "    <tr>\n",
       "      <th>4</th>\n",
       "      <td>9028.json</td>\n",
       "      <td>half-true</td>\n",
       "      <td>The economic turnaround started at the end of ...</td>\n",
       "      <td>economy,jobs</td>\n",
       "      <td>charlie-crist</td>\n",
       "      <td>NaN</td>\n",
       "      <td>Florida</td>\n",
       "      <td>democrat</td>\n",
       "      <td>15.0</td>\n",
       "      <td>9.0</td>\n",
       "      <td>20.0</td>\n",
       "      <td>19</td>\n",
       "      <td>2.0</td>\n",
       "      <td>an interview on CNN</td>\n",
       "    </tr>\n",
       "  </tbody>\n",
       "</table>\n",
       "</div>"
      ],
      "text/plain": [
       "           Id        Label                                          Statement  \\\n",
       "0   2635.json        false  Says the Annies List political group supports ...   \n",
       "1  10540.json    half-true  When did the decline of coal start? It started...   \n",
       "2    324.json  mostly-true  Hillary Clinton agrees with John McCain \"by vo...   \n",
       "3   1123.json        false  Health care reform legislation is likely to ma...   \n",
       "4   9028.json    half-true  The economic turnaround started at the end of ...   \n",
       "\n",
       "                              Subject Speaker’s Job Title  \\\n",
       "0                            abortion        dwayne-bohac   \n",
       "1  energy,history,job-accomplishments      scott-surovell   \n",
       "2                      foreign-policy        barack-obama   \n",
       "3                         health-care        blog-posting   \n",
       "4                        economy,jobs       charlie-crist   \n",
       "\n",
       "                    Job     State The Party Affiliation  barely true counts  \\\n",
       "0  State representative     Texas            republican                 0.0   \n",
       "1        State delegate  Virginia              democrat                 0.0   \n",
       "2             President  Illinois              democrat                70.0   \n",
       "3                   NaN       NaN                  none                 7.0   \n",
       "4                   NaN   Florida              democrat                15.0   \n",
       "\n",
       "   false counts  half true counts mostly true counts  pants on fire counts  \\\n",
       "0           1.0               0.0                  0                   0.0   \n",
       "1           0.0               1.0                  1                   0.0   \n",
       "2          71.0             160.0                163                   9.0   \n",
       "3          19.0               3.0                  5                  44.0   \n",
       "4           9.0              20.0                 19                   2.0   \n",
       "\n",
       "   Communication Media  \n",
       "0             a mailer  \n",
       "1      a floor speech.  \n",
       "2               Denver  \n",
       "3       a news release  \n",
       "4  an interview on CNN  "
      ]
     },
     "execution_count": 5,
     "metadata": {},
     "output_type": "execute_result"
    }
   ],
   "source": [
    "# Concatinating all training, test and validation sets to create a big dataset for analysis.\n",
    "sets = [train, test, valid]\n",
    "liar_dataframe = pd.concat(sets)\n",
    "print(\"Number of samples:\",len(liar_dataframe))\n",
    "liar_dataframe.reset_index()\n",
    "liar_dataframe.head()"
   ]
  },
  {
   "cell_type": "markdown",
   "metadata": {},
   "source": [
    "First column contains the id of the statement and the url http://www.politifact.com//api/v/2/statement/id?format=json links to the web page about the statement.\n",
    "\n",
    "The given dataset does not contain the date when the statement is written or said. So, we parsed the web page in order the extract the statement date. All of the columns except counts columns can be understood. Counts columns show the number of the people that vote for that authenticity category for the particular statement."
   ]
  },
  {
   "cell_type": "code",
   "execution_count": null,
   "metadata": {},
   "outputs": [],
   "source": [
    "# JSON parse code using Id column of the dataset\n",
    "\n",
    "i=0\n",
    "for json_id in liar_dataframe['Id']:\n",
    "    try:\n",
    "        r = requests.get('http://www.politifact.com//api/v/2/statement/'+ json_id.split(\".\")[0]+'/?format=json')\n",
    "        data=r.json()\n",
    "        datetime_object = datetime.strptime(data[\"ruling_date\"], '%Y-%m-%dT%X')\n",
    "        liar_dataframe.set_value(i, 'Date', datetime_object)\n",
    "    except ValueError:\n",
    "        print(json_id, \"ENCODE ERROR OCCURED\")\n",
    "    i+=1"
   ]
  },
  {
   "cell_type": "code",
   "execution_count": null,
   "metadata": {},
   "outputs": [],
   "source": [
    "liar_dataframe.to_csv('data/liar_set_with_date.tsv',index=False, sep = '\\t')"
   ]
  },
  {
   "cell_type": "code",
   "execution_count": null,
   "metadata": {},
   "outputs": [],
   "source": [
    "with open('data/liar_set_with_date.tsv') as tsvfile:\n",
    "    liar_dataframe = pd.read_csv(tsvfile,sep='\\t',)\n",
    "len(liar_dataframe)\n",
    "liar_dataframe.head()"
   ]
  },
  {
   "cell_type": "markdown",
   "metadata": {},
   "source": [
    "There are some data rows with no **Date** information, since the url was not working for some of data. "
   ]
  },
  {
   "cell_type": "code",
   "execution_count": null,
   "metadata": {},
   "outputs": [],
   "source": [
    "liar_dataframe = liar_dataframe[liar_dataframe['Date'].notnull()]"
   ]
  },
  {
   "cell_type": "markdown",
   "metadata": {},
   "source": [
    "Since we will also analyse the effects of lies told by politicians and news sources on votes of citizens(Research Question 4), we need the earliest and latest date, so that we find out which US election resulys will be needed."
   ]
  },
  {
   "cell_type": "code",
   "execution_count": null,
   "metadata": {},
   "outputs": [],
   "source": [
    "max(liar_dataframe['Date'])"
   ]
  },
  {
   "cell_type": "code",
   "execution_count": null,
   "metadata": {},
   "outputs": [],
   "source": [
    "min(liar_dataframe['Date'])"
   ]
  },
  {
   "cell_type": "markdown",
   "metadata": {},
   "source": [
    "In order to answer our research questions, we need to know if the given statement is said by a politician, a news source or posted on social media. So we categorized the **Communication Media** column using the keywords inside."
   ]
  },
  {
   "cell_type": "code",
   "execution_count": 6,
   "metadata": {},
   "outputs": [],
   "source": [
    "# Categorizing Communication Media\n",
    "def categorize(a):\n",
    "    a['Category'] = ''\n",
    "    exp = a['Communication Media'].str.lower().str\n",
    "    condition_press = exp.contains('news ') | exp.contains('press ') |exp.contains(' news') | exp.contains(' press')\n",
    "    \n",
    "    condition_interview = exp.contains('interview')\n",
    "    condition_speech = exp.contains('speech') | exp.contains('address ') | exp.contains(' address')\n",
    "    condition_hearing = exp.contains('hearing')\n",
    "    condition_meeting = exp.contains('meeting')\n",
    "    condition_summit = exp.contains('summit')\n",
    "    condition_letter = exp.contains('letter')\n",
    "    condition_statement = exp.contains('statement')\n",
    "    condition_social_media = exp.contains('twitter') | exp.contains('tweet') | exp.contains('facebook') \\\n",
    "                         | exp.contains('meme') | exp.contains('comments') | exp.contains('post') \\\n",
    "                         | exp.contains('blog') |  exp.contains('forum')\n",
    "    condition_conference = exp.contains('conference')\n",
    "    condition_advertisement = exp.contains('advertisement') | exp.contains('advert') \\\n",
    "                          | exp.contains(' ad') | exp.contains('commercial')\n",
    "    condition_campaign = exp.contains('campaign')\n",
    "    condition_newspaper = exp.contains('newspaper') | exp.contains('article') | exp.contains('column') \\\n",
    "                         | exp.contains('commentary') | exp.contains('op-ed') \n",
    "    condition_video = exp.contains('video')\n",
    "    condition_radio = exp.contains('radio')\n",
    "    condition_debate = exp.contains('debate')\n",
    "    condition_flyer = exp.contains('flyer') | exp.contains('flier')\n",
    "    condition_journal = exp.contains('journal')  \n",
    "    condition_television = (exp.contains('television') | exp.contains('tv ') | \\\n",
    "                        exp.contains(' tv') | exp.contains('\"') ) & (exp.contains('comments on')==False)\n",
    "    a['Category'] = np.where(condition_press, a['Category']+',Press', a['Category']) \n",
    "    a['Category'] = np.where(condition_interview, a['Category']+',Interview', a['Category']) \n",
    "    a['Category'] = np.where(condition_speech, a['Category']+',Speech', a['Category']) \n",
    "    a['Category'] = np.where(condition_hearing, a['Category']+',Hearing', a['Category']) \n",
    "    a['Category'] = np.where(condition_meeting, a['Category']+',Meeting', a['Category']) \n",
    "    a['Category'] = np.where(condition_summit, a['Category']+',Summit', a['Category']) \n",
    "    a['Category'] = np.where(condition_letter, a['Category']+',Letter', a['Category']) \n",
    "    a['Category'] = np.where(condition_statement, a['Category']+',Statement', a['Category']) \n",
    "    a['Category'] = np.where(condition_social_media, a['Category']+',Social Media', a['Category']) \n",
    "    a['Category'] = np.where(condition_conference, a['Category']+',Conference', a['Category']) \n",
    "    a['Category'] = np.where(condition_advertisement, a['Category']+',Advertisement', a['Category']) \n",
    "    a['Category'] = np.where(condition_campaign, a['Category']+',Campaign', a['Category']) \n",
    "    a['Category'] = np.where(condition_newspaper, a['Category']+',Newspaper', a['Category']) \n",
    "    a['Category'] = np.where(condition_video, a['Category']+',Video', a['Category']) \n",
    "    a['Category'] = np.where(condition_debate, a['Category']+',Debate', a['Category']) \n",
    "    a['Category'] = np.where(condition_flyer, a['Category']+',Flyer', a['Category']) \n",
    "    a['Category'] = np.where(condition_radio, a['Category']+',Radio', a['Category']) \n",
    "    a['Category'] = np.where(condition_journal, a['Category']+',Journal', a['Category']) \n",
    "    a['Category'] = np.where(a['Category'] == '', a['Category']+',Miscellaneous', a['Category']) \n",
    "    a['Category'] = a['Category'].str[1:]\n",
    "    return a"
   ]
  },
  {
   "cell_type": "code",
   "execution_count": 7,
   "metadata": {},
   "outputs": [],
   "source": [
    "liar_dataframe = categorize(liar_dataframe)"
   ]
  },
  {
   "cell_type": "code",
   "execution_count": 8,
   "metadata": {},
   "outputs": [
    {
     "data": {
      "text/html": [
       "<div>\n",
       "<style scoped>\n",
       "    .dataframe tbody tr th:only-of-type {\n",
       "        vertical-align: middle;\n",
       "    }\n",
       "\n",
       "    .dataframe tbody tr th {\n",
       "        vertical-align: top;\n",
       "    }\n",
       "\n",
       "    .dataframe thead th {\n",
       "        text-align: right;\n",
       "    }\n",
       "</style>\n",
       "<table border=\"1\" class=\"dataframe\">\n",
       "  <thead>\n",
       "    <tr style=\"text-align: right;\">\n",
       "      <th></th>\n",
       "      <th>Id</th>\n",
       "      <th>Label</th>\n",
       "      <th>Statement</th>\n",
       "      <th>Subject</th>\n",
       "      <th>Speaker’s Job Title</th>\n",
       "      <th>Job</th>\n",
       "      <th>State</th>\n",
       "      <th>The Party Affiliation</th>\n",
       "      <th>barely true counts</th>\n",
       "      <th>false counts</th>\n",
       "      <th>half true counts</th>\n",
       "      <th>mostly true counts</th>\n",
       "      <th>pants on fire counts</th>\n",
       "      <th>Communication Media</th>\n",
       "      <th>Category</th>\n",
       "    </tr>\n",
       "  </thead>\n",
       "  <tbody>\n",
       "    <tr>\n",
       "      <th>0</th>\n",
       "      <td>2635.json</td>\n",
       "      <td>false</td>\n",
       "      <td>Says the Annies List political group supports ...</td>\n",
       "      <td>abortion</td>\n",
       "      <td>dwayne-bohac</td>\n",
       "      <td>State representative</td>\n",
       "      <td>Texas</td>\n",
       "      <td>republican</td>\n",
       "      <td>0.0</td>\n",
       "      <td>1.0</td>\n",
       "      <td>0.0</td>\n",
       "      <td>0</td>\n",
       "      <td>0.0</td>\n",
       "      <td>a mailer</td>\n",
       "      <td>Miscellaneous</td>\n",
       "    </tr>\n",
       "    <tr>\n",
       "      <th>1</th>\n",
       "      <td>10540.json</td>\n",
       "      <td>half-true</td>\n",
       "      <td>When did the decline of coal start? It started...</td>\n",
       "      <td>energy,history,job-accomplishments</td>\n",
       "      <td>scott-surovell</td>\n",
       "      <td>State delegate</td>\n",
       "      <td>Virginia</td>\n",
       "      <td>democrat</td>\n",
       "      <td>0.0</td>\n",
       "      <td>0.0</td>\n",
       "      <td>1.0</td>\n",
       "      <td>1</td>\n",
       "      <td>0.0</td>\n",
       "      <td>a floor speech.</td>\n",
       "      <td>Speech</td>\n",
       "    </tr>\n",
       "    <tr>\n",
       "      <th>2</th>\n",
       "      <td>324.json</td>\n",
       "      <td>mostly-true</td>\n",
       "      <td>Hillary Clinton agrees with John McCain \"by vo...</td>\n",
       "      <td>foreign-policy</td>\n",
       "      <td>barack-obama</td>\n",
       "      <td>President</td>\n",
       "      <td>Illinois</td>\n",
       "      <td>democrat</td>\n",
       "      <td>70.0</td>\n",
       "      <td>71.0</td>\n",
       "      <td>160.0</td>\n",
       "      <td>163</td>\n",
       "      <td>9.0</td>\n",
       "      <td>Denver</td>\n",
       "      <td>Miscellaneous</td>\n",
       "    </tr>\n",
       "  </tbody>\n",
       "</table>\n",
       "</div>"
      ],
      "text/plain": [
       "           Id        Label                                          Statement  \\\n",
       "0   2635.json        false  Says the Annies List political group supports ...   \n",
       "1  10540.json    half-true  When did the decline of coal start? It started...   \n",
       "2    324.json  mostly-true  Hillary Clinton agrees with John McCain \"by vo...   \n",
       "\n",
       "                              Subject Speaker’s Job Title  \\\n",
       "0                            abortion        dwayne-bohac   \n",
       "1  energy,history,job-accomplishments      scott-surovell   \n",
       "2                      foreign-policy        barack-obama   \n",
       "\n",
       "                    Job     State The Party Affiliation  barely true counts  \\\n",
       "0  State representative     Texas            republican                 0.0   \n",
       "1        State delegate  Virginia              democrat                 0.0   \n",
       "2             President  Illinois              democrat                70.0   \n",
       "\n",
       "   false counts  half true counts mostly true counts  pants on fire counts  \\\n",
       "0           1.0               0.0                  0                   0.0   \n",
       "1           0.0               1.0                  1                   0.0   \n",
       "2          71.0             160.0                163                   9.0   \n",
       "\n",
       "  Communication Media       Category  \n",
       "0            a mailer  Miscellaneous  \n",
       "1     a floor speech.         Speech  \n",
       "2              Denver  Miscellaneous  "
      ]
     },
     "execution_count": 8,
     "metadata": {},
     "output_type": "execute_result"
    }
   ],
   "source": [
    "liar_dataframe.head(3)"
   ]
  },
  {
   "cell_type": "markdown",
   "metadata": {},
   "source": [
    "Target column is **Label**. Authenticity types of the statements can be found by grouping the dataset by **Label** column."
   ]
  },
  {
   "cell_type": "code",
   "execution_count": 9,
   "metadata": {},
   "outputs": [
    {
     "data": {
      "text/plain": [
       "dict_keys(['barely-true', 'false', 'half-true', 'mostly-true', 'pants-fire', 'true'])"
      ]
     },
     "execution_count": 9,
     "metadata": {},
     "output_type": "execute_result"
    }
   ],
   "source": [
    "data_group_df = liar_dataframe.groupby('Label')\n",
    "data_group_df.groups.keys()"
   ]
  },
  {
   "cell_type": "markdown",
   "metadata": {},
   "source": [
    "Some of our research questions require U.S. Election data. We preprocess the election data for 2012 and 2016 U.S. Elections.\n",
    "\n",
    "United States Presidental elections held in every 4 years. United states use a system called **Electoral System** for electing their presidents. This system works as following:\n",
    "\n",
    "- Each state is assigned a number of electors which is equal to the number of its U.S. Senators(2) plus the number of its U.S. Representatives. The number of US Representatives is determined according to state's population.\n",
    "- Each pary assign its electors who will actually vote for presidental candidates.\n",
    "- In November, citizens of each state cast their votes for electors, not for president.\n",
    "- The party having the most popular vote in november election becımes the State's Electors.\n",
    "- On the Monday following the second Wednesday of December each State's Electors cast their electoral votes for president and for vice president."
   ]
  },
  {
   "cell_type": "code",
   "execution_count": 10,
   "metadata": {},
   "outputs": [],
   "source": [
    "# Path to files of election results\n",
    "ELECTION_PATH = \"data/elections/federalelections\""
   ]
  },
  {
   "cell_type": "code",
   "execution_count": 11,
   "metadata": {},
   "outputs": [],
   "source": [
    "# read votes and convert vote counts to percentage\n",
    "def read_votes(year,file_type):\n",
    "    votes = pd.read_excel(ELECTION_PATH+str(year)+'.'+file_type,sheet_name=\"Table 2. Electoral &  Pop Vote\", header=3)\n",
    "    votes.iloc[:,3]=(votes.iloc[:,3]/votes.iloc[:,6])*100 # percentage of vote ratio - democrats\n",
    "    votes.iloc[:,4]=(votes.iloc[:,4]/votes.iloc[:,6])*100 # percentage of vote ratio - republicans\n",
    "    return votes"
   ]
  },
  {
   "cell_type": "markdown",
   "metadata": {},
   "source": [
    "Since ther earliest data is from 2007 and latest is from 2016, we need results of the presidental election in years 2008, 2012 and 2016 "
   ]
  },
  {
   "cell_type": "code",
   "execution_count": 12,
   "metadata": {},
   "outputs": [],
   "source": [
    "votes_2008 = read_votes(2008,'xls')\n",
    "votes_2012 = read_votes(2012,'xls')\n",
    "votes_2016 = read_votes(2016,'xlsx')"
   ]
  },
  {
   "cell_type": "markdown",
   "metadata": {},
   "source": [
    "We added **Winner** column: D represenst Democrat Party candidate and R represents Republican Party candidate."
   ]
  },
  {
   "cell_type": "code",
   "execution_count": 13,
   "metadata": {},
   "outputs": [],
   "source": [
    "votes_2008['Winner'] = votes_2008.iloc[:,3]>votes_2008.iloc[:,4]\n",
    "votes_2008['Winner'] = np.where(votes_2008['Winner']==True,'D','R')\n",
    "\n",
    "votes_2012['Winner'] = votes_2012.iloc[:,3]>votes_2012.iloc[:,4]\n",
    "votes_2012['Winner'] = np.where(votes_2012['Winner']==True,'D','R')\n",
    "\n",
    "votes_2016['Winner'] = votes_2016.iloc[:,3]>votes_2016.iloc[:,4]\n",
    "votes_2016['Winner'] = np.where(votes_2016['Winner']==True,'D','R')"
   ]
  },
  {
   "cell_type": "code",
   "execution_count": 14,
   "metadata": {},
   "outputs": [
    {
     "data": {
      "text/html": [
       "<div>\n",
       "<style scoped>\n",
       "    .dataframe tbody tr th:only-of-type {\n",
       "        vertical-align: middle;\n",
       "    }\n",
       "\n",
       "    .dataframe tbody tr th {\n",
       "        vertical-align: top;\n",
       "    }\n",
       "\n",
       "    .dataframe thead th {\n",
       "        text-align: right;\n",
       "    }\n",
       "</style>\n",
       "<table border=\"1\" class=\"dataframe\">\n",
       "  <thead>\n",
       "    <tr style=\"text-align: right;\">\n",
       "      <th></th>\n",
       "      <th>STATE</th>\n",
       "      <th>Obama (D)</th>\n",
       "      <th>Romney (R)</th>\n",
       "      <th>Obama (D).1</th>\n",
       "      <th>Romney (R).1</th>\n",
       "      <th>All Others</th>\n",
       "      <th>Total Vote</th>\n",
       "      <th>Winner</th>\n",
       "    </tr>\n",
       "  </thead>\n",
       "  <tbody>\n",
       "    <tr>\n",
       "      <th>0</th>\n",
       "      <td>AL</td>\n",
       "      <td>NaN</td>\n",
       "      <td>9.0</td>\n",
       "      <td>38.359033</td>\n",
       "      <td>60.545822</td>\n",
       "      <td>22717</td>\n",
       "      <td>2074338</td>\n",
       "      <td>R</td>\n",
       "    </tr>\n",
       "    <tr>\n",
       "      <th>1</th>\n",
       "      <td>AK</td>\n",
       "      <td>NaN</td>\n",
       "      <td>3.0</td>\n",
       "      <td>40.812659</td>\n",
       "      <td>54.801577</td>\n",
       "      <td>13179</td>\n",
       "      <td>300495</td>\n",
       "      <td>R</td>\n",
       "    </tr>\n",
       "    <tr>\n",
       "      <th>2</th>\n",
       "      <td>AZ</td>\n",
       "      <td>NaN</td>\n",
       "      <td>11.0</td>\n",
       "      <td>44.589767</td>\n",
       "      <td>53.654533</td>\n",
       "      <td>40368</td>\n",
       "      <td>2299254</td>\n",
       "      <td>R</td>\n",
       "    </tr>\n",
       "    <tr>\n",
       "      <th>3</th>\n",
       "      <td>AR</td>\n",
       "      <td>NaN</td>\n",
       "      <td>6.0</td>\n",
       "      <td>36.878990</td>\n",
       "      <td>60.566936</td>\n",
       "      <td>27315</td>\n",
       "      <td>1069468</td>\n",
       "      <td>R</td>\n",
       "    </tr>\n",
       "    <tr>\n",
       "      <th>4</th>\n",
       "      <td>CA</td>\n",
       "      <td>55.0</td>\n",
       "      <td>NaN</td>\n",
       "      <td>60.238959</td>\n",
       "      <td>37.120379</td>\n",
       "      <td>344304</td>\n",
       "      <td>13038547</td>\n",
       "      <td>D</td>\n",
       "    </tr>\n",
       "  </tbody>\n",
       "</table>\n",
       "</div>"
      ],
      "text/plain": [
       "  STATE  Obama (D)  Romney (R)  Obama (D).1  Romney (R).1  All Others  \\\n",
       "0    AL        NaN         9.0    38.359033     60.545822       22717   \n",
       "1    AK        NaN         3.0    40.812659     54.801577       13179   \n",
       "2    AZ        NaN        11.0    44.589767     53.654533       40368   \n",
       "3    AR        NaN         6.0    36.878990     60.566936       27315   \n",
       "4    CA       55.0         NaN    60.238959     37.120379      344304   \n",
       "\n",
       "   Total Vote Winner  \n",
       "0     2074338      R  \n",
       "1      300495      R  \n",
       "2     2299254      R  \n",
       "3     1069468      R  \n",
       "4    13038547      D  "
      ]
     },
     "execution_count": 14,
     "metadata": {},
     "output_type": "execute_result"
    }
   ],
   "source": [
    "votes_2012.head(5)"
   ]
  },
  {
   "cell_type": "markdown",
   "metadata": {},
   "source": [
    "First two columns represent the electoral votes and the 3rd and 4th column represent popular votes."
   ]
  },
  {
   "cell_type": "code",
   "execution_count": 15,
   "metadata": {},
   "outputs": [],
   "source": [
    "vote_change = pd.DataFrame(columns=['STATE',\\\n",
    "                                    'Winner Change 2008-2012', 'Democrat 2008-2012', 'Republican 2008-2012',\\\n",
    "                                    'Winner Change 2012-2016','Democrat 2012-2016', 'Republican 2012-2016'])"
   ]
  },
  {
   "cell_type": "code",
   "execution_count": 16,
   "metadata": {},
   "outputs": [],
   "source": [
    "vote_change['STATE'] = votes_2008['STATE']"
   ]
  },
  {
   "cell_type": "markdown",
   "metadata": {},
   "source": [
    "We calculated the change of percentage of votes between years for democrat and republican candidates."
   ]
  },
  {
   "cell_type": "code",
   "execution_count": 17,
   "metadata": {},
   "outputs": [],
   "source": [
    "#change of winner 2004 and 2008(R, D, R to D, D to R)\n",
    "vote_change['Winner Change 2008-2012'] = np.where(votes_2008['Winner']==votes_2012['Winner'],\\\n",
    "                                        votes_2008['Winner'],votes_2008['Winner']+' to '+votes_2012['Winner'])\n",
    "#change in votes between years 2008 and 2012\n",
    "vote_change['Democrat 2008-2012'] = votes_2012.iloc[:,3] - votes_2008.iloc[:,3]\n",
    "vote_change['Republican 2008-2012'] = votes_2012.iloc[:,4] - votes_2008.iloc[:,4]"
   ]
  },
  {
   "cell_type": "code",
   "execution_count": 18,
   "metadata": {},
   "outputs": [],
   "source": [
    "#change of winner 2004 and 2008(R, D, R to D, D to R)\n",
    "vote_change['Winner Change 2012-2016'] = np.where(votes_2012['Winner']==votes_2016['Winner'],\\\n",
    "                                        votes_2012['Winner'],votes_2012['Winner']+' to '+votes_2016['Winner'])\n",
    "#change in votes between years 2012 and 2016\n",
    "vote_change['Democrat 2012-2016'] = votes_2016.iloc[:,3] - votes_2012.iloc[:,3]\n",
    "vote_change['Republican 2012-2016'] = votes_2016.iloc[:,4] - votes_2012.iloc[:,4]"
   ]
  },
  {
   "cell_type": "code",
   "execution_count": 19,
   "metadata": {},
   "outputs": [
    {
     "data": {
      "text/html": [
       "<div>\n",
       "<style scoped>\n",
       "    .dataframe tbody tr th:only-of-type {\n",
       "        vertical-align: middle;\n",
       "    }\n",
       "\n",
       "    .dataframe tbody tr th {\n",
       "        vertical-align: top;\n",
       "    }\n",
       "\n",
       "    .dataframe thead th {\n",
       "        text-align: right;\n",
       "    }\n",
       "</style>\n",
       "<table border=\"1\" class=\"dataframe\">\n",
       "  <thead>\n",
       "    <tr style=\"text-align: right;\">\n",
       "      <th></th>\n",
       "      <th>STATE</th>\n",
       "      <th>Winner Change 2008-2012</th>\n",
       "      <th>Democrat 2008-2012</th>\n",
       "      <th>Republican 2008-2012</th>\n",
       "      <th>Winner Change 2012-2016</th>\n",
       "      <th>Democrat 2012-2016</th>\n",
       "      <th>Republican 2012-2016</th>\n",
       "    </tr>\n",
       "  </thead>\n",
       "  <tbody>\n",
       "    <tr>\n",
       "      <th>0</th>\n",
       "      <td>AL</td>\n",
       "      <td>R</td>\n",
       "      <td>-0.381401</td>\n",
       "      <td>0.228909</td>\n",
       "      <td>R</td>\n",
       "      <td>-4.001087</td>\n",
       "      <td>1.537270</td>\n",
       "    </tr>\n",
       "    <tr>\n",
       "      <th>1</th>\n",
       "      <td>AK</td>\n",
       "      <td>R</td>\n",
       "      <td>2.923286</td>\n",
       "      <td>-4.622942</td>\n",
       "      <td>R</td>\n",
       "      <td>-4.261788</td>\n",
       "      <td>-3.520065</td>\n",
       "    </tr>\n",
       "    <tr>\n",
       "      <th>2</th>\n",
       "      <td>AZ</td>\n",
       "      <td>R</td>\n",
       "      <td>-0.525484</td>\n",
       "      <td>0.019285</td>\n",
       "      <td>R</td>\n",
       "      <td>0.536255</td>\n",
       "      <td>-4.982917</td>\n",
       "    </tr>\n",
       "    <tr>\n",
       "      <th>3</th>\n",
       "      <td>AR</td>\n",
       "      <td>R</td>\n",
       "      <td>-1.985669</td>\n",
       "      <td>1.851032</td>\n",
       "      <td>R</td>\n",
       "      <td>-3.227086</td>\n",
       "      <td>0.004970</td>\n",
       "    </tr>\n",
       "    <tr>\n",
       "      <th>4</th>\n",
       "      <td>CA</td>\n",
       "      <td>D</td>\n",
       "      <td>-0.773679</td>\n",
       "      <td>0.165520</td>\n",
       "      <td>D</td>\n",
       "      <td>1.487429</td>\n",
       "      <td>-5.503264</td>\n",
       "    </tr>\n",
       "  </tbody>\n",
       "</table>\n",
       "</div>"
      ],
      "text/plain": [
       "  STATE Winner Change 2008-2012  Democrat 2008-2012  Republican 2008-2012  \\\n",
       "0    AL                       R           -0.381401              0.228909   \n",
       "1    AK                       R            2.923286             -4.622942   \n",
       "2    AZ                       R           -0.525484              0.019285   \n",
       "3    AR                       R           -1.985669              1.851032   \n",
       "4    CA                       D           -0.773679              0.165520   \n",
       "\n",
       "  Winner Change 2012-2016  Democrat 2012-2016  Republican 2012-2016  \n",
       "0                       R           -4.001087              1.537270  \n",
       "1                       R           -4.261788             -3.520065  \n",
       "2                       R            0.536255             -4.982917  \n",
       "3                       R           -3.227086              0.004970  \n",
       "4                       D            1.487429             -5.503264  "
      ]
     },
     "execution_count": 19,
     "metadata": {},
     "output_type": "execute_result"
    }
   ],
   "source": [
    "vote_change.head(5)"
   ]
  },
  {
   "cell_type": "markdown",
   "metadata": {},
   "source": [
    "In Milestone 2, we have not performed any analysis using the change between years. However, we are planning to use that column in the next steps."
   ]
  },
  {
   "cell_type": "markdown",
   "metadata": {},
   "source": [
    "***"
   ]
  },
  {
   "cell_type": "markdown",
   "metadata": {},
   "source": [
    "## Part 2: Exploratory data analysis "
   ]
  },
  {
   "cell_type": "markdown",
   "metadata": {},
   "source": [
    "We have created some research questions for the dataset in Milestone 1. We analyze the data based on these research questions in this part. The questions are:"
   ]
  },
  {
   "cell_type": "markdown",
   "metadata": {},
   "source": [
    "### Q1. What are the subjects that the politicians and news sources mostly lie about?\n",
    "\n",
    "We consider that a statement is a lie if it is labelled as false or pants-fire. We create the counts of subjects for each label category."
   ]
  },
  {
   "cell_type": "code",
   "execution_count": 20,
   "metadata": {},
   "outputs": [],
   "source": [
    "# Distribution of subjects of statements per each truth label category\n",
    "\n",
    "# This function returns the count of unique elements for each output (i.e. false, pants-fire, barely-true) \n",
    "# with respect to the given column name.\n",
    "\n",
    "def get_count_group(col_num, df, delimiter, get_all, n=0):\n",
    "    result = []\n",
    "    i = 0\n",
    "    for group in df:\n",
    "        col = group[1][col_num]\n",
    "        if(len(delimiter) > 0):\n",
    "            if(get_all):\n",
    "                elements = pd.Series(str(v).split(delimiter) for v in col)\n",
    "            else:\n",
    "                elements = pd.Series(str(v).split(delimiter) for v in col)\n",
    "            elements = [st for row in elements for st in row]\n",
    "            element_values = pd.Series(elements).str.lower().str.rstrip('.,\"”\\'').str.lstrip('\\'\\\"”').value_counts()\n",
    "        else:\n",
    "            elements = pd.Series(v for v in col)\n",
    "            elements = [st for st in elements]\n",
    "            element_values = pd.Series(elements).value_counts()\n",
    "        result.append([])\n",
    "        result[i].append(group[0])\n",
    "        result[i].append(element_values)\n",
    "        i = i + 1\n",
    "    return result"
   ]
  },
  {
   "cell_type": "markdown",
   "metadata": {},
   "source": [
    "We will get unique subjects for each output label. It will return 6 series object since we have 6 different outputs. We will get false and pants-fire statements to determine the counts of subjects in the lies."
   ]
  },
  {
   "cell_type": "code",
   "execution_count": 21,
   "metadata": {},
   "outputs": [],
   "source": [
    "# Get unique subjects for each target value.\n",
    "statement_counts = get_count_group('Subject', data_group_df, ',', True)"
   ]
  },
  {
   "cell_type": "code",
   "execution_count": 22,
   "metadata": {},
   "outputs": [],
   "source": [
    "# Get subject counts in false and pants-fire statements.\n",
    "false_st = statement_counts[1]\n",
    "pants_fire_st = statement_counts[4]"
   ]
  },
  {
   "cell_type": "markdown",
   "metadata": {},
   "source": [
    "We show the top 20 subjects in the pants-fire statements."
   ]
  },
  {
   "cell_type": "code",
   "execution_count": 23,
   "metadata": {},
   "outputs": [
    {
     "name": "stdout",
     "output_type": "stream",
     "text": [
      "Top 20 subjects in the pants-fire statements:\n",
      "health-care             150\n",
      "candidates-biography     95\n",
      "taxes                    83\n",
      "elections                75\n",
      "economy                  73\n",
      "immigration              66\n",
      "history                  60\n",
      "foreign-policy           58\n",
      "state-budget             56\n",
      "religion                 54\n",
      "crime                    49\n",
      "education                48\n",
      "jobs                     45\n",
      "federal-budget           43\n",
      "terrorism                41\n",
      "environment              37\n",
      "military                 37\n",
      "energy                   36\n",
      "message-machine-2012     34\n",
      "pundits                  34\n",
      "dtype: int64\n"
     ]
    }
   ],
   "source": [
    "print(\"Top 20 subjects in the pants-fire statements:\\n{}\".format(pants_fire_st[1][:20]))"
   ]
  },
  {
   "cell_type": "markdown",
   "metadata": {},
   "source": [
    "We show the top 20 subjects in false statements."
   ]
  },
  {
   "cell_type": "code",
   "execution_count": 24,
   "metadata": {},
   "outputs": [
    {
     "name": "stdout",
     "output_type": "stream",
     "text": [
      "Top 20 subjects in false statements:\n",
      "health-care             331\n",
      "economy                 239\n",
      "taxes                   230\n",
      "federal-budget          183\n",
      "elections               173\n",
      "state-budget            169\n",
      "candidates-biography    166\n",
      "jobs                    164\n",
      "education               147\n",
      "immigration             133\n",
      "foreign-policy          119\n",
      "history                 111\n",
      "energy                  105\n",
      "legal-issues             97\n",
      "environment              92\n",
      "crime                    91\n",
      "terrorism                81\n",
      "job-accomplishments      81\n",
      "guns                     71\n",
      "transportation           68\n",
      "dtype: int64\n"
     ]
    }
   ],
   "source": [
    "print(\"Top 20 subjects in false statements:\\n{}\".format(false_st[1][:20]))"
   ]
  },
  {
   "cell_type": "markdown",
   "metadata": {},
   "source": [
    "We will combine both of them to create subjects in lie statements and we will show top 20 subjects in false and pants-fire statements."
   ]
  },
  {
   "cell_type": "code",
   "execution_count": 25,
   "metadata": {},
   "outputs": [],
   "source": [
    "# Combining both statement types and sum the counts\n",
    "lie_subjects = pd.concat([false_st[1][:20], pants_fire_st[1][:20]])\n",
    "lie_subjects = lie_subjects.groupby(lie_subjects.index).sum().sort_values(ascending=False)[:20]"
   ]
  },
  {
   "cell_type": "code",
   "execution_count": 26,
   "metadata": {},
   "outputs": [
    {
     "data": {
      "text/plain": [
       "Text(0.5,1,'Top 20 Subjects in Lies')"
      ]
     },
     "execution_count": 26,
     "metadata": {},
     "output_type": "execute_result"
    },
    {
     "data": {
      "image/png": "[encoded data removed]",
      "text/plain": [
       "<Figure size 1080x432 with 1 Axes>"
      ]
     },
     "metadata": {
      "needs_background": "light"
     },
     "output_type": "display_data"
    }
   ],
   "source": [
    "plt.figure(figsize=(15,6))\n",
    "lie_subjects.plot.bar()\n",
    "plt.xlabel('Subjects')\n",
    "plt.ylabel('Count of lies')\n",
    "plt.title('Top 20 Subjects in Lies')"
   ]
  },
  {
   "cell_type": "markdown",
   "metadata": {},
   "source": [
    "We observe that politicians and news sources lie mostly about health-care, taxes and economy. Candidates-biographies, unsurprisingly, are a common thing to lie about. "
   ]
  },
  {
   "cell_type": "markdown",
   "metadata": {},
   "source": [
    "### Q2. What are the most frequent words that used in lies?\n",
    "\n",
    "We count the words in the statements for false and pants-fire category. First, we get the counts of words in the statements for each target value. Then, we get the counts of words in pants-fire and false statements to determine the words are the most common in lies."
   ]
  },
  {
   "cell_type": "code",
   "execution_count": 27,
   "metadata": {},
   "outputs": [],
   "source": [
    "# Get the counts of the words that are most common in false and pants-fire statements.\n",
    "statement_word_counts = get_count_group('Statement', data_group_df, ' ', True)\n",
    "false_st_count = statement_word_counts[1][1]\n",
    "pants_fire_st_count = statement_word_counts[4][1]"
   ]
  },
  {
   "cell_type": "code",
   "execution_count": 28,
   "metadata": {
    "scrolled": true
   },
   "outputs": [
    {
     "name": "stdout",
     "output_type": "stream",
     "text": [
      "Top 10 words in false statements:\n",
      "the     2236\n",
      "to      1103\n",
      "in      1099\n",
      "of       977\n",
      "a        830\n",
      "says     599\n",
      "and      577\n",
      "for      494\n",
      "that     480\n",
      "is       470\n",
      "dtype: int64\n"
     ]
    }
   ],
   "source": [
    "print(\"Top 10 words in false statements:\\n{}\".format(false_st_count[:10]))"
   ]
  },
  {
   "cell_type": "markdown",
   "metadata": {},
   "source": [
    "Most of the words are stop words and meaningless for analysis. We need specific keywords. We get rid of stop words and try to reveal the relevant words for analysis. We use `NLTK` library to remove irrelevant words."
   ]
  },
  {
   "cell_type": "code",
   "execution_count": 29,
   "metadata": {},
   "outputs": [
    {
     "name": "stdout",
     "output_type": "stream",
     "text": [
      "[nltk_data] Downloading package stopwords to\n",
      "[nltk_data]     /Users/bengisuguresti/nltk_data...\n",
      "[nltk_data]   Package stopwords is already up-to-date!\n"
     ]
    }
   ],
   "source": [
    "# NLTK's stopWords\n",
    "nltk.download('stopwords')\n",
    "stopWords = list(set(stopwords.words('english')))"
   ]
  },
  {
   "cell_type": "code",
   "execution_count": 30,
   "metadata": {},
   "outputs": [
    {
     "data": {
      "text/plain": [
       "says          292\n",
       "obama         123\n",
       "president      92\n",
       "health         77\n",
       "care           75\n",
       "barack         70\n",
       "tax            63\n",
       "state          59\n",
       "said           58\n",
       "               58\n",
       "percent        55\n",
       "people         54\n",
       "bill           52\n",
       "new            47\n",
       "would          46\n",
       "u.s            45\n",
       "one            45\n",
       "wisconsin      39\n",
       "million        39\n",
       "years          39\n",
       "obamacare      38\n",
       "government     37\n",
       "states         36\n",
       "law            36\n",
       "jobs           36\n",
       "dtype: int64"
      ]
     },
     "execution_count": 30,
     "metadata": {},
     "output_type": "execute_result"
    }
   ],
   "source": [
    "# Get the words that are not in stopwords.\n",
    "pants_fire_st_count[~pants_fire_st_count.index.isin(stopWords)][:25]"
   ]
  },
  {
   "cell_type": "markdown",
   "metadata": {},
   "source": [
    "We will select top 10 specific words from this list by hand, because there are particular relationships between some words (some of the words are used together i.e. health-care, Barack Obama). Also some of the words are irrelevant or not interesting."
   ]
  },
  {
   "cell_type": "code",
   "execution_count": 31,
   "metadata": {},
   "outputs": [],
   "source": [
    "# Selected words from pants-fire statements.\n",
    "pants_fire_words = ['obama', 'health', 'tax', 'people', 'bill', 'new', 'u.s', 'wisconsin', 'obamacare', 'law']"
   ]
  },
  {
   "cell_type": "code",
   "execution_count": 32,
   "metadata": {},
   "outputs": [
    {
     "data": {
      "text/plain": [
       "says          599\n",
       "percent       194\n",
       "state         187\n",
       "obama         185\n",
       "health        178\n",
       "president     168\n",
       "tax           159\n",
       "care          152\n",
       "people        140\n",
       "years         130\n",
       "would         129\n",
       "new           115\n",
       "jobs          111\n",
       "states        110\n",
       "u.s           107\n",
       "barack        106\n",
       "government    106\n",
       "year          105\n",
       "bill          103\n",
       "billion        99\n",
       "budget         98\n",
       "one            96\n",
       "million        88\n",
       "said           87\n",
       "wisconsin      85\n",
       "dtype: int64"
      ]
     },
     "execution_count": 32,
     "metadata": {},
     "output_type": "execute_result"
    }
   ],
   "source": [
    "# Doing the same thing for false statements.\n",
    "false_st_count[~false_st_count.index.isin(stopWords)][:25]"
   ]
  },
  {
   "cell_type": "code",
   "execution_count": 33,
   "metadata": {},
   "outputs": [],
   "source": [
    "false_words = ['obama', 'health', 'tax', 'people', 'new', 'jobs', 'u.s', 'bill', 'budget', 'wisconsin']"
   ]
  },
  {
   "cell_type": "code",
   "execution_count": 34,
   "metadata": {},
   "outputs": [
    {
     "data": {
      "text/plain": [
       "Text(0.5,1,'Top 20 Specific Words in False Statements')"
      ]
     },
     "execution_count": 34,
     "metadata": {},
     "output_type": "execute_result"
    },
    {
     "data": {
      "image/png": "[encoded data removed]",
      "text/plain": [
       "<Figure size 720x432 with 1 Axes>"
      ]
     },
     "metadata": {
      "needs_background": "light"
     },
     "output_type": "display_data"
    }
   ],
   "source": [
    "plt.figure(figsize=(10,6))\n",
    "false_st_count[false_st_count.index.isin(false_words)].plot.bar()\n",
    "plt.xlabel('Subjects')\n",
    "plt.ylabel('Count of lies')\n",
    "plt.title('Top 20 Specific Words in False Statements')"
   ]
  },
  {
   "cell_type": "code",
   "execution_count": 35,
   "metadata": {},
   "outputs": [
    {
     "data": {
      "text/plain": [
       "Text(0.5,1,'Top 20 Specific Words in Pants-Fire Statements')"
      ]
     },
     "execution_count": 35,
     "metadata": {},
     "output_type": "execute_result"
    },
    {
     "data": {
      "image/png": "[encoded data removed]",
      "text/plain": [
       "<Figure size 720x432 with 1 Axes>"
      ]
     },
     "metadata": {
      "needs_background": "light"
     },
     "output_type": "display_data"
    }
   ],
   "source": [
    "plt.figure(figsize=(10,6))\n",
    "pants_fire_st_count[pants_fire_st_count.index.isin(pants_fire_words)].plot.bar()\n",
    "plt.xlabel('Subjects')\n",
    "plt.ylabel('Count of lies')\n",
    "plt.title('Top 20 Specific Words in Pants-Fire Statements')"
   ]
  },
  {
   "cell_type": "markdown",
   "metadata": {},
   "source": [
    "We observe that the Former U.S. President Barack Obama's name are the most common word in false and pants-fire statements. Also health-care and tax are very common words in lies. One of the interesting things in this dataset is that the word count of *Wisconsin* in lies is substantial. We can deduce that there are a lot of lies specifically told in Wisconsin or about Wisconsin. Finally, we can see that *Obamacare* is among the most common words in lies list. We think that people against this health reform told considerable amount of lies about this subject.  "
   ]
  },
  {
   "cell_type": "markdown",
   "metadata": {},
   "source": [
    "### Q3. What are the most frequent words that used in lies relating to specific subjects ?"
   ]
  },
  {
   "cell_type": "code",
   "execution_count": 50,
   "metadata": {},
   "outputs": [],
   "source": [
    "def make_word_series(df, col_filter, col_parse, string):\n",
    "    df_col = df[df[col_filter].str.contains(string, na=False)][col_parse]\n",
    "    word_series = pd.Series(str(v).split(' ') for v in df_col)\n",
    "    word_series = pd.Series([st for row in word_series for st in row])\n",
    "    word_series = word_series.str.lower().str.rstrip('.,\"”\\'').str.lstrip('\\'\\\"”')\n",
    "    word_series = word_series[~word_series.isin(stopWords)][~word_series.isin([''])]\n",
    "    return word_series"
   ]
  },
  {
   "cell_type": "code",
   "execution_count": 61,
   "metadata": {},
   "outputs": [],
   "source": [
    "lies_df = pd.concat([liar_dataframe[liar_dataframe.Label == 'false'], liar_dataframe[liar_dataframe.Label == 'pants-fire']])\n",
    "truth_df = pd.concat([liar_dataframe[liar_dataframe.Label == 'true'], liar_dataframe[liar_dataframe.Label == 'mostly-true']])"
   ]
  },
  {
   "cell_type": "markdown",
   "metadata": {},
   "source": [
    "#### Health-care: "
   ]
  },
  {
   "cell_type": "code",
   "execution_count": 62,
   "metadata": {},
   "outputs": [
    {
     "data": {
      "text/plain": [
       "health       230\n",
       "care         201\n",
       "says         102\n",
       "obamacare     87\n",
       "insurance     62\n",
       "dtype: int64"
      ]
     },
     "execution_count": 62,
     "metadata": {},
     "output_type": "execute_result"
    }
   ],
   "source": [
    "health_care_lies = make_word_series(lies_df, 'Subject', 'Statement', 'health-care')\n",
    "health_care_lie_counts = health_care_lies.value_counts()\n",
    "health_care_lie_counts.head()"
   ]
  },
  {
   "cell_type": "code",
   "execution_count": 63,
   "metadata": {},
   "outputs": [
    {
     "data": {
      "text/plain": [
       "health       183\n",
       "care         135\n",
       "insurance     69\n",
       "says          61\n",
       "percent       49\n",
       "dtype: int64"
      ]
     },
     "execution_count": 63,
     "metadata": {},
     "output_type": "execute_result"
    }
   ],
   "source": [
    "health_care_truth = make_word_series(truth_df, 'Subject', 'Statement', 'health-care')\n",
    "health_care_truth_counts = health_care_truth.value_counts()\n",
    "health_care_truth_counts.head()"
   ]
  },
  {
   "cell_type": "code",
   "execution_count": 89,
   "metadata": {},
   "outputs": [
    {
     "data": {
      "text/plain": [
       "Text(0.5,1,'Top 10 Frequent Words Used in Lies Relating to Health-Care')"
      ]
     },
     "execution_count": 89,
     "metadata": {},
     "output_type": "execute_result"
    },
    {
     "data": {
      "image/png": "[encoded data removed]",
      "text/plain": [
       "<Figure size 720x432 with 1 Axes>"
      ]
     },
     "metadata": {
      "needs_background": "light"
     },
     "output_type": "display_data"
    }
   ],
   "source": [
    "plt.figure(figsize=(10,6))\n",
    "health_care_lie_counts[0:10].plot.bar()\n",
    "plt.xlabel('Words')\n",
    "plt.ylabel('Word Counts')\n",
    "plt.title('Top 10 Frequent Words Used in Lies Relating to Health-Care')"
   ]
  },
  {
   "cell_type": "code",
   "execution_count": 106,
   "metadata": {},
   "outputs": [
    {
     "data": {
      "text/plain": [
       "Text(0.5,1,'Top 10 Frequent Words Used in Truths Relating to Health-Care')"
      ]
     },
     "execution_count": 106,
     "metadata": {},
     "output_type": "execute_result"
    },
    {
     "data": {
      "image/png": "[encoded data removed]",
      "text/plain": [
       "<Figure size 720x432 with 1 Axes>"
      ]
     },
     "metadata": {
      "needs_background": "light"
     },
     "output_type": "display_data"
    }
   ],
   "source": [
    "plt.figure(figsize=(10,6))\n",
    "health_care_truth_counts[0:10].plot.bar()\n",
    "plt.xlabel('Words')\n",
    "plt.ylabel('Word Counts')\n",
    "plt.title('Top 10 Frequent Words Used in Truths Relating to Health-Care')"
   ]
  },
  {
   "cell_type": "markdown",
   "metadata": {},
   "source": [
    "When top 10 frequent words relating to health-care are analyzed for lies and truths, it is found that some words in lies are not found in top words of truths. These words are 'law', 'medicare', 'would' and 'government'. It is also observed that ranks of some words in lies precede their ranks in truths. These words are 'says' and 'obamacare'."
   ]
  },
  {
   "cell_type": "markdown",
   "metadata": {},
   "source": [
    "#### Taxes: "
   ]
  },
  {
   "cell_type": "code",
   "execution_count": 64,
   "metadata": {},
   "outputs": [
    {
     "data": {
      "text/plain": [
       "tax        184\n",
       "says        88\n",
       "taxes       80\n",
       "percent     37\n",
       "income      32\n",
       "dtype: int64"
      ]
     },
     "execution_count": 64,
     "metadata": {},
     "output_type": "execute_result"
    }
   ],
   "source": [
    "taxes_lies = make_word_series(lies_df, 'Subject', 'Statement', 'taxes')\n",
    "taxes_lie_counts = taxes_lies.value_counts()\n",
    "taxes_lie_counts.head()"
   ]
  },
  {
   "cell_type": "code",
   "execution_count": 66,
   "metadata": {},
   "outputs": [
    {
     "data": {
      "text/plain": [
       "tax        248\n",
       "taxes      137\n",
       "says       100\n",
       "percent     93\n",
       "income      53\n",
       "dtype: int64"
      ]
     },
     "execution_count": 66,
     "metadata": {},
     "output_type": "execute_result"
    }
   ],
   "source": [
    "taxes_truth = make_word_series(truth_df, 'Subject', 'Statement', 'taxes')\n",
    "taxes_truth_counts = taxes_truth.value_counts()\n",
    "taxes_truth_counts.head()"
   ]
  },
  {
   "cell_type": "code",
   "execution_count": 91,
   "metadata": {},
   "outputs": [
    {
     "data": {
      "text/plain": [
       "Text(0.5,1,'Top 10 Frequent Words Used in Lies Relating to Taxes')"
      ]
     },
     "execution_count": 91,
     "metadata": {},
     "output_type": "execute_result"
    },
    {
     "data": {
      "image/png": "[encoded data removed]",
      "text/plain": [
       "<Figure size 720x432 with 1 Axes>"
      ]
     },
     "metadata": {
      "needs_background": "light"
     },
     "output_type": "display_data"
    }
   ],
   "source": [
    "plt.figure(figsize=(10,6))\n",
    "taxes_lie_counts[0:10].plot.bar()\n",
    "plt.xlabel('Words')\n",
    "plt.ylabel('Word Counts')\n",
    "plt.title('Top 10 Frequent Words Used in Lies Relating to Taxes')"
   ]
  },
  {
   "cell_type": "code",
   "execution_count": 92,
   "metadata": {},
   "outputs": [
    {
     "data": {
      "text/plain": [
       "Text(0.5,1,'Top 10 Frequent Words Used in Truth Relating to Taxes')"
      ]
     },
     "execution_count": 92,
     "metadata": {},
     "output_type": "execute_result"
    },
    {
     "data": {
      "image/png": "[encoded data removed]",
      "text/plain": [
       "<Figure size 720x432 with 1 Axes>"
      ]
     },
     "metadata": {
      "needs_background": "light"
     },
     "output_type": "display_data"
    }
   ],
   "source": [
    "plt.figure(figsize=(10,6))\n",
    "taxes_truth_counts[0:10].plot.bar()\n",
    "plt.xlabel('Words')\n",
    "plt.ylabel('Word Counts')\n",
    "plt.title('Top 10 Frequent Words Used in Truth Relating to Taxes')"
   ]
  },
  {
   "cell_type": "markdown",
   "metadata": {},
   "source": [
    "When top 10 frequent words relating to taxes are analyzed for lies and truths, it is found that only one word in lies is not found in top words of truths. It is 'increase'. It is also observed that ranks of no words in lies precedes its rank in truths."
   ]
  },
  {
   "cell_type": "markdown",
   "metadata": {},
   "source": [
    "#### Economy:"
   ]
  },
  {
   "cell_type": "code",
   "execution_count": 69,
   "metadata": {},
   "outputs": [
    {
     "data": {
      "text/plain": [
       "says            50\n",
       "jobs            50\n",
       "percent         33\n",
       "unemployment    29\n",
       "economy         25\n",
       "dtype: int64"
      ]
     },
     "execution_count": 69,
     "metadata": {},
     "output_type": "execute_result"
    }
   ],
   "source": [
    "economy_lies = make_word_series(lies_df, 'Subject', 'Statement', 'economy')\n",
    "economy_lie_counts = economy_lies.value_counts()\n",
    "economy_lie_counts.head()"
   ]
  },
  {
   "cell_type": "code",
   "execution_count": 72,
   "metadata": {},
   "outputs": [
    {
     "data": {
      "text/plain": [
       "percent    127\n",
       "jobs       104\n",
       "says        67\n",
       "years       53\n",
       "million     47\n",
       "dtype: int64"
      ]
     },
     "execution_count": 72,
     "metadata": {},
     "output_type": "execute_result"
    }
   ],
   "source": [
    "economy_truth = make_word_series(truth_df, 'Subject', 'Statement', 'economy')\n",
    "economy_truth_counts = economy_truth.value_counts()\n",
    "economy_truth_counts.head()"
   ]
  },
  {
   "cell_type": "code",
   "execution_count": 93,
   "metadata": {},
   "outputs": [
    {
     "data": {
      "text/plain": [
       "Text(0.5,1,'Top 10 Frequent Words Used in Lies Relating to Economy')"
      ]
     },
     "execution_count": 93,
     "metadata": {},
     "output_type": "execute_result"
    },
    {
     "data": {
      "image/png": "[encoded data removed]",
      "text/plain": [
       "<Figure size 720x432 with 1 Axes>"
      ]
     },
     "metadata": {
      "needs_background": "light"
     },
     "output_type": "display_data"
    }
   ],
   "source": [
    "plt.figure(figsize=(10,6))\n",
    "economy_lie_counts[0:10].plot.bar()\n",
    "plt.xlabel('Words')\n",
    "plt.ylabel('Word Counts')\n",
    "plt.title('Top 10 Frequent Words Used in Lies Relating to Economy')"
   ]
  },
  {
   "cell_type": "code",
   "execution_count": 114,
   "metadata": {},
   "outputs": [
    {
     "data": {
      "text/plain": [
       "Text(0.5,1,'Top 10 Frequent Words Used in Truth Relating to Economy')"
      ]
     },
     "execution_count": 114,
     "metadata": {},
     "output_type": "execute_result"
    },
    {
     "data": {
      "image/png": "[encoded data removed]",
      "text/plain": [
       "<Figure size 720x432 with 1 Axes>"
      ]
     },
     "metadata": {
      "needs_background": "light"
     },
     "output_type": "display_data"
    }
   ],
   "source": [
    "plt.figure(figsize=(10,6))\n",
    "economy_truth_counts[0:10].plot.bar()\n",
    "plt.xlabel('Words')\n",
    "plt.ylabel('Word Counts')\n",
    "plt.title('Top 10 Frequent Words Used in Truth Relating to Economy')"
   ]
  },
  {
   "cell_type": "markdown",
   "metadata": {},
   "source": [
    "When top 10 frequent words relating to ecomony are analyzed for lies and truths, it is found that some words in lies are not found in top words of truths. These words are 'tax', 'president', 'obama' and 'people'. It is also observed that ranks of some words in lies precede their rank in truths. These words are 'says', 'economy' and 'unemployment'."
   ]
  },
  {
   "cell_type": "markdown",
   "metadata": {},
   "source": [
    "#### Elections:"
   ]
  },
  {
   "cell_type": "code",
   "execution_count": 77,
   "metadata": {},
   "outputs": [
    {
     "data": {
      "text/plain": [
       "says         62\n",
       "vote         23\n",
       "president    20\n",
       "voter        19\n",
       "campaign     19\n",
       "dtype: int64"
      ]
     },
     "execution_count": 77,
     "metadata": {},
     "output_type": "execute_result"
    }
   ],
   "source": [
    "elections_lies = make_word_series(lies_df, 'Subject', 'Statement', 'elections')\n",
    "elections_lie_counts = elections_lies.value_counts()\n",
    "elections_lie_counts.head()"
   ]
  },
  {
   "cell_type": "code",
   "execution_count": 79,
   "metadata": {},
   "outputs": [
    {
     "data": {
      "text/plain": [
       "says          58\n",
       "percent       43\n",
       "vote          38\n",
       "republican    35\n",
       "state         32\n",
       "dtype: int64"
      ]
     },
     "execution_count": 79,
     "metadata": {},
     "output_type": "execute_result"
    }
   ],
   "source": [
    "elections_truth = make_word_series(truth_df, 'Subject', 'Statement', 'elections')\n",
    "elections_truth_counts = elections_truth.value_counts()\n",
    "elections_truth_counts.head()"
   ]
  },
  {
   "cell_type": "code",
   "execution_count": 108,
   "metadata": {},
   "outputs": [
    {
     "data": {
      "text/plain": [
       "Text(0.5,1,'Top 10 Frequent Words Used in Lies Relating to Elections')"
      ]
     },
     "execution_count": 108,
     "metadata": {},
     "output_type": "execute_result"
    },
    {
     "data": {
      "image/png": "[encoded data removed]",
      "text/plain": [
       "<Figure size 720x432 with 1 Axes>"
      ]
     },
     "metadata": {
      "needs_background": "light"
     },
     "output_type": "display_data"
    }
   ],
   "source": [
    "plt.figure(figsize=(10,6))\n",
    "elections_lie_counts[0:10].plot.bar()\n",
    "plt.xlabel('Words')\n",
    "plt.ylabel('Word Counts')\n",
    "plt.title('Top 10 Frequent Words Used in Lies Relating to Elections')"
   ]
  },
  {
   "cell_type": "code",
   "execution_count": 110,
   "metadata": {},
   "outputs": [
    {
     "data": {
      "text/plain": [
       "Text(0.5,1,'Top 10 Frequent Words Used in Truth Relating to Elections')"
      ]
     },
     "execution_count": 110,
     "metadata": {},
     "output_type": "execute_result"
    },
    {
     "data": {
      "image/png": "[encoded data removed]",
      "text/plain": [
       "<Figure size 720x432 with 1 Axes>"
      ]
     },
     "metadata": {
      "needs_background": "light"
     },
     "output_type": "display_data"
    }
   ],
   "source": [
    "plt.figure(figsize=(10,6))\n",
    "elections_truth_counts[0:10].plot.bar()\n",
    "plt.xlabel('Words')\n",
    "plt.ylabel('Word Counts')\n",
    "plt.title('Top 10 Frequent Words Used in Truth Relating to Elections')"
   ]
  },
  {
   "cell_type": "markdown",
   "metadata": {},
   "source": [
    "When top 10 frequent words relating to elections are analyzed for lies and truths, it is found that some words in lies are not found in top words of truths. These words are 'president', 'campaign', 'one', 'wisconsin and 'governor'. It is also observed that ranks of some words in lies precede their rank in truths. These words are 'vote' and 'voter'."
   ]
  },
  {
   "cell_type": "markdown",
   "metadata": {},
   "source": [
    "#### Immigration:"
   ]
  },
  {
   "cell_type": "code",
   "execution_count": 83,
   "metadata": {},
   "outputs": [
    {
     "data": {
      "text/plain": [
       "illegal        56\n",
       "says           50\n",
       "immigrants     35\n",
       "immigration    35\n",
       "border         26\n",
       "dtype: int64"
      ]
     },
     "execution_count": 83,
     "metadata": {},
     "output_type": "execute_result"
    }
   ],
   "source": [
    "immigration_lies = make_word_series(lies_df, 'Subject', 'Statement', 'immigration')\n",
    "immigration_lie_counts = immigration_lies.value_counts()\n",
    "immigration_lie_counts.head()"
   ]
  },
  {
   "cell_type": "code",
   "execution_count": 84,
   "metadata": {},
   "outputs": [
    {
     "data": {
      "text/plain": [
       "immigration    41\n",
       "says           41\n",
       "illegal        35\n",
       "immigrants     35\n",
       "border         30\n",
       "dtype: int64"
      ]
     },
     "execution_count": 84,
     "metadata": {},
     "output_type": "execute_result"
    }
   ],
   "source": [
    "immigration_truth = make_word_series(truth_df, 'Subject', 'Statement', 'immigration')\n",
    "immigration_truth_counts = immigration_truth.value_counts()\n",
    "immigration_truth_counts.head()"
   ]
  },
  {
   "cell_type": "code",
   "execution_count": 97,
   "metadata": {},
   "outputs": [
    {
     "data": {
      "text/plain": [
       "Text(0.5,1,'Top 10 Frequent Words Used in Lies Relating to Immigration')"
      ]
     },
     "execution_count": 97,
     "metadata": {},
     "output_type": "execute_result"
    },
    {
     "data": {
      "image/png": "[encoded data removed]",
      "text/plain": [
       "<Figure size 720x432 with 1 Axes>"
      ]
     },
     "metadata": {
      "needs_background": "light"
     },
     "output_type": "display_data"
    }
   ],
   "source": [
    "plt.figure(figsize=(10,6))\n",
    "immigration_lie_counts[0:10].plot.bar()\n",
    "plt.xlabel('Words')\n",
    "plt.ylabel('Word Counts')\n",
    "plt.title('Top 10 Frequent Words Used in Lies Relating to Immigration')"
   ]
  },
  {
   "cell_type": "code",
   "execution_count": 98,
   "metadata": {},
   "outputs": [
    {
     "data": {
      "text/plain": [
       "Text(0.5,1,'Top 10 Frequent Words Used in Truth Relating to Immigration')"
      ]
     },
     "execution_count": 98,
     "metadata": {},
     "output_type": "execute_result"
    },
    {
     "data": {
      "image/png": "[encoded data removed]",
      "text/plain": [
       "<Figure size 720x432 with 1 Axes>"
      ]
     },
     "metadata": {
      "needs_background": "light"
     },
     "output_type": "display_data"
    }
   ],
   "source": [
    "plt.figure(figsize=(10,6))\n",
    "immigration_truth_counts[0:10].plot.bar()\n",
    "plt.xlabel('Words')\n",
    "plt.ylabel('Word Counts')\n",
    "plt.title('Top 10 Frequent Words Used in Truth Relating to Immigration')"
   ]
  },
  {
   "cell_type": "markdown",
   "metadata": {},
   "source": [
    "When top 10 frequent words relating to immigration are analyzed for lies and truths, it is found that some words in lies are not found in top words of truths. These words are 'arizona', 'bill', and 'voted'. It is also observed that ranks of some words in lies precede their rank in truths. These words are 'illegal', and 'immigrants."
   ]
  },
  {
   "cell_type": "markdown",
   "metadata": {},
   "source": [
    "#### Education:"
   ]
  },
  {
   "cell_type": "code",
   "execution_count": 99,
   "metadata": {},
   "outputs": [
    {
     "data": {
      "text/plain": [
       "says         46\n",
       "school       44\n",
       "education    39\n",
       "schools      32\n",
       "percent      27\n",
       "dtype: int64"
      ]
     },
     "execution_count": 99,
     "metadata": {},
     "output_type": "execute_result"
    }
   ],
   "source": [
    "education_lies = make_word_series(lies_df, 'Subject', 'Statement', 'education')\n",
    "education_lie_counts = education_lies.value_counts()\n",
    "education_lie_counts.head()"
   ]
  },
  {
   "cell_type": "code",
   "execution_count": 100,
   "metadata": {},
   "outputs": [
    {
     "data": {
      "text/plain": [
       "says         90\n",
       "school       77\n",
       "percent      69\n",
       "education    60\n",
       "college      59\n",
       "dtype: int64"
      ]
     },
     "execution_count": 100,
     "metadata": {},
     "output_type": "execute_result"
    }
   ],
   "source": [
    "education_truth = make_word_series(truth_df, 'Subject', 'Statement', 'education')\n",
    "education_truth_counts = education_truth.value_counts()\n",
    "education_truth_counts.head()"
   ]
  },
  {
   "cell_type": "code",
   "execution_count": 101,
   "metadata": {},
   "outputs": [
    {
     "data": {
      "text/plain": [
       "Text(0.5,1,'Top 10 Frequent Words Used in Lies Relating to Education')"
      ]
     },
     "execution_count": 101,
     "metadata": {},
     "output_type": "execute_result"
    },
    {
     "data": {
      "image/png": "[encoded data removed]",
      "text/plain": [
       "<Figure size 720x432 with 1 Axes>"
      ]
     },
     "metadata": {
      "needs_background": "light"
     },
     "output_type": "display_data"
    }
   ],
   "source": [
    "plt.figure(figsize=(10,6))\n",
    "education_lie_counts[0:10].plot.bar()\n",
    "plt.xlabel('Words')\n",
    "plt.ylabel('Word Counts')\n",
    "plt.title('Top 10 Frequent Words Used in Lies Relating to Education')"
   ]
  },
  {
   "cell_type": "code",
   "execution_count": 102,
   "metadata": {},
   "outputs": [
    {
     "data": {
      "text/plain": [
       "Text(0.5,1,'Top 10 Frequent Words Used in Truth Relating to Education')"
      ]
     },
     "execution_count": 102,
     "metadata": {},
     "output_type": "execute_result"
    },
    {
     "data": {
      "image/png": "[encoded data removed]",
      "text/plain": [
       "<Figure size 720x432 with 1 Axes>"
      ]
     },
     "metadata": {
      "needs_background": "light"
     },
     "output_type": "display_data"
    }
   ],
   "source": [
    "plt.figure(figsize=(10,6))\n",
    "education_truth_counts[0:10].plot.bar()\n",
    "plt.xlabel('Words')\n",
    "plt.ylabel('Word Counts')\n",
    "plt.title('Top 10 Frequent Words Used in Truth Relating to Education')"
   ]
  },
  {
   "cell_type": "markdown",
   "metadata": {},
   "source": [
    "When top 10 frequent words relating to health-care are analyzed for lies and truths, it is found that there are no words in lies which are not found in top words of truths. It is also observed that ranks of some words in lies precede their rank in truths. These words are 'education', 'students', 'public', 'texas' and 'schools'."
   ]
  },
  {
   "cell_type": "code",
   "execution_count": 176,
   "metadata": {},
   "outputs": [
    {
     "data": {
      "text/plain": [
       "health-care             481\n",
       "taxes                   313\n",
       "economy                 312\n",
       "candidates-biography    261\n",
       "elections               248\n",
       "federal-budget          226\n",
       "state-budget            225\n",
       "jobs                    209\n",
       "immigration             199\n",
       "education               195\n",
       "foreign-policy          177\n",
       "history                 171\n",
       "energy                  141\n",
       "crime                   140\n",
       "environment             129\n",
       "terrorism               122\n",
       "legal-issues             97\n",
       "job-accomplishments      81\n",
       "guns                     71\n",
       "transportation           68\n",
       "dtype: int64"
      ]
     },
     "execution_count": 176,
     "metadata": {},
     "output_type": "execute_result"
    }
   ],
   "source": [
    "lie_subjects"
   ]
  },
  {
   "cell_type": "markdown",
   "metadata": {},
   "source": [
    "Overall, it can be deduced that top words in both lies and truths are the words related to the category and therefore expected. Eventhough there are difference of ranks in top words of lies and truths, this difference is not enough to deduce that a sentence with a given word has a higher chance of being true or a lie."
   ]
  },
  {
   "cell_type": "markdown",
   "metadata": {},
   "source": [
    "### Q4. What is the number of lies told in each state ?"
   ]
  },
  {
   "cell_type": "markdown",
   "metadata": {},
   "source": [
    "We will count the number of false and pants-fire statements made in each state. Also, in order to remove places which are not a state of United States, we maintain a list of state names of United States. "
   ]
  },
  {
   "cell_type": "code",
   "execution_count": 634,
   "metadata": {},
   "outputs": [],
   "source": [
    "# State names list\n",
    "with open('data/state_names.pkl', 'rb') as f:\n",
    "    states = pickle.load(f)"
   ]
  },
  {
   "cell_type": "markdown",
   "metadata": {},
   "source": [
    "First, we get the counts of false and pants-fire statements made in each state. Then, we concat them to create lie counts for each state."
   ]
  },
  {
   "cell_type": "code",
   "execution_count": 635,
   "metadata": {},
   "outputs": [],
   "source": [
    "# Get the counts of false and pants-fire statements for each state\n",
    "state_counts = get_count_group('State', data_group_df, '', True)\n",
    "false_st_states = state_counts[1][1]\n",
    "pants_fire_states = state_counts[4][1]\n",
    "\n",
    "# Concat false and pants-fire statements\n",
    "lie_states = pd.concat([false_st_states, pants_fire_states])\n",
    "lie_states = lie_states.groupby(lie_states.index).sum()\n",
    "\n",
    "# Convert it to a dataframe\n",
    "lie_states = pd.DataFrame(lie_states)\n",
    "\n",
    "# Remove state name as an index\n",
    "lie_states = lie_states.reset_index()"
   ]
  },
  {
   "cell_type": "code",
   "execution_count": 636,
   "metadata": {},
   "outputs": [
    {
     "data": {
      "text/html": [
       "<div>\n",
       "<style scoped>\n",
       "    .dataframe tbody tr th:only-of-type {\n",
       "        vertical-align: middle;\n",
       "    }\n",
       "\n",
       "    .dataframe tbody tr th {\n",
       "        vertical-align: top;\n",
       "    }\n",
       "\n",
       "    .dataframe thead th {\n",
       "        text-align: right;\n",
       "    }\n",
       "</style>\n",
       "<table border=\"1\" class=\"dataframe\">\n",
       "  <thead>\n",
       "    <tr style=\"text-align: right;\">\n",
       "      <th></th>\n",
       "      <th>index</th>\n",
       "      <th>0</th>\n",
       "    </tr>\n",
       "  </thead>\n",
       "  <tbody>\n",
       "    <tr>\n",
       "      <th>0</th>\n",
       "      <td>Alabama</td>\n",
       "      <td>7</td>\n",
       "    </tr>\n",
       "    <tr>\n",
       "      <th>1</th>\n",
       "      <td>Alaska</td>\n",
       "      <td>34</td>\n",
       "    </tr>\n",
       "    <tr>\n",
       "      <th>2</th>\n",
       "      <td>Arizona</td>\n",
       "      <td>60</td>\n",
       "    </tr>\n",
       "    <tr>\n",
       "      <th>3</th>\n",
       "      <td>Arkansas</td>\n",
       "      <td>20</td>\n",
       "    </tr>\n",
       "    <tr>\n",
       "      <th>4</th>\n",
       "      <td>California</td>\n",
       "      <td>47</td>\n",
       "    </tr>\n",
       "  </tbody>\n",
       "</table>\n",
       "</div>"
      ],
      "text/plain": [
       "        index   0\n",
       "0     Alabama   7\n",
       "1      Alaska  34\n",
       "2     Arizona  60\n",
       "3    Arkansas  20\n",
       "4  California  47"
      ]
     },
     "execution_count": 636,
     "metadata": {},
     "output_type": "execute_result"
    }
   ],
   "source": [
    "lie_states.head()"
   ]
  },
  {
   "cell_type": "code",
   "execution_count": 637,
   "metadata": {},
   "outputs": [],
   "source": [
    "# Rename the new columns\n",
    "lie_states = lie_states.rename({\"index\":\"id\", 0: \"Lies\"}, axis='columns')"
   ]
  },
  {
   "cell_type": "code",
   "execution_count": 638,
   "metadata": {},
   "outputs": [],
   "source": [
    "# If the place is a state of United States\n",
    "lie_states = lie_states[lie_states['id'].isin(states)]"
   ]
  },
  {
   "cell_type": "code",
   "execution_count": 639,
   "metadata": {},
   "outputs": [],
   "source": [
    "# Sort the dataset w.r.t lie counts\n",
    "lie_states = lie_states.sort_values(by=['Lies'], ascending=False)\n",
    "\n",
    "# Make state name index\n",
    "lie_states.set_index('id', inplace=True)"
   ]
  },
  {
   "cell_type": "code",
   "execution_count": 640,
   "metadata": {},
   "outputs": [
    {
     "data": {
      "text/html": [
       "<div>\n",
       "<style scoped>\n",
       "    .dataframe tbody tr th:only-of-type {\n",
       "        vertical-align: middle;\n",
       "    }\n",
       "\n",
       "    .dataframe tbody tr th {\n",
       "        vertical-align: top;\n",
       "    }\n",
       "\n",
       "    .dataframe thead th {\n",
       "        text-align: right;\n",
       "    }\n",
       "</style>\n",
       "<table border=\"1\" class=\"dataframe\">\n",
       "  <thead>\n",
       "    <tr style=\"text-align: right;\">\n",
       "      <th></th>\n",
       "      <th>Lies</th>\n",
       "    </tr>\n",
       "    <tr>\n",
       "      <th>id</th>\n",
       "      <th></th>\n",
       "    </tr>\n",
       "  </thead>\n",
       "  <tbody>\n",
       "    <tr>\n",
       "      <th>Texas</th>\n",
       "      <td>333</td>\n",
       "    </tr>\n",
       "    <tr>\n",
       "      <th>Wisconsin</th>\n",
       "      <td>291</td>\n",
       "    </tr>\n",
       "    <tr>\n",
       "      <th>Florida</th>\n",
       "      <td>273</td>\n",
       "    </tr>\n",
       "    <tr>\n",
       "      <th>New York</th>\n",
       "      <td>272</td>\n",
       "    </tr>\n",
       "    <tr>\n",
       "      <th>Virginia</th>\n",
       "      <td>147</td>\n",
       "    </tr>\n",
       "  </tbody>\n",
       "</table>\n",
       "</div>"
      ],
      "text/plain": [
       "           Lies\n",
       "id             \n",
       "Texas       333\n",
       "Wisconsin   291\n",
       "Florida     273\n",
       "New York    272\n",
       "Virginia    147"
      ]
     },
     "execution_count": 640,
     "metadata": {},
     "output_type": "execute_result"
    }
   ],
   "source": [
    "lie_states.head()"
   ]
  },
  {
   "cell_type": "markdown",
   "metadata": {},
   "source": [
    "We can see that the top 5 state which have the largest number of lie statements are Texas, Wisconsin, Florida, New York and Virginia. We can deduce that since Texas and New York are among the largest states of United States, the number of false and pants-fire statements made in these states are high unsurprisingly. However, although Wisconsin is a small state, it has a huge number of lies interestingly. We show the number of lies told in each state in a bar chart below."
   ]
  },
  {
   "cell_type": "code",
   "execution_count": 641,
   "metadata": {},
   "outputs": [
    {
     "data": {
      "text/plain": [
       "Text(0.5,1.03,'Number of Lies told in Each State')"
      ]
     },
     "execution_count": 641,
     "metadata": {},
     "output_type": "execute_result"
    },
    {
     "data": {
      "image/png": "[encoded data removed]",
      "text/plain": [
       "<matplotlib.figure.Figure at 0x1a38e6c4a8>"
      ]
     },
     "metadata": {},
     "output_type": "display_data"
    }
   ],
   "source": [
    "# Show the bar chart\n",
    "lie_states.sort_values(by=['Lies'], ascending=True).plot.barh(legend=None, figsize=(10,12))\n",
    "plt.ylabel('States')\n",
    "plt.xlabel('Number of Lies')\n",
    "plt.title('Number of Lies told in Each State', y=1.03)"
   ]
  },
  {
   "cell_type": "markdown",
   "metadata": {},
   "source": [
    "Also we show the number of false and pants-fire statements made in each state in a `Folium` map. "
   ]
  },
  {
   "cell_type": "code",
   "execution_count": 643,
   "metadata": {},
   "outputs": [],
   "source": [
    "# Get the GeoJson File\n",
    "geo_json = json.load(open('data/us-states.json'))\n",
    "\n",
    "# Convert indices to column for folium\n",
    "lie_states = lie_states.reset_index()\n",
    "\n",
    "us_map = folium.Map(location=[40, -102], zoom_start=4)\n",
    "\n",
    "us_map.choropleth(geo_data=geo_json, \n",
    "                  data=lie_states,\n",
    "                  columns=['id', 'Lies'],\n",
    "                  key_on='feature.properties.name',\n",
    "                  fill_color='YlGn',\n",
    "                  fill_opacity=0.7,\n",
    "                  line_opacity=0.2,\n",
    "                  legend_name='Number of Lies'\n",
    "                 )\n",
    "\n",
    "us_map.save('static/map.html')"
   ]
  },
  {
   "cell_type": "code",
   "execution_count": 695,
   "metadata": {},
   "outputs": [
    {
     "data": {
      "text/html": [
       "<iframe src=static/map.html width=800 height=500></iframe>"
      ],
      "text/plain": [
       "<IPython.core.display.HTML object>"
      ]
     },
     "execution_count": 695,
     "metadata": {},
     "output_type": "execute_result"
    }
   ],
   "source": [
    "from IPython.display import HTML\n",
    "HTML('<iframe src=static/map.html width=800 height=500></iframe>')"
   ]
  },
  {
   "cell_type": "markdown",
   "metadata": {},
   "source": [
    "### Q5. Do republicans and democrats tell lies more in the states that they won or they lost ?"
   ]
  },
  {
   "cell_type": "code",
   "execution_count": 656,
   "metadata": {},
   "outputs": [],
   "source": [
    "# Dictionary from State Name to State Code like CA, AL etc.\n",
    "with open(\"data/us_abbrev.pkl\", \"rb\") as input_file:\n",
    "    US_state_to_code = pickle.load(input_file)"
   ]
  },
  {
   "cell_type": "code",
   "execution_count": 657,
   "metadata": {},
   "outputs": [],
   "source": [
    "US_state_to_code['Florida ']='FL'"
   ]
  },
  {
   "cell_type": "code",
   "execution_count": 658,
   "metadata": {},
   "outputs": [],
   "source": [
    "# get count of a given column per each label category\n",
    "# Data having dates between min_date and max_date filtered\n",
    "# Political View: Democrat - Republican can also be filtered by 'party' parameter\n",
    "\n",
    "def get_count_group_by_years(min_date,max_date,col_num, df, delimiter, get_all, party,n=0):\n",
    "    result = []\n",
    "    i = 0\n",
    "    for group in df:\n",
    "        group[1]['Date'] = pd.to_datetime(group[1]['Date'])\n",
    "        col = group[1].loc[np.logical_and(group[1]['Date']>min_date , group[1]['Date']<max_date)]\n",
    "        col = col.loc[col['The Party Affiliation']==party]\n",
    "        col = col[col_num]\n",
    "        if(len(delimiter) > 0):\n",
    "            if(get_all):\n",
    "                elements = pd.Series(str(v).split(delimiter) for v in col)\n",
    "            else:\n",
    "                elements = pd.Series(str(v).split(delimiter) for v in col)\n",
    "            elements = [st for row in elements for st in row]\n",
    "            element_values = pd.Series(elements).str.lower().str.rstrip('.,\"”\\'').str.lstrip('\\'\\\"”').value_counts()\n",
    "        else:\n",
    "            elements = pd.Series(v for v in col)\n",
    "            elements = [st for st in elements]\n",
    "            element_values = pd.Series(elements).value_counts()\n",
    "        result.append([])\n",
    "        result[i].append(group[0])\n",
    "        result[i].append(element_values)\n",
    "        i = i + 1\n",
    "    return result"
   ]
  },
  {
   "cell_type": "markdown",
   "metadata": {},
   "source": [
    "Dataset is grouped according to its truth label."
   ]
  },
  {
   "cell_type": "code",
   "execution_count": 659,
   "metadata": {},
   "outputs": [],
   "source": [
    "# grouping all statements data by label\n",
    "data_group_df = liar_dataframe.groupby('Label')"
   ]
  },
  {
   "cell_type": "markdown",
   "metadata": {},
   "source": [
    "Official Dates of US Elections are assigned to variables **date_year**_election."
   ]
  },
  {
   "cell_type": "code",
   "execution_count": 660,
   "metadata": {},
   "outputs": [],
   "source": [
    "date_2008_election = datetime(2008, 11, 4, 0, 0)\n",
    "date_2012_election = datetime(2012, 11, 6, 0, 0)\n",
    "date_2016_election = datetime(2016, 11, 8, 0, 0)"
   ]
  },
  {
   "cell_type": "markdown",
   "metadata": {},
   "source": [
    "state\\_counts\\_\"year\"_\"politicView\" = number of statements grouped by states where (democrat or republican)speakers given their speeches between last election and the election in \"year\" grouped by the truth labels.\n",
    "\n",
    "For instance: For state_counts_2012_democrat, data samples between 'date_2008_election' and 'date_2012_election' and said by a democrat are filtered. "
   ]
  },
  {
   "cell_type": "code",
   "execution_count": 661,
   "metadata": {},
   "outputs": [
    {
     "name": "stderr",
     "output_type": "stream",
     "text": [
      "/Users/canaltinigne/anaconda3/lib/python3.6/site-packages/ipykernel_launcher.py:9: SettingWithCopyWarning: \n",
      "A value is trying to be set on a copy of a slice from a DataFrame.\n",
      "Try using .loc[row_indexer,col_indexer] = value instead\n",
      "\n",
      "See the caveats in the documentation: http://pandas.pydata.org/pandas-docs/stable/indexing.html#indexing-view-versus-copy\n",
      "  if __name__ == '__main__':\n"
     ]
    }
   ],
   "source": [
    "#count of states where (democrat or republican)speakers said their statements grouped by the truth labels 2012 \n",
    "state_counts_2012_democrat = get_count_group_by_years(date_2008_election,date_2012_election,'State',\\\n",
    "                                                 data_group_df, '', True,'democrat')\n",
    "state_counts_2012_republican = get_count_group_by_years(date_2008_election,date_2012_election,'State',\\\n",
    "                                                 data_group_df, '', True,'republican')\n",
    "\n",
    "#count of states where (democrat or republican)speakers said their statements grouped by the truth labels 2016\n",
    "state_counts_2016_democrat = get_count_group_by_years(date_2012_election,date_2016_election,'State',\\\n",
    "                                                 data_group_df, '', True,'democrat')\n",
    "state_counts_2016_republican = get_count_group_by_years(date_2012_election,date_2016_election,'State',\\\n",
    "                                                 data_group_df, '', True,'republican')"
   ]
  },
  {
   "cell_type": "code",
   "execution_count": 662,
   "metadata": {},
   "outputs": [
    {
     "name": "stdout",
     "output_type": "stream",
     "text": [
      "Label: barely-true\n",
      "State Counts:\n",
      " Illinois            38\n",
      "Florida             33\n",
      "Texas               29\n",
      "Wisconsin           24\n",
      "Rhode Island        16\n",
      "Virginia            12\n",
      "New Jersey          12\n",
      "Ohio                11\n",
      "Oregon              10\n",
      "Georgia              9\n",
      "New Hampshire        7\n",
      "California           4\n",
      "Massachusetts        4\n",
      "Delaware             4\n",
      "New York             4\n",
      "Arkansas             3\n",
      "Nevada               3\n",
      "Pennsylvania         2\n",
      "Tennessee            1\n",
      "Washington, D.C.     1\n",
      "Louisiana            1\n",
      "South Carolina       1\n",
      "Indiana              1\n",
      "dtype: int64\n"
     ]
    }
   ],
   "source": [
    "print('Label:',state_counts_2012_democrat[0][0])\n",
    "print('State Counts:\\n',state_counts_2012_democrat[0][1])"
   ]
  },
  {
   "cell_type": "markdown",
   "metadata": {},
   "source": [
    "#### Calculation of Number of Lies Said in Each State<br>\n",
    "\n",
    "We determined the number of lies said by democrats or republicans starting from the last election until the current election. (For 2012: 2008 - 2012)<br>\n",
    "We converted the state names to state codes, since the election results have state column as state code."
   ]
  },
  {
   "cell_type": "code",
   "execution_count": 663,
   "metadata": {},
   "outputs": [],
   "source": [
    "#2012 election - Democrat\n",
    "# Number of \"pants fire\" and \"false\" statements said in each state are summed. \n",
    "lie_count_2012_democrat = state_counts_2012_democrat[1][1].add(state_counts_2012_democrat[4][1], fill_value=0)\n",
    "#set state codes as index\n",
    "lie_count_2012_democrat.index=[US_state_to_code[state] for state in lie_count_2012_democrat.index]\n",
    "\n",
    "#2012 election - Republican\n",
    "# Number of \"pants fire\" and \"false\" statements said in each state are summed. \n",
    "lie_count_2012_republican = state_counts_2012_republican[1][1].add(state_counts_2012_republican[4][1], fill_value=0)\n",
    "#set state codes as index\n",
    "lie_count_2012_republican.index=[US_state_to_code[state] for state in lie_count_2012_republican.index]\n",
    "\n",
    "#same process for 2016 presidental election\n",
    "lie_count_2016_democrat = state_counts_2016_democrat[1][1].add(state_counts_2016_democrat[4][1], fill_value=0)\n",
    "lie_count_2016_democrat.index=[US_state_to_code[state] for state in lie_count_2016_democrat.index]\n",
    "lie_count_2016_republican = state_counts_2016_republican[1][1].add(state_counts_2016_republican[4][1], fill_value=0)\n",
    "lie_count_2016_republican.index=[US_state_to_code[state] for state in lie_count_2016_republican.index]"
   ]
  },
  {
   "cell_type": "code",
   "execution_count": 664,
   "metadata": {},
   "outputs": [
    {
     "name": "stdout",
     "output_type": "stream",
     "text": [
      "Lies said by democrats starting from 2012 until 2016 election:\n",
      " AK     1.0\n",
      "AR     1.0\n",
      "CA    11.0\n",
      "DE     3.0\n",
      "FL    34.0\n",
      "dtype: float64\n"
     ]
    }
   ],
   "source": [
    "print(\"Lies said by democrats starting from 2012 until 2016 election:\\n\",lie_count_2016_democrat.head())"
   ]
  },
  {
   "cell_type": "markdown",
   "metadata": {},
   "source": [
    "#### Number of lies in states where the republicans won and lost. (2012-2016)\n",
    "We calculated the number of lies said by democrats and republicans in the states where they won and lost in 2012 and 2016.\n",
    "In these dataframes, indices are the US State Codes and the only column is 'Lie Count'.\n",
    "State column is set as the index of the dataframes so that the lie counts calculated in the previous step can be assigned to each each state won or lost by democrats or republicans.  "
   ]
  },
  {
   "cell_type": "code",
   "execution_count": 665,
   "metadata": {},
   "outputs": [],
   "source": [
    "# initialize dataframes for states won by democrats and republicans\n",
    "won_states_democrat_2012=pd.DataFrame()\n",
    "lost_states_democrat_2012=pd.DataFrame()\n",
    "won_states_republican_2012=pd.DataFrame()\n",
    "lost_states_republican_2012=pd.DataFrame()\n",
    "\n",
    "# Number of lies said by democrats in the states where they won the election in 2012.\n",
    "won_states_democrat_2012['STATE'] = votes_2012.loc[votes_2012['Winner'] == 'D']['STATE']\n",
    "won_states_democrat_2012 = won_states_democrat_2012.set_index('STATE')\n",
    "lie_count_2012_democrat = lie_count_2012_democrat[~lie_count_2012_democrat.index.duplicated()]\n",
    "won_states_democrat_2012['Lie Count'] = lie_count_2012_democrat.to_frame()[0]\n",
    "won_states_democrat_2012 = won_states_democrat_2012.fillna(0)\n",
    "\n",
    "# Number of lies said by democrats in the states where they lost the election in 2012.\n",
    "lost_states_democrat_2012['STATE'] = votes_2012.loc[votes_2012['Winner'] == 'R']['STATE']\n",
    "lost_states_democrat_2012 = lost_states_democrat_2012.set_index('STATE')\n",
    "lost_states_democrat_2012['Lie Count'] = lie_count_2012_democrat.to_frame()[0]\n",
    "lost_states_democrat_2012 = lost_states_democrat_2012.fillna(0)\n",
    "\n",
    "# Number of lies said by republicans in the states where they won the election in 2012.\n",
    "won_states_republican_2012['STATE'] = votes_2012.loc[votes_2012['Winner'] == 'R']['STATE']\n",
    "won_states_republican_2012 = won_states_republican_2012.set_index('STATE')\n",
    "lie_count_2012_republican = lie_count_2012_republican[~lie_count_2012_republican.index.duplicated()]\n",
    "won_states_republican_2012['Lie Count'] = lie_count_2012_republican.to_frame()[0]\n",
    "won_states_republican_2012 = won_states_republican_2012.fillna(0)\n",
    "\n",
    "# Number of lies said by republicans in the states where they lost the election in 2012.\n",
    "lost_states_republican_2012['STATE'] = votes_2012.loc[votes_2012['Winner'] == 'D']['STATE']\n",
    "lost_states_republican_2012 = lost_states_republican_2012.set_index('STATE')\n",
    "lost_states_republican_2012['Lie Count'] = lie_count_2012_republican.to_frame()[0]\n",
    "lost_states_republican_2012 = lost_states_republican_2012.fillna(0)"
   ]
  },
  {
   "cell_type": "code",
   "execution_count": 666,
   "metadata": {},
   "outputs": [
    {
     "data": {
      "text/html": [
       "<div>\n",
       "<style scoped>\n",
       "    .dataframe tbody tr th:only-of-type {\n",
       "        vertical-align: middle;\n",
       "    }\n",
       "\n",
       "    .dataframe tbody tr th {\n",
       "        vertical-align: top;\n",
       "    }\n",
       "\n",
       "    .dataframe thead th {\n",
       "        text-align: right;\n",
       "    }\n",
       "</style>\n",
       "<table border=\"1\" class=\"dataframe\">\n",
       "  <thead>\n",
       "    <tr style=\"text-align: right;\">\n",
       "      <th></th>\n",
       "      <th>Lie Count</th>\n",
       "    </tr>\n",
       "    <tr>\n",
       "      <th>STATE</th>\n",
       "      <th></th>\n",
       "    </tr>\n",
       "  </thead>\n",
       "  <tbody>\n",
       "    <tr>\n",
       "      <th>CA</th>\n",
       "      <td>10.0</td>\n",
       "    </tr>\n",
       "    <tr>\n",
       "      <th>CO</th>\n",
       "      <td>1.0</td>\n",
       "    </tr>\n",
       "    <tr>\n",
       "      <th>CT</th>\n",
       "      <td>1.0</td>\n",
       "    </tr>\n",
       "    <tr>\n",
       "      <th>DE</th>\n",
       "      <td>2.0</td>\n",
       "    </tr>\n",
       "    <tr>\n",
       "      <th>DC</th>\n",
       "      <td>1.0</td>\n",
       "    </tr>\n",
       "  </tbody>\n",
       "</table>\n",
       "</div>"
      ],
      "text/plain": [
       "       Lie Count\n",
       "STATE           \n",
       "CA          10.0\n",
       "CO           1.0\n",
       "CT           1.0\n",
       "DE           2.0\n",
       "DC           1.0"
      ]
     },
     "execution_count": 666,
     "metadata": {},
     "output_type": "execute_result"
    }
   ],
   "source": [
    "lost_states_republican_2012.head()"
   ]
  },
  {
   "cell_type": "code",
   "execution_count": 667,
   "metadata": {},
   "outputs": [],
   "source": [
    "# initialize dataframes for states won by democrats and republicans\n",
    "won_states_democrat_2016=pd.DataFrame()\n",
    "lost_states_democrat_2016=pd.DataFrame()\n",
    "won_states_republican_2016=pd.DataFrame()\n",
    "lost_states_republican_2016=pd.DataFrame()\n",
    "\n",
    "# Number of lies said by democrats in the states where they won the election in 2016.\n",
    "won_states_democrat_2016['STATE'] = votes_2016.loc[votes_2016['Winner'] == 'D']['STATE']\n",
    "won_states_democrat_2016 = won_states_democrat_2016.set_index('STATE')\n",
    "lie_count_2016_democrat = lie_count_2016_democrat[~lie_count_2016_democrat.index.duplicated()]\n",
    "won_states_democrat_2016['Lie Count'] = lie_count_2016_democrat.to_frame()[0]\n",
    "won_states_democrat_2016 = won_states_democrat_2016.fillna(0)\n",
    "\n",
    "# Number of lies said by democrats in the states where they lost the election in 2016.\n",
    "lost_states_democrat_2016['STATE'] = votes_2016.loc[votes_2016['Winner'] == 'R']['STATE']\n",
    "lost_states_democrat_2016 = lost_states_democrat_2016.set_index('STATE')\n",
    "lost_states_democrat_2016['Lie Count'] = lie_count_2016_democrat.to_frame()[0]\n",
    "lost_states_democrat_2016 = lost_states_democrat_2016.fillna(0)\n",
    "\n",
    "# Number of lies said by republicans in the states where they won the election in 2016.\n",
    "won_states_republican_2016['STATE'] = votes_2016.loc[votes_2016['Winner'] == 'R']['STATE']\n",
    "won_states_republican_2016 = won_states_republican_2016.set_index('STATE')\n",
    "lie_count_2016_republican = lie_count_2016_republican[~lie_count_2016_republican.index.duplicated()]\n",
    "won_states_republican_2016['Lie Count'] = lie_count_2016_republican.to_frame()[0]\n",
    "won_states_republican_2016 = won_states_republican_2016.fillna(0)\n",
    "\n",
    "# Number of lies said by republicans in the states where they lost the election in 2016.\n",
    "lost_states_republican_2016['STATE'] = votes_2016.loc[votes_2016['Winner'] == 'D']['STATE']\n",
    "lost_states_republican_2016 = lost_states_republican_2016.set_index('STATE')\n",
    "lost_states_republican_2016['Lie Count'] = lie_count_2016_republican.to_frame()[0]\n",
    "lost_states_republican_2016 = lost_states_republican_2016.fillna(0)"
   ]
  },
  {
   "cell_type": "code",
   "execution_count": 668,
   "metadata": {},
   "outputs": [
    {
     "data": {
      "text/html": [
       "<div>\n",
       "<style scoped>\n",
       "    .dataframe tbody tr th:only-of-type {\n",
       "        vertical-align: middle;\n",
       "    }\n",
       "\n",
       "    .dataframe tbody tr th {\n",
       "        vertical-align: top;\n",
       "    }\n",
       "\n",
       "    .dataframe thead th {\n",
       "        text-align: right;\n",
       "    }\n",
       "</style>\n",
       "<table border=\"1\" class=\"dataframe\">\n",
       "  <thead>\n",
       "    <tr style=\"text-align: right;\">\n",
       "      <th></th>\n",
       "      <th>Lie Count</th>\n",
       "    </tr>\n",
       "    <tr>\n",
       "      <th>STATE</th>\n",
       "      <th></th>\n",
       "    </tr>\n",
       "  </thead>\n",
       "  <tbody>\n",
       "    <tr>\n",
       "      <th>AL</th>\n",
       "      <td>2.0</td>\n",
       "    </tr>\n",
       "    <tr>\n",
       "      <th>AK</th>\n",
       "      <td>10.0</td>\n",
       "    </tr>\n",
       "    <tr>\n",
       "      <th>AZ</th>\n",
       "      <td>2.0</td>\n",
       "    </tr>\n",
       "    <tr>\n",
       "      <th>AR</th>\n",
       "      <td>7.0</td>\n",
       "    </tr>\n",
       "    <tr>\n",
       "      <th>FL</th>\n",
       "      <td>62.0</td>\n",
       "    </tr>\n",
       "  </tbody>\n",
       "</table>\n",
       "</div>"
      ],
      "text/plain": [
       "       Lie Count\n",
       "STATE           \n",
       "AL           2.0\n",
       "AK          10.0\n",
       "AZ           2.0\n",
       "AR           7.0\n",
       "FL          62.0"
      ]
     },
     "execution_count": 668,
     "metadata": {},
     "output_type": "execute_result"
    }
   ],
   "source": [
    "won_states_republican_2016.head()"
   ]
  },
  {
   "cell_type": "markdown",
   "metadata": {},
   "source": [
    "We compare the means of lies in the states that Republicans and Democrats win and the states that they lose in 2012 and 2016 elections in order to determine in which type of states that they lie more. Since the standard deviation of the lie samples for both type of states have unequal variances and unequal sample sizes, we decide to use Welch's T-Test to compare means of the samples. We select the significance level as 0.05."
   ]
  },
  {
   "cell_type": "markdown",
   "metadata": {},
   "source": [
    "* ### Welch's T-Test between Lies said by Democrats in Won and Lost states 2012"
   ]
  },
  {
   "cell_type": "code",
   "execution_count": 669,
   "metadata": {},
   "outputs": [
    {
     "data": {
      "image/png": "[encoded data removed]",
      "text/plain": [
       "<matplotlib.figure.Figure at 0x1a39dbba58>"
      ]
     },
     "metadata": {},
     "output_type": "display_data"
    }
   ],
   "source": [
    "fig, ax = plt.subplots()\n",
    "ax.set_title('Lies by Democrats in each state where they won and lost in 2012')\n",
    "ax.boxplot([won_states_democrat_2012['Lie Count'],lost_states_democrat_2012['Lie Count']])\n",
    "plt.xlabel('1: Win                2:Lost', fontsize=18)\n",
    "plt.show()"
   ]
  },
  {
   "cell_type": "code",
   "execution_count": 670,
   "metadata": {},
   "outputs": [
    {
     "data": {
      "text/plain": [
       "count    27.000000\n",
       "mean     12.259259\n",
       "std      17.603742\n",
       "min       0.000000\n",
       "25%       1.000000\n",
       "50%       3.000000\n",
       "75%      21.000000\n",
       "max      57.000000\n",
       "Name: Lie Count, dtype: float64"
      ]
     },
     "execution_count": 670,
     "metadata": {},
     "output_type": "execute_result"
    }
   ],
   "source": [
    "won_states_democrat_2012['Lie Count'].describe()"
   ]
  },
  {
   "cell_type": "code",
   "execution_count": 671,
   "metadata": {},
   "outputs": [
    {
     "data": {
      "text/plain": [
       "count    24.000000\n",
       "mean      2.375000\n",
       "std       7.699873\n",
       "min       0.000000\n",
       "25%       0.000000\n",
       "50%       0.000000\n",
       "75%       1.000000\n",
       "max      37.000000\n",
       "Name: Lie Count, dtype: float64"
      ]
     },
     "execution_count": 671,
     "metadata": {},
     "output_type": "execute_result"
    }
   ],
   "source": [
    "lost_states_democrat_2012['Lie Count'].describe()"
   ]
  },
  {
   "cell_type": "code",
   "execution_count": 674,
   "metadata": {},
   "outputs": [
    {
     "data": {
      "text/plain": [
       "Ttest_indResult(statistic=2.6466174086831313, pvalue=0.011927574727831309)"
      ]
     },
     "execution_count": 674,
     "metadata": {},
     "output_type": "execute_result"
    }
   ],
   "source": [
    "stats.ttest_ind(won_states_democrat_2012['Lie Count'], lost_states_democrat_2012['Lie Count'], equal_var = False)"
   ]
  },
  {
   "cell_type": "markdown",
   "metadata": {},
   "source": [
    "p-value is below significance level of 0.05. It means that the mean of the lie counts is significantly higher in states that Democrats win than the states that they lose in 2012 elections. We consider the lies before 2012 elections."
   ]
  },
  {
   "cell_type": "markdown",
   "metadata": {},
   "source": [
    "* ### Welch's T-Test between Lies said by Democrats in Won and Lost states 2016"
   ]
  },
  {
   "cell_type": "code",
   "execution_count": 675,
   "metadata": {},
   "outputs": [
    {
     "data": {
      "image/png": "[encoded data removed]",
      "text/plain": [
       "<matplotlib.figure.Figure at 0x1a39dcc748>"
      ]
     },
     "metadata": {},
     "output_type": "display_data"
    }
   ],
   "source": [
    "fig, ax = plt.subplots()\n",
    "ax.set_title('Lies by Democrats in each state where they won and lost in 2012')\n",
    "ax.boxplot([won_states_democrat_2016['Lie Count'],lost_states_democrat_2016['Lie Count']])\n",
    "plt.xlabel('1: Win                2:Lost', fontsize=18)\n",
    "plt.show()"
   ]
  },
  {
   "cell_type": "code",
   "execution_count": 676,
   "metadata": {},
   "outputs": [
    {
     "data": {
      "text/plain": [
       "count    21.000000\n",
       "mean      6.428571\n",
       "std      10.146780\n",
       "min       0.000000\n",
       "25%       0.000000\n",
       "50%       1.000000\n",
       "75%       9.000000\n",
       "max      34.000000\n",
       "Name: Lie Count, dtype: float64"
      ]
     },
     "execution_count": 676,
     "metadata": {},
     "output_type": "execute_result"
    }
   ],
   "source": [
    "won_states_democrat_2016['Lie Count'].describe()"
   ]
  },
  {
   "cell_type": "code",
   "execution_count": 678,
   "metadata": {},
   "outputs": [
    {
     "data": {
      "text/plain": [
       "count    30.000000\n",
       "mean      4.300000\n",
       "std      10.117073\n",
       "min       0.000000\n",
       "25%       0.000000\n",
       "50%       0.000000\n",
       "75%       1.750000\n",
       "max      38.000000\n",
       "Name: Lie Count, dtype: float64"
      ]
     },
     "execution_count": 678,
     "metadata": {},
     "output_type": "execute_result"
    }
   ],
   "source": [
    "lost_states_democrat_2016['Lie Count'].describe()"
   ]
  },
  {
   "cell_type": "code",
   "execution_count": 679,
   "metadata": {},
   "outputs": [
    {
     "data": {
      "text/plain": [
       "Ttest_indResult(statistic=0.738190731744156, pvalue=0.4643973785354718)"
      ]
     },
     "execution_count": 679,
     "metadata": {},
     "output_type": "execute_result"
    }
   ],
   "source": [
    "stats.ttest_ind(won_states_democrat_2016['Lie Count'], lost_states_democrat_2016['Lie Count'], equal_var = False)"
   ]
  },
  {
   "cell_type": "markdown",
   "metadata": {},
   "source": [
    "p-value is above significance level of 0.05. It means that we can not reject the null hypothesis which state that there is no significant difference between the means of counts sample in Democrats' win states and lost states in 2016 elections."
   ]
  },
  {
   "cell_type": "markdown",
   "metadata": {},
   "source": [
    "### Welch's T-Test between Lies said by Republican in Won and Lost states 2012"
   ]
  },
  {
   "cell_type": "code",
   "execution_count": 686,
   "metadata": {},
   "outputs": [
    {
     "data": {
      "image/png": "[encoded data removed]",
      "text/plain": [
       "<matplotlib.figure.Figure at 0x1a39389dd8>"
      ]
     },
     "metadata": {},
     "output_type": "display_data"
    }
   ],
   "source": [
    "fig, ax = plt.subplots()\n",
    "ax.set_title('Lies by Republicans in each state where they won and lost in 2012')\n",
    "ax.boxplot([won_states_republican_2012['Lie Count'],lost_states_republican_2012['Lie Count']])\n",
    "plt.xlabel('1: Win                2:Lost', fontsize=18)\n",
    "plt.show()"
   ]
  },
  {
   "cell_type": "code",
   "execution_count": 681,
   "metadata": {},
   "outputs": [
    {
     "data": {
      "text/plain": [
       "count     24.000000\n",
       "mean      12.500000\n",
       "std       28.119311\n",
       "min        0.000000\n",
       "25%        0.750000\n",
       "50%        2.500000\n",
       "75%        9.250000\n",
       "max      127.000000\n",
       "Name: Lie Count, dtype: float64"
      ]
     },
     "execution_count": 681,
     "metadata": {},
     "output_type": "execute_result"
    }
   ],
   "source": [
    "won_states_republican_2012['Lie Count'].describe()"
   ]
  },
  {
   "cell_type": "code",
   "execution_count": 682,
   "metadata": {},
   "outputs": [
    {
     "data": {
      "text/plain": [
       "count     27.000000\n",
       "mean      19.666667\n",
       "std       28.772316\n",
       "min        0.000000\n",
       "25%        1.000000\n",
       "50%        3.000000\n",
       "75%       29.500000\n",
       "max      103.000000\n",
       "Name: Lie Count, dtype: float64"
      ]
     },
     "execution_count": 682,
     "metadata": {},
     "output_type": "execute_result"
    }
   ],
   "source": [
    "lost_states_republican_2012['Lie Count'].describe()"
   ]
  },
  {
   "cell_type": "code",
   "execution_count": 683,
   "metadata": {},
   "outputs": [
    {
     "data": {
      "text/plain": [
       "Ttest_indResult(statistic=-0.8985992323793024, pvalue=0.37330218086657174)"
      ]
     },
     "execution_count": 683,
     "metadata": {},
     "output_type": "execute_result"
    }
   ],
   "source": [
    "stats.ttest_ind(won_states_republican_2012['Lie Count'], lost_states_republican_2012['Lie Count'], equal_var = False)"
   ]
  },
  {
   "cell_type": "markdown",
   "metadata": {},
   "source": [
    "p-value is above significance level of 0.05. It means that we can not reject the null hypothesis which state that there is no significant difference between the means of counts sample in Republicans' win states and lost states in 2012 elections."
   ]
  },
  {
   "cell_type": "markdown",
   "metadata": {},
   "source": [
    "### Welch's T-Test between Lies said by Republican in Won and Lost states 2016"
   ]
  },
  {
   "cell_type": "code",
   "execution_count": 685,
   "metadata": {},
   "outputs": [
    {
     "data": {
      "image/png": "[encoded data removed]",
      "text/plain": [
       "<matplotlib.figure.Figure at 0x1a38e86e10>"
      ]
     },
     "metadata": {},
     "output_type": "display_data"
    }
   ],
   "source": [
    "fig, ax = plt.subplots()\n",
    "ax.set_title('Lies by Republicans in each state where they won and lost in 2016')\n",
    "ax.boxplot([won_states_republican_2016['Lie Count'],lost_states_republican_2016['Lie Count']])\n",
    "plt.xlabel('1: Win                2:Lost', fontsize=18)\n",
    "plt.show()"
   ]
  },
  {
   "cell_type": "code",
   "execution_count": 687,
   "metadata": {},
   "outputs": [
    {
     "data": {
      "text/plain": [
       "count     30.000000\n",
       "mean      11.733333\n",
       "std       24.622576\n",
       "min        0.000000\n",
       "25%        1.000000\n",
       "50%        3.000000\n",
       "75%        7.750000\n",
       "max      114.000000\n",
       "Name: Lie Count, dtype: float64"
      ]
     },
     "execution_count": 687,
     "metadata": {},
     "output_type": "execute_result"
    }
   ],
   "source": [
    "won_states_republican_2016['Lie Count'].describe()"
   ]
  },
  {
   "cell_type": "code",
   "execution_count": 688,
   "metadata": {},
   "outputs": [
    {
     "data": {
      "text/plain": [
       "count     21.000000\n",
       "mean      13.857143\n",
       "std       39.538950\n",
       "min        0.000000\n",
       "25%        0.000000\n",
       "50%        3.000000\n",
       "75%        7.000000\n",
       "max      183.000000\n",
       "Name: Lie Count, dtype: float64"
      ]
     },
     "execution_count": 688,
     "metadata": {},
     "output_type": "execute_result"
    }
   ],
   "source": [
    "lost_states_republican_2016['Lie Count'].describe()"
   ]
  },
  {
   "cell_type": "code",
   "execution_count": 692,
   "metadata": {},
   "outputs": [
    {
     "data": {
      "text/plain": [
       "Ttest_indResult(statistic=-0.21829700445116615, pvalue=0.8286391234541339)"
      ]
     },
     "execution_count": 692,
     "metadata": {},
     "output_type": "execute_result"
    }
   ],
   "source": [
    "stats.ttest_ind(won_states_republican_2016['Lie Count'], lost_states_republican_2016['Lie Count'], equal_var = False)"
   ]
  },
  {
   "cell_type": "markdown",
   "metadata": {},
   "source": [
    "p-value is above significance level of 0.05. It means that we can not reject the null hypothesis which state that there is no significant difference between the means of counts sample in Republicans' win states and lost states in 2016 elections."
   ]
  }
 ],
 "metadata": {
  "kernelspec": {
   "display_name": "Python [default]",
   "language": "python",
   "name": "python3"
  },
  "language_info": {
   "codemirror_mode": {
    "name": "ipython",
    "version": 3
   },
   "file_extension": ".py",
   "mimetype": "text/x-python",
   "name": "python",
   "nbconvert_exporter": "python",
   "pygments_lexer": "ipython3",
   "version": "3.7.0"
  }
 },
 "nbformat": 4,
 "nbformat_minor": 2
}
