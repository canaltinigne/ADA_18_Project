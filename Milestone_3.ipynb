{
 "cells": [
  {
   "cell_type": "markdown",
   "metadata": {},
   "source": [
    "# Analysis and Impacts of Fake News"
   ]
  },
  {
   "cell_type": "markdown",
   "metadata": {},
   "source": [
    "Everybody lies at some point of time. However, if the liar is a popular and respected source or figure in society, this may have crucial effects on people. The goal of this project is to analyze the distribution of lies among the political figures and news sources in the U.S. and the effects of these lies on voters and social media. We use Liar dataset collected from PolitiFact.com and prepared by William Yang Wang. We aim to specify the topics which politicians and news sources mostly lie about. Also, we intend to reveal if the lies told by politicians propagate to other news sources. We would like to emphasize the power of the statements made by notable sources in society. Because, we believe that the manipulation of people's decisions through fake news may have drastic effects on society and democracy in a country. As we are all from Turkey, we are the witnesses of how biased media manipulates the people's political views which determine the future of the country.\n",
    "\n",
    "We use Liar dataset collected from PolitiFact.com and prepared by William Yang Wang [1]. The dataset is in tsv format, and also for each row, there is an HTML link column including some additional information about the specific statement. We will parse the dataset as well as the webpage to extract other informations such as statement date and place. The dataset contains train, test and validation sets amd has nearly 12k statements. We will combine them for analysis."
   ]
  },
  {
   "cell_type": "markdown",
   "metadata": {},
   "source": [
    "***"
   ]
  },
  {
   "cell_type": "markdown",
   "metadata": {},
   "source": [
    "## Part 1: Data Wrangling and Data Preprocessing"
   ]
  },
  {
   "cell_type": "code",
   "execution_count": 98,
   "metadata": {
    "collapsed": true
   },
   "outputs": [],
   "source": [
    "# Import libraries\n",
    "%matplotlib inline\n",
    "import requests\n",
    "from bs4 import BeautifulSoup\n",
    "from datetime import datetime\n",
    "import csv\n",
    "import pandas as pd\n",
    "import numpy as np\n",
    "from sklearn.externals import joblib\n",
    "import multiprocessing as multi\n",
    "import sys\n",
    "import matplotlib.pyplot as plt\n",
    "from nltk.corpus import stopwords\n",
    "import nltk\n",
    "import folium\n",
    "import json\n",
    "from scipy import stats"
   ]
  },
  {
   "cell_type": "markdown",
   "metadata": {},
   "source": [
    "Our dataset is prepared for a automatic fake news detection project. Therefore we had train, test and validation datasets. In order to analyze our dataset we concatenated these three datasets."
   ]
  },
  {
   "cell_type": "code",
   "execution_count": 99,
   "metadata": {},
   "outputs": [
    {
     "name": "stdout",
     "output_type": "stream",
     "text": [
      "Validation Set Size: 1284\n"
     ]
    }
   ],
   "source": [
    "with open('data/liar_dataset/valid.tsv') as tsvfile:\n",
    "    valid = pd.read_csv(tsvfile,sep='\\t')\n",
    "    print(\"Validation Set Size: {}\".format(len(valid)))"
   ]
  },
  {
   "cell_type": "code",
   "execution_count": 100,
   "metadata": {},
   "outputs": [
    {
     "name": "stdout",
     "output_type": "stream",
     "text": [
      "Test Set Size: 1277\n"
     ]
    }
   ],
   "source": [
    "with open('data/liar_dataset/test.tsv') as tsvfile:\n",
    "    test = pd.read_csv(tsvfile, sep='\\t')\n",
    "    print(\"Test Set Size: {}\".format(len(test)))"
   ]
  },
  {
   "cell_type": "code",
   "execution_count": 101,
   "metadata": {},
   "outputs": [
    {
     "name": "stdout",
     "output_type": "stream",
     "text": [
      "Training Set Size: 10240\n"
     ]
    }
   ],
   "source": [
    "with open('data/liar_dataset/train.tsv') as tsvfile:\n",
    "    train = pd.read_csv(tsvfile, sep='\\t')\n",
    "    print(\"Training Set Size: {}\".format(len(train)))"
   ]
  },
  {
   "cell_type": "code",
   "execution_count": 102,
   "metadata": {},
   "outputs": [
    {
     "name": "stdout",
     "output_type": "stream",
     "text": [
      "Number of samples: 12801\n"
     ]
    },
    {
     "data": {
      "text/html": [
       "<div>\n",
       "<style scoped>\n",
       "    .dataframe tbody tr th:only-of-type {\n",
       "        vertical-align: middle;\n",
       "    }\n",
       "\n",
       "    .dataframe tbody tr th {\n",
       "        vertical-align: top;\n",
       "    }\n",
       "\n",
       "    .dataframe thead th {\n",
       "        text-align: right;\n",
       "    }\n",
       "</style>\n",
       "<table border=\"1\" class=\"dataframe\">\n",
       "  <thead>\n",
       "    <tr style=\"text-align: right;\">\n",
       "      <th></th>\n",
       "      <th>Id</th>\n",
       "      <th>Label</th>\n",
       "      <th>Statement</th>\n",
       "      <th>Subject</th>\n",
       "      <th>Speaker’s Job Title</th>\n",
       "      <th>Job</th>\n",
       "      <th>State</th>\n",
       "      <th>The Party Affiliation</th>\n",
       "      <th>barely true counts</th>\n",
       "      <th>false counts</th>\n",
       "      <th>half true counts</th>\n",
       "      <th>mostly true counts</th>\n",
       "      <th>pants on fire counts</th>\n",
       "      <th>Communication Media</th>\n",
       "    </tr>\n",
       "  </thead>\n",
       "  <tbody>\n",
       "    <tr>\n",
       "      <th>0</th>\n",
       "      <td>2635.json</td>\n",
       "      <td>false</td>\n",
       "      <td>Says the Annies List political group supports ...</td>\n",
       "      <td>abortion</td>\n",
       "      <td>dwayne-bohac</td>\n",
       "      <td>State representative</td>\n",
       "      <td>Texas</td>\n",
       "      <td>republican</td>\n",
       "      <td>0.0</td>\n",
       "      <td>1.0</td>\n",
       "      <td>0.0</td>\n",
       "      <td>0</td>\n",
       "      <td>0.0</td>\n",
       "      <td>a mailer</td>\n",
       "    </tr>\n",
       "    <tr>\n",
       "      <th>1</th>\n",
       "      <td>10540.json</td>\n",
       "      <td>half-true</td>\n",
       "      <td>When did the decline of coal start? It started...</td>\n",
       "      <td>energy,history,job-accomplishments</td>\n",
       "      <td>scott-surovell</td>\n",
       "      <td>State delegate</td>\n",
       "      <td>Virginia</td>\n",
       "      <td>democrat</td>\n",
       "      <td>0.0</td>\n",
       "      <td>0.0</td>\n",
       "      <td>1.0</td>\n",
       "      <td>1</td>\n",
       "      <td>0.0</td>\n",
       "      <td>a floor speech.</td>\n",
       "    </tr>\n",
       "    <tr>\n",
       "      <th>2</th>\n",
       "      <td>324.json</td>\n",
       "      <td>mostly-true</td>\n",
       "      <td>Hillary Clinton agrees with John McCain \"by vo...</td>\n",
       "      <td>foreign-policy</td>\n",
       "      <td>barack-obama</td>\n",
       "      <td>President</td>\n",
       "      <td>Illinois</td>\n",
       "      <td>democrat</td>\n",
       "      <td>70.0</td>\n",
       "      <td>71.0</td>\n",
       "      <td>160.0</td>\n",
       "      <td>163</td>\n",
       "      <td>9.0</td>\n",
       "      <td>Denver</td>\n",
       "    </tr>\n",
       "    <tr>\n",
       "      <th>3</th>\n",
       "      <td>1123.json</td>\n",
       "      <td>false</td>\n",
       "      <td>Health care reform legislation is likely to ma...</td>\n",
       "      <td>health-care</td>\n",
       "      <td>blog-posting</td>\n",
       "      <td>NaN</td>\n",
       "      <td>NaN</td>\n",
       "      <td>none</td>\n",
       "      <td>7.0</td>\n",
       "      <td>19.0</td>\n",
       "      <td>3.0</td>\n",
       "      <td>5</td>\n",
       "      <td>44.0</td>\n",
       "      <td>a news release</td>\n",
       "    </tr>\n",
       "    <tr>\n",
       "      <th>4</th>\n",
       "      <td>9028.json</td>\n",
       "      <td>half-true</td>\n",
       "      <td>The economic turnaround started at the end of ...</td>\n",
       "      <td>economy,jobs</td>\n",
       "      <td>charlie-crist</td>\n",
       "      <td>NaN</td>\n",
       "      <td>Florida</td>\n",
       "      <td>democrat</td>\n",
       "      <td>15.0</td>\n",
       "      <td>9.0</td>\n",
       "      <td>20.0</td>\n",
       "      <td>19</td>\n",
       "      <td>2.0</td>\n",
       "      <td>an interview on CNN</td>\n",
       "    </tr>\n",
       "  </tbody>\n",
       "</table>\n",
       "</div>"
      ],
      "text/plain": [
       "           Id        Label                                          Statement  \\\n",
       "0   2635.json        false  Says the Annies List political group supports ...   \n",
       "1  10540.json    half-true  When did the decline of coal start? It started...   \n",
       "2    324.json  mostly-true  Hillary Clinton agrees with John McCain \"by vo...   \n",
       "3   1123.json        false  Health care reform legislation is likely to ma...   \n",
       "4   9028.json    half-true  The economic turnaround started at the end of ...   \n",
       "\n",
       "                              Subject Speaker’s Job Title  \\\n",
       "0                            abortion        dwayne-bohac   \n",
       "1  energy,history,job-accomplishments      scott-surovell   \n",
       "2                      foreign-policy        barack-obama   \n",
       "3                         health-care        blog-posting   \n",
       "4                        economy,jobs       charlie-crist   \n",
       "\n",
       "                    Job     State The Party Affiliation  barely true counts  \\\n",
       "0  State representative     Texas            republican                 0.0   \n",
       "1        State delegate  Virginia              democrat                 0.0   \n",
       "2             President  Illinois              democrat                70.0   \n",
       "3                   NaN       NaN                  none                 7.0   \n",
       "4                   NaN   Florida              democrat                15.0   \n",
       "\n",
       "   false counts  half true counts mostly true counts  pants on fire counts  \\\n",
       "0           1.0               0.0                  0                   0.0   \n",
       "1           0.0               1.0                  1                   0.0   \n",
       "2          71.0             160.0                163                   9.0   \n",
       "3          19.0               3.0                  5                  44.0   \n",
       "4           9.0              20.0                 19                   2.0   \n",
       "\n",
       "   Communication Media  \n",
       "0             a mailer  \n",
       "1      a floor speech.  \n",
       "2               Denver  \n",
       "3       a news release  \n",
       "4  an interview on CNN  "
      ]
     },
     "execution_count": 102,
     "metadata": {},
     "output_type": "execute_result"
    }
   ],
   "source": [
    "# Concatinating all training, test and validation sets to create a big dataset for analysis.\n",
    "sets = [train, test, valid]\n",
    "liar_dataframe = pd.concat(sets)\n",
    "print(\"Number of samples:\",len(liar_dataframe))\n",
    "liar_dataframe.reset_index()\n",
    "liar_dataframe.head()"
   ]
  },
  {
   "cell_type": "markdown",
   "metadata": {},
   "source": [
    "First column contains the id of the statement and the url http://www.politifact.com//api/v/2/statement/id?format=json links to the web page about the statement.\n",
    "\n",
    "The given dataset does not contain the date when the statement is written or said. So, we parsed the web page in order the extract the statement date. All of the columns except counts columns can be understood. Counts columns show the number of the people that vote for that authenticity category for the particular statement."
   ]
  },
  {
   "cell_type": "code",
   "execution_count": 188,
   "metadata": {},
   "outputs": [
    {
     "name": "stdout",
     "output_type": "stream",
     "text": [
      "\n"
     ]
    }
   ],
   "source": [
    "# JSON parse code using Id column of the dataset\n",
    "\n",
    "i=0\n",
    "for json_id in liar_dataframe['Id']:\n",
    "    try:\n",
    "        r = requests.get('http://www.politifact.com//api/v/2/statement/'+ json_id.split(\".\")[0]+'/?format=json')\n",
    "        data=r.json()\n",
    "        datetime_object = datetime.strptime(data[\"ruling_date\"], '%Y-%m-%dT%X')\n",
    "        liar_dataframe.set_value(i, 'Date', datetime_object)\n",
    "    except ValueError:\n",
    "        print(json_id, \"ENCODE ERROR OCCURED\")\n",
    "    i+=1"
   ]
  },
  {
   "cell_type": "code",
   "execution_count": 7,
   "metadata": {
    "collapsed": true
   },
   "outputs": [],
   "source": [
    "#liar_dataframe.to_csv('data/liar_set_with_date.tsv',index=False, sep = '\\t')"
   ]
  },
  {
   "cell_type": "code",
   "execution_count": 103,
   "metadata": {},
   "outputs": [
    {
     "data": {
      "text/html": [
       "<div>\n",
       "<style scoped>\n",
       "    .dataframe tbody tr th:only-of-type {\n",
       "        vertical-align: middle;\n",
       "    }\n",
       "\n",
       "    .dataframe tbody tr th {\n",
       "        vertical-align: top;\n",
       "    }\n",
       "\n",
       "    .dataframe thead th {\n",
       "        text-align: right;\n",
       "    }\n",
       "</style>\n",
       "<table border=\"1\" class=\"dataframe\">\n",
       "  <thead>\n",
       "    <tr style=\"text-align: right;\">\n",
       "      <th></th>\n",
       "      <th>Id</th>\n",
       "      <th>Label</th>\n",
       "      <th>Statement</th>\n",
       "      <th>Subject</th>\n",
       "      <th>Speaker’s Job Title</th>\n",
       "      <th>Job</th>\n",
       "      <th>State</th>\n",
       "      <th>The Party Affiliation</th>\n",
       "      <th>barely true counts</th>\n",
       "      <th>false counts</th>\n",
       "      <th>half true counts</th>\n",
       "      <th>mostly true counts</th>\n",
       "      <th>pants on fire counts</th>\n",
       "      <th>Communication Media</th>\n",
       "      <th>Date</th>\n",
       "    </tr>\n",
       "  </thead>\n",
       "  <tbody>\n",
       "    <tr>\n",
       "      <th>0</th>\n",
       "      <td>2635.json</td>\n",
       "      <td>false</td>\n",
       "      <td>Says the Annies List political group supports ...</td>\n",
       "      <td>abortion</td>\n",
       "      <td>dwayne-bohac</td>\n",
       "      <td>State representative</td>\n",
       "      <td>Texas</td>\n",
       "      <td>republican</td>\n",
       "      <td>0.0</td>\n",
       "      <td>1.0</td>\n",
       "      <td>0.0</td>\n",
       "      <td>0.0</td>\n",
       "      <td>0.0</td>\n",
       "      <td>a mailer</td>\n",
       "      <td>2010-10-20 06:00:00</td>\n",
       "    </tr>\n",
       "    <tr>\n",
       "      <th>1</th>\n",
       "      <td>10540.json</td>\n",
       "      <td>half-true</td>\n",
       "      <td>When did the decline of coal start? It started...</td>\n",
       "      <td>energy,history,job-accomplishments</td>\n",
       "      <td>scott-surovell</td>\n",
       "      <td>State delegate</td>\n",
       "      <td>Virginia</td>\n",
       "      <td>democrat</td>\n",
       "      <td>0.0</td>\n",
       "      <td>0.0</td>\n",
       "      <td>1.0</td>\n",
       "      <td>1.0</td>\n",
       "      <td>0.0</td>\n",
       "      <td>a floor speech.</td>\n",
       "      <td>2015-02-23 00:00:00</td>\n",
       "    </tr>\n",
       "    <tr>\n",
       "      <th>2</th>\n",
       "      <td>324.json</td>\n",
       "      <td>mostly-true</td>\n",
       "      <td>Hillary Clinton agrees with John McCain \"by vo...</td>\n",
       "      <td>foreign-policy</td>\n",
       "      <td>barack-obama</td>\n",
       "      <td>President</td>\n",
       "      <td>Illinois</td>\n",
       "      <td>democrat</td>\n",
       "      <td>70.0</td>\n",
       "      <td>71.0</td>\n",
       "      <td>160.0</td>\n",
       "      <td>163.0</td>\n",
       "      <td>9.0</td>\n",
       "      <td>Denver</td>\n",
       "      <td>2008-02-01 00:00:00</td>\n",
       "    </tr>\n",
       "    <tr>\n",
       "      <th>3</th>\n",
       "      <td>1123.json</td>\n",
       "      <td>false</td>\n",
       "      <td>Health care reform legislation is likely to ma...</td>\n",
       "      <td>health-care</td>\n",
       "      <td>blog-posting</td>\n",
       "      <td>NaN</td>\n",
       "      <td>NaN</td>\n",
       "      <td>none</td>\n",
       "      <td>7.0</td>\n",
       "      <td>19.0</td>\n",
       "      <td>3.0</td>\n",
       "      <td>5.0</td>\n",
       "      <td>44.0</td>\n",
       "      <td>a news release</td>\n",
       "      <td>2009-08-07 12:13:20</td>\n",
       "    </tr>\n",
       "    <tr>\n",
       "      <th>4</th>\n",
       "      <td>9028.json</td>\n",
       "      <td>half-true</td>\n",
       "      <td>The economic turnaround started at the end of ...</td>\n",
       "      <td>economy,jobs</td>\n",
       "      <td>charlie-crist</td>\n",
       "      <td>NaN</td>\n",
       "      <td>Florida</td>\n",
       "      <td>democrat</td>\n",
       "      <td>15.0</td>\n",
       "      <td>9.0</td>\n",
       "      <td>20.0</td>\n",
       "      <td>19.0</td>\n",
       "      <td>2.0</td>\n",
       "      <td>an interview on CNN</td>\n",
       "      <td>2014-03-11 15:57:54</td>\n",
       "    </tr>\n",
       "  </tbody>\n",
       "</table>\n",
       "</div>"
      ],
      "text/plain": [
       "           Id        Label                                          Statement  \\\n",
       "0   2635.json        false  Says the Annies List political group supports ...   \n",
       "1  10540.json    half-true  When did the decline of coal start? It started...   \n",
       "2    324.json  mostly-true  Hillary Clinton agrees with John McCain \"by vo...   \n",
       "3   1123.json        false  Health care reform legislation is likely to ma...   \n",
       "4   9028.json    half-true  The economic turnaround started at the end of ...   \n",
       "\n",
       "                              Subject Speaker’s Job Title  \\\n",
       "0                            abortion        dwayne-bohac   \n",
       "1  energy,history,job-accomplishments      scott-surovell   \n",
       "2                      foreign-policy        barack-obama   \n",
       "3                         health-care        blog-posting   \n",
       "4                        economy,jobs       charlie-crist   \n",
       "\n",
       "                    Job     State The Party Affiliation  barely true counts  \\\n",
       "0  State representative     Texas            republican                 0.0   \n",
       "1        State delegate  Virginia              democrat                 0.0   \n",
       "2             President  Illinois              democrat                70.0   \n",
       "3                   NaN       NaN                  none                 7.0   \n",
       "4                   NaN   Florida              democrat                15.0   \n",
       "\n",
       "   false counts  half true counts mostly true counts  pants on fire counts  \\\n",
       "0           1.0               0.0                0.0                   0.0   \n",
       "1           0.0               1.0                1.0                   0.0   \n",
       "2          71.0             160.0              163.0                   9.0   \n",
       "3          19.0               3.0                5.0                  44.0   \n",
       "4           9.0              20.0               19.0                   2.0   \n",
       "\n",
       "   Communication Media                 Date  \n",
       "0             a mailer  2010-10-20 06:00:00  \n",
       "1      a floor speech.  2015-02-23 00:00:00  \n",
       "2               Denver  2008-02-01 00:00:00  \n",
       "3       a news release  2009-08-07 12:13:20  \n",
       "4  an interview on CNN  2014-03-11 15:57:54  "
      ]
     },
     "execution_count": 103,
     "metadata": {},
     "output_type": "execute_result"
    }
   ],
   "source": [
    "with open('data/liar_set_with_date.tsv') as tsvfile:\n",
    "    liar_dataframe = pd.read_csv(tsvfile,sep='\\t',)\n",
    "len(liar_dataframe)\n",
    "liar_dataframe.head()"
   ]
  },
  {
   "cell_type": "markdown",
   "metadata": {},
   "source": [
    "There are some data rows with no **Date** information, since the url was not working for some of data. "
   ]
  },
  {
   "cell_type": "code",
   "execution_count": 104,
   "metadata": {
    "collapsed": true
   },
   "outputs": [],
   "source": [
    "liar_dataframe = liar_dataframe[liar_dataframe['Date'].notnull()]"
   ]
  },
  {
   "cell_type": "markdown",
   "metadata": {},
   "source": [
    "Since we will also analyse the effects of lies told by politicians and news sources on votes of citizens(Research Question 4), we need the earliest and latest date, so that we find out which US election resulys will be needed."
   ]
  },
  {
   "cell_type": "code",
   "execution_count": 105,
   "metadata": {},
   "outputs": [
    {
     "data": {
      "text/plain": [
       "'2016-12-13 05:00:00'"
      ]
     },
     "execution_count": 105,
     "metadata": {},
     "output_type": "execute_result"
    }
   ],
   "source": [
    "max(liar_dataframe['Date'])"
   ]
  },
  {
   "cell_type": "code",
   "execution_count": 106,
   "metadata": {},
   "outputs": [
    {
     "data": {
      "text/plain": [
       "'2007-05-02 00:00:00'"
      ]
     },
     "execution_count": 106,
     "metadata": {},
     "output_type": "execute_result"
    }
   ],
   "source": [
    "min(liar_dataframe['Date'])"
   ]
  },
  {
   "cell_type": "markdown",
   "metadata": {},
   "source": [
    "In order to answer our research questions, we need to know if the given statement is said by a politician, a news source or posted on social media. So we categorized the **Communication Media** column using the keywords inside."
   ]
  },
  {
   "cell_type": "code",
   "execution_count": 107,
   "metadata": {
    "collapsed": true
   },
   "outputs": [],
   "source": [
    "# Categorizing Communication Media\n",
    "def categorize(a):\n",
    "    a['Category'] = ''\n",
    "    exp = a['Communication Media'].str.lower().str\n",
    "    condition_press = exp.contains('news ') | exp.contains('press ') |exp.contains(' news') | exp.contains(' press')\n",
    "    \n",
    "    condition_interview = exp.contains('interview')\n",
    "    condition_speech = exp.contains('speech') | exp.contains('address ') | exp.contains(' address')\n",
    "    condition_hearing = exp.contains('hearing')\n",
    "    condition_meeting = exp.contains('meeting')\n",
    "    condition_summit = exp.contains('summit')\n",
    "    condition_letter = exp.contains('letter')\n",
    "    condition_statement = exp.contains('statement')\n",
    "    condition_social_media = exp.contains('twitter') | exp.contains('tweet') | exp.contains('facebook') \\\n",
    "                         | exp.contains('meme') | exp.contains('comments') | exp.contains('post') \\\n",
    "                         | exp.contains('blog') |  exp.contains('forum')\n",
    "    condition_conference = exp.contains('conference')\n",
    "    condition_advertisement = exp.contains('advertisement') | exp.contains('advert') \\\n",
    "                          | exp.contains(' ad') | exp.contains('commercial')\n",
    "    condition_campaign = exp.contains('campaign')\n",
    "    condition_newspaper = exp.contains('newspaper') | exp.contains('article') | exp.contains('column') \\\n",
    "                         | exp.contains('commentary') | exp.contains('op-ed') \n",
    "    condition_video = exp.contains('video')\n",
    "    condition_radio = exp.contains('radio')\n",
    "    condition_debate = exp.contains('debate')\n",
    "    condition_flyer = exp.contains('flyer') | exp.contains('flier')\n",
    "    condition_journal = exp.contains('journal')  \n",
    "    condition_television = (exp.contains('television') | exp.contains('tv ') | \\\n",
    "                        exp.contains(' tv') | exp.contains('\"') ) & (exp.contains('comments on')==False)\n",
    "    a['Category'] = np.where(condition_press, a['Category']+',Press', a['Category']) \n",
    "    a['Category'] = np.where(condition_interview, a['Category']+',Interview', a['Category']) \n",
    "    a['Category'] = np.where(condition_speech, a['Category']+',Speech', a['Category']) \n",
    "    a['Category'] = np.where(condition_hearing, a['Category']+',Hearing', a['Category']) \n",
    "    a['Category'] = np.where(condition_meeting, a['Category']+',Meeting', a['Category']) \n",
    "    a['Category'] = np.where(condition_summit, a['Category']+',Summit', a['Category']) \n",
    "    a['Category'] = np.where(condition_letter, a['Category']+',Letter', a['Category']) \n",
    "    a['Category'] = np.where(condition_statement, a['Category']+',Statement', a['Category']) \n",
    "    a['Category'] = np.where(condition_social_media, a['Category']+',Social Media', a['Category']) \n",
    "    a['Category'] = np.where(condition_conference, a['Category']+',Conference', a['Category']) \n",
    "    a['Category'] = np.where(condition_advertisement, a['Category']+',Advertisement', a['Category']) \n",
    "    a['Category'] = np.where(condition_campaign, a['Category']+',Campaign', a['Category']) \n",
    "    a['Category'] = np.where(condition_newspaper, a['Category']+',Newspaper', a['Category']) \n",
    "    a['Category'] = np.where(condition_video, a['Category']+',Video', a['Category']) \n",
    "    a['Category'] = np.where(condition_debate, a['Category']+',Debate', a['Category']) \n",
    "    a['Category'] = np.where(condition_flyer, a['Category']+',Flyer', a['Category']) \n",
    "    a['Category'] = np.where(condition_radio, a['Category']+',Radio', a['Category']) \n",
    "    a['Category'] = np.where(condition_journal, a['Category']+',Journal', a['Category']) \n",
    "    a['Category'] = np.where(a['Category'] == '', a['Category']+',Miscellaneous', a['Category']) \n",
    "    a['Category'] = a['Category'].str[1:]\n",
    "    return a"
   ]
  },
  {
   "cell_type": "code",
   "execution_count": 108,
   "metadata": {
    "collapsed": true
   },
   "outputs": [],
   "source": [
    "liar_dataframe = categorize(liar_dataframe)"
   ]
  },
  {
   "cell_type": "code",
   "execution_count": 109,
   "metadata": {},
   "outputs": [
    {
     "data": {
      "text/html": [
       "<div>\n",
       "<style scoped>\n",
       "    .dataframe tbody tr th:only-of-type {\n",
       "        vertical-align: middle;\n",
       "    }\n",
       "\n",
       "    .dataframe tbody tr th {\n",
       "        vertical-align: top;\n",
       "    }\n",
       "\n",
       "    .dataframe thead th {\n",
       "        text-align: right;\n",
       "    }\n",
       "</style>\n",
       "<table border=\"1\" class=\"dataframe\">\n",
       "  <thead>\n",
       "    <tr style=\"text-align: right;\">\n",
       "      <th></th>\n",
       "      <th>Id</th>\n",
       "      <th>Label</th>\n",
       "      <th>Statement</th>\n",
       "      <th>Subject</th>\n",
       "      <th>Speaker’s Job Title</th>\n",
       "      <th>Job</th>\n",
       "      <th>State</th>\n",
       "      <th>The Party Affiliation</th>\n",
       "      <th>barely true counts</th>\n",
       "      <th>false counts</th>\n",
       "      <th>half true counts</th>\n",
       "      <th>mostly true counts</th>\n",
       "      <th>pants on fire counts</th>\n",
       "      <th>Communication Media</th>\n",
       "      <th>Date</th>\n",
       "      <th>Category</th>\n",
       "    </tr>\n",
       "  </thead>\n",
       "  <tbody>\n",
       "    <tr>\n",
       "      <th>0</th>\n",
       "      <td>2635.json</td>\n",
       "      <td>false</td>\n",
       "      <td>Says the Annies List political group supports ...</td>\n",
       "      <td>abortion</td>\n",
       "      <td>dwayne-bohac</td>\n",
       "      <td>State representative</td>\n",
       "      <td>Texas</td>\n",
       "      <td>republican</td>\n",
       "      <td>0.0</td>\n",
       "      <td>1.0</td>\n",
       "      <td>0.0</td>\n",
       "      <td>0.0</td>\n",
       "      <td>0.0</td>\n",
       "      <td>a mailer</td>\n",
       "      <td>2010-10-20 06:00:00</td>\n",
       "      <td>Miscellaneous</td>\n",
       "    </tr>\n",
       "    <tr>\n",
       "      <th>1</th>\n",
       "      <td>10540.json</td>\n",
       "      <td>half-true</td>\n",
       "      <td>When did the decline of coal start? It started...</td>\n",
       "      <td>energy,history,job-accomplishments</td>\n",
       "      <td>scott-surovell</td>\n",
       "      <td>State delegate</td>\n",
       "      <td>Virginia</td>\n",
       "      <td>democrat</td>\n",
       "      <td>0.0</td>\n",
       "      <td>0.0</td>\n",
       "      <td>1.0</td>\n",
       "      <td>1.0</td>\n",
       "      <td>0.0</td>\n",
       "      <td>a floor speech.</td>\n",
       "      <td>2015-02-23 00:00:00</td>\n",
       "      <td>Speech</td>\n",
       "    </tr>\n",
       "    <tr>\n",
       "      <th>2</th>\n",
       "      <td>324.json</td>\n",
       "      <td>mostly-true</td>\n",
       "      <td>Hillary Clinton agrees with John McCain \"by vo...</td>\n",
       "      <td>foreign-policy</td>\n",
       "      <td>barack-obama</td>\n",
       "      <td>President</td>\n",
       "      <td>Illinois</td>\n",
       "      <td>democrat</td>\n",
       "      <td>70.0</td>\n",
       "      <td>71.0</td>\n",
       "      <td>160.0</td>\n",
       "      <td>163.0</td>\n",
       "      <td>9.0</td>\n",
       "      <td>Denver</td>\n",
       "      <td>2008-02-01 00:00:00</td>\n",
       "      <td>Miscellaneous</td>\n",
       "    </tr>\n",
       "  </tbody>\n",
       "</table>\n",
       "</div>"
      ],
      "text/plain": [
       "           Id        Label                                          Statement  \\\n",
       "0   2635.json        false  Says the Annies List political group supports ...   \n",
       "1  10540.json    half-true  When did the decline of coal start? It started...   \n",
       "2    324.json  mostly-true  Hillary Clinton agrees with John McCain \"by vo...   \n",
       "\n",
       "                              Subject Speaker’s Job Title  \\\n",
       "0                            abortion        dwayne-bohac   \n",
       "1  energy,history,job-accomplishments      scott-surovell   \n",
       "2                      foreign-policy        barack-obama   \n",
       "\n",
       "                    Job     State The Party Affiliation  barely true counts  \\\n",
       "0  State representative     Texas            republican                 0.0   \n",
       "1        State delegate  Virginia              democrat                 0.0   \n",
       "2             President  Illinois              democrat                70.0   \n",
       "\n",
       "   false counts  half true counts mostly true counts  pants on fire counts  \\\n",
       "0           1.0               0.0                0.0                   0.0   \n",
       "1           0.0               1.0                1.0                   0.0   \n",
       "2          71.0             160.0              163.0                   9.0   \n",
       "\n",
       "  Communication Media                 Date       Category  \n",
       "0            a mailer  2010-10-20 06:00:00  Miscellaneous  \n",
       "1     a floor speech.  2015-02-23 00:00:00         Speech  \n",
       "2              Denver  2008-02-01 00:00:00  Miscellaneous  "
      ]
     },
     "execution_count": 109,
     "metadata": {},
     "output_type": "execute_result"
    }
   ],
   "source": [
    "liar_dataframe.head(3)"
   ]
  },
  {
   "cell_type": "markdown",
   "metadata": {},
   "source": [
    "Target column is **Label**. Authenticity types of the statements can be found by grouping the dataset by **Label** column."
   ]
  },
  {
   "cell_type": "code",
   "execution_count": 110,
   "metadata": {},
   "outputs": [
    {
     "data": {
      "text/plain": [
       "dict_keys(['barely-true', 'false', 'half-true', 'mostly-true', 'pants-fire', 'true'])"
      ]
     },
     "execution_count": 110,
     "metadata": {},
     "output_type": "execute_result"
    }
   ],
   "source": [
    "data_group_df = liar_dataframe.groupby('Label')\n",
    "data_group_df.groups.keys()"
   ]
  },
  {
   "cell_type": "markdown",
   "metadata": {},
   "source": [
    "Some of our research questions require U.S. Election data. We preprocess the election data for 2012 and 2016 U.S. Elections.\n",
    "\n",
    "United States Presidental elections held in every 4 years. United states use a system called **Electoral System** for electing their presidents. This system works as following:\n",
    "\n",
    "- Each state is assigned a number of electors which is equal to the number of its U.S. Senators(2) plus the number of its U.S. Representatives. The number of US Representatives is determined according to state's population.\n",
    "- Each pary assign its electors who will actually vote for presidental candidates.\n",
    "- In November, citizens of each state cast their votes for electors, not for president.\n",
    "- The party having the most popular vote in november election becımes the State's Electors.\n",
    "- On the Monday following the second Wednesday of December each State's Electors cast their electoral votes for president and for vice president."
   ]
  },
  {
   "cell_type": "code",
   "execution_count": 111,
   "metadata": {
    "collapsed": true
   },
   "outputs": [],
   "source": [
    "# Path to files of election results\n",
    "ELECTION_PATH = \"data/elections/federalelections\""
   ]
  },
  {
   "cell_type": "code",
   "execution_count": 112,
   "metadata": {
    "collapsed": true
   },
   "outputs": [],
   "source": [
    "# read votes and convert vote counts to percentage\n",
    "def read_votes(year,file_type):\n",
    "    votes = pd.read_excel(ELECTION_PATH+str(year)+'.'+file_type,sheet_name=\"Table 2. Electoral &  Pop Vote\", header=3)\n",
    "    votes.iloc[:,3]=(votes.iloc[:,3]/votes.iloc[:,6])*100 # percentage of vote ratio - democrats\n",
    "    votes.iloc[:,4]=(votes.iloc[:,4]/votes.iloc[:,6])*100 # percentage of vote ratio - republicans\n",
    "    return votes"
   ]
  },
  {
   "cell_type": "markdown",
   "metadata": {},
   "source": [
    "Since ther earliest data is from 2007 and latest is from 2016, we need results of the presidental election in years 2008, 2012 and 2016 "
   ]
  },
  {
   "cell_type": "code",
   "execution_count": 113,
   "metadata": {
    "collapsed": true
   },
   "outputs": [],
   "source": [
    "votes_2008 = read_votes(2008,'xls')\n",
    "votes_2012 = read_votes(2012,'xls')\n",
    "votes_2016 = read_votes(2016,'xlsx')"
   ]
  },
  {
   "cell_type": "markdown",
   "metadata": {},
   "source": [
    "We added **Winner** column: D represenst Democrat Party candidate and R represents Republican Party candidate."
   ]
  },
  {
   "cell_type": "code",
   "execution_count": 114,
   "metadata": {
    "collapsed": true
   },
   "outputs": [],
   "source": [
    "votes_2008['Winner'] = votes_2008.iloc[:,3]>votes_2008.iloc[:,4]\n",
    "votes_2008['Winner'] = np.where(votes_2008['Winner']==True,'D','R')\n",
    "\n",
    "votes_2012['Winner'] = votes_2012.iloc[:,3]>votes_2012.iloc[:,4]\n",
    "votes_2012['Winner'] = np.where(votes_2012['Winner']==True,'D','R')\n",
    "\n",
    "votes_2016['Winner'] = votes_2016.iloc[:,3]>votes_2016.iloc[:,4]\n",
    "votes_2016['Winner'] = np.where(votes_2016['Winner']==True,'D','R')"
   ]
  },
  {
   "cell_type": "code",
   "execution_count": 115,
   "metadata": {},
   "outputs": [
    {
     "data": {
      "text/html": [
       "<div>\n",
       "<style scoped>\n",
       "    .dataframe tbody tr th:only-of-type {\n",
       "        vertical-align: middle;\n",
       "    }\n",
       "\n",
       "    .dataframe tbody tr th {\n",
       "        vertical-align: top;\n",
       "    }\n",
       "\n",
       "    .dataframe thead th {\n",
       "        text-align: right;\n",
       "    }\n",
       "</style>\n",
       "<table border=\"1\" class=\"dataframe\">\n",
       "  <thead>\n",
       "    <tr style=\"text-align: right;\">\n",
       "      <th></th>\n",
       "      <th>STATE</th>\n",
       "      <th>Obama (D)</th>\n",
       "      <th>Romney (R)</th>\n",
       "      <th>Obama (D).1</th>\n",
       "      <th>Romney (R).1</th>\n",
       "      <th>All Others</th>\n",
       "      <th>Total Vote</th>\n",
       "      <th>Winner</th>\n",
       "    </tr>\n",
       "  </thead>\n",
       "  <tbody>\n",
       "    <tr>\n",
       "      <th>0</th>\n",
       "      <td>AL</td>\n",
       "      <td>NaN</td>\n",
       "      <td>9.0</td>\n",
       "      <td>38.359033</td>\n",
       "      <td>60.545822</td>\n",
       "      <td>22717</td>\n",
       "      <td>2074338</td>\n",
       "      <td>R</td>\n",
       "    </tr>\n",
       "    <tr>\n",
       "      <th>1</th>\n",
       "      <td>AK</td>\n",
       "      <td>NaN</td>\n",
       "      <td>3.0</td>\n",
       "      <td>40.812659</td>\n",
       "      <td>54.801577</td>\n",
       "      <td>13179</td>\n",
       "      <td>300495</td>\n",
       "      <td>R</td>\n",
       "    </tr>\n",
       "    <tr>\n",
       "      <th>2</th>\n",
       "      <td>AZ</td>\n",
       "      <td>NaN</td>\n",
       "      <td>11.0</td>\n",
       "      <td>44.589767</td>\n",
       "      <td>53.654533</td>\n",
       "      <td>40368</td>\n",
       "      <td>2299254</td>\n",
       "      <td>R</td>\n",
       "    </tr>\n",
       "    <tr>\n",
       "      <th>3</th>\n",
       "      <td>AR</td>\n",
       "      <td>NaN</td>\n",
       "      <td>6.0</td>\n",
       "      <td>36.878990</td>\n",
       "      <td>60.566936</td>\n",
       "      <td>27315</td>\n",
       "      <td>1069468</td>\n",
       "      <td>R</td>\n",
       "    </tr>\n",
       "    <tr>\n",
       "      <th>4</th>\n",
       "      <td>CA</td>\n",
       "      <td>55.0</td>\n",
       "      <td>NaN</td>\n",
       "      <td>60.238959</td>\n",
       "      <td>37.120379</td>\n",
       "      <td>344304</td>\n",
       "      <td>13038547</td>\n",
       "      <td>D</td>\n",
       "    </tr>\n",
       "  </tbody>\n",
       "</table>\n",
       "</div>"
      ],
      "text/plain": [
       "  STATE  Obama (D)  Romney (R)  Obama (D).1  Romney (R).1  All Others  \\\n",
       "0    AL        NaN         9.0    38.359033     60.545822       22717   \n",
       "1    AK        NaN         3.0    40.812659     54.801577       13179   \n",
       "2    AZ        NaN        11.0    44.589767     53.654533       40368   \n",
       "3    AR        NaN         6.0    36.878990     60.566936       27315   \n",
       "4    CA       55.0         NaN    60.238959     37.120379      344304   \n",
       "\n",
       "   Total Vote Winner  \n",
       "0     2074338      R  \n",
       "1      300495      R  \n",
       "2     2299254      R  \n",
       "3     1069468      R  \n",
       "4    13038547      D  "
      ]
     },
     "execution_count": 115,
     "metadata": {},
     "output_type": "execute_result"
    }
   ],
   "source": [
    "votes_2012.head(5)"
   ]
  },
  {
   "cell_type": "markdown",
   "metadata": {},
   "source": [
    "First two columns represent the electoral votes and the 3rd and 4th column represent popular votes."
   ]
  },
  {
   "cell_type": "code",
   "execution_count": 116,
   "metadata": {
    "collapsed": true
   },
   "outputs": [],
   "source": [
    "vote_change = pd.DataFrame(columns=['STATE',\\\n",
    "                                    'Winner Change 2008-2012', 'Democrat 2008-2012', 'Republican 2008-2012',\\\n",
    "                                    'Winner Change 2012-2016','Democrat 2012-2016', 'Republican 2012-2016'])"
   ]
  },
  {
   "cell_type": "code",
   "execution_count": 117,
   "metadata": {
    "collapsed": true
   },
   "outputs": [],
   "source": [
    "vote_change['STATE'] = votes_2008['STATE']"
   ]
  },
  {
   "cell_type": "markdown",
   "metadata": {},
   "source": [
    "We calculated the change of percentage of votes between years for democrat and republican candidates."
   ]
  },
  {
   "cell_type": "code",
   "execution_count": 118,
   "metadata": {
    "collapsed": true
   },
   "outputs": [],
   "source": [
    "#change of winner 2004 and 2008(R, D, R to D, D to R)\n",
    "vote_change['Winner Change 2008-2012'] = np.where(votes_2008['Winner']==votes_2012['Winner'],\\\n",
    "                                        votes_2008['Winner'],votes_2008['Winner']+' to '+votes_2012['Winner'])\n",
    "#change in votes between years 2008 and 2012\n",
    "vote_change['Democrat 2008-2012'] = votes_2012.iloc[:,3] - votes_2008.iloc[:,3]\n",
    "vote_change['Republican 2008-2012'] = votes_2012.iloc[:,4] - votes_2008.iloc[:,4]"
   ]
  },
  {
   "cell_type": "code",
   "execution_count": 119,
   "metadata": {
    "collapsed": true
   },
   "outputs": [],
   "source": [
    "#change of winner 2004 and 2008(R, D, R to D, D to R)\n",
    "vote_change['Winner Change 2012-2016'] = np.where(votes_2012['Winner']==votes_2016['Winner'],\\\n",
    "                                        votes_2012['Winner'],votes_2012['Winner']+' to '+votes_2016['Winner'])\n",
    "#change in votes between years 2012 and 2016\n",
    "vote_change['Democrat 2012-2016'] = votes_2016.iloc[:,3] - votes_2012.iloc[:,3]\n",
    "vote_change['Republican 2012-2016'] = votes_2016.iloc[:,4] - votes_2012.iloc[:,4]"
   ]
  },
  {
   "cell_type": "code",
   "execution_count": 120,
   "metadata": {},
   "outputs": [
    {
     "data": {
      "text/html": [
       "<div>\n",
       "<style scoped>\n",
       "    .dataframe tbody tr th:only-of-type {\n",
       "        vertical-align: middle;\n",
       "    }\n",
       "\n",
       "    .dataframe tbody tr th {\n",
       "        vertical-align: top;\n",
       "    }\n",
       "\n",
       "    .dataframe thead th {\n",
       "        text-align: right;\n",
       "    }\n",
       "</style>\n",
       "<table border=\"1\" class=\"dataframe\">\n",
       "  <thead>\n",
       "    <tr style=\"text-align: right;\">\n",
       "      <th></th>\n",
       "      <th>STATE</th>\n",
       "      <th>Winner Change 2008-2012</th>\n",
       "      <th>Democrat 2008-2012</th>\n",
       "      <th>Republican 2008-2012</th>\n",
       "      <th>Winner Change 2012-2016</th>\n",
       "      <th>Democrat 2012-2016</th>\n",
       "      <th>Republican 2012-2016</th>\n",
       "    </tr>\n",
       "  </thead>\n",
       "  <tbody>\n",
       "    <tr>\n",
       "      <th>0</th>\n",
       "      <td>AL</td>\n",
       "      <td>R</td>\n",
       "      <td>-0.381401</td>\n",
       "      <td>0.228909</td>\n",
       "      <td>R</td>\n",
       "      <td>-4.001087</td>\n",
       "      <td>1.537270</td>\n",
       "    </tr>\n",
       "    <tr>\n",
       "      <th>1</th>\n",
       "      <td>AK</td>\n",
       "      <td>R</td>\n",
       "      <td>2.923286</td>\n",
       "      <td>-4.622942</td>\n",
       "      <td>R</td>\n",
       "      <td>-4.261788</td>\n",
       "      <td>-3.520065</td>\n",
       "    </tr>\n",
       "    <tr>\n",
       "      <th>2</th>\n",
       "      <td>AZ</td>\n",
       "      <td>R</td>\n",
       "      <td>-0.525484</td>\n",
       "      <td>0.019285</td>\n",
       "      <td>R</td>\n",
       "      <td>0.536255</td>\n",
       "      <td>-4.982917</td>\n",
       "    </tr>\n",
       "    <tr>\n",
       "      <th>3</th>\n",
       "      <td>AR</td>\n",
       "      <td>R</td>\n",
       "      <td>-1.985669</td>\n",
       "      <td>1.851032</td>\n",
       "      <td>R</td>\n",
       "      <td>-3.227086</td>\n",
       "      <td>0.004970</td>\n",
       "    </tr>\n",
       "    <tr>\n",
       "      <th>4</th>\n",
       "      <td>CA</td>\n",
       "      <td>D</td>\n",
       "      <td>-0.773679</td>\n",
       "      <td>0.165520</td>\n",
       "      <td>D</td>\n",
       "      <td>1.487429</td>\n",
       "      <td>-5.503264</td>\n",
       "    </tr>\n",
       "  </tbody>\n",
       "</table>\n",
       "</div>"
      ],
      "text/plain": [
       "  STATE Winner Change 2008-2012  Democrat 2008-2012  Republican 2008-2012  \\\n",
       "0    AL                       R           -0.381401              0.228909   \n",
       "1    AK                       R            2.923286             -4.622942   \n",
       "2    AZ                       R           -0.525484              0.019285   \n",
       "3    AR                       R           -1.985669              1.851032   \n",
       "4    CA                       D           -0.773679              0.165520   \n",
       "\n",
       "  Winner Change 2012-2016  Democrat 2012-2016  Republican 2012-2016  \n",
       "0                       R           -4.001087              1.537270  \n",
       "1                       R           -4.261788             -3.520065  \n",
       "2                       R            0.536255             -4.982917  \n",
       "3                       R           -3.227086              0.004970  \n",
       "4                       D            1.487429             -5.503264  "
      ]
     },
     "execution_count": 120,
     "metadata": {},
     "output_type": "execute_result"
    }
   ],
   "source": [
    "vote_change.head(5)"
   ]
  },
  {
   "cell_type": "markdown",
   "metadata": {},
   "source": [
    "In Milestone 2, we have not performed any analysis using the change between years. However, we are planning to use that column in the next steps."
   ]
  },
  {
   "cell_type": "markdown",
   "metadata": {},
   "source": [
    "***"
   ]
  },
  {
   "cell_type": "markdown",
   "metadata": {},
   "source": [
    "## Part 2: Exploratory data analysis "
   ]
  },
  {
   "cell_type": "markdown",
   "metadata": {},
   "source": [
    "We have created some research questions for the dataset in Milestone 1. We analyze the data based on these research questions in this part. The questions are:"
   ]
  },
  {
   "cell_type": "markdown",
   "metadata": {},
   "source": [
    "### Q1. What are the subjects that the politicians and news sources mostly lie about?\n",
    "\n",
    "We consider that a statement is a lie if it is labelled as false or pants-fire. We create the counts of subjects for each label category."
   ]
  },
  {
   "cell_type": "code",
   "execution_count": 26,
   "metadata": {
    "collapsed": true
   },
   "outputs": [],
   "source": [
    "# Distribution of subjects of statements per each truth label category\n",
    "\n",
    "# This function returns the count of unique elements for each output (i.e. false, pants-fire, barely-true) \n",
    "# with respect to the given column name.\n",
    "\n",
    "def get_count_group(col_num, df, delimiter, get_all, n=0):\n",
    "    result = []\n",
    "    i = 0\n",
    "    for group in df:\n",
    "        col = group[1][col_num]\n",
    "        if(len(delimiter) > 0):\n",
    "            if(get_all):\n",
    "                elements = pd.Series(str(v).split(delimiter) for v in col)\n",
    "            else:\n",
    "                elements = pd.Series(str(v).split(delimiter) for v in col)\n",
    "            elements = [st for row in elements for st in row]\n",
    "            element_values = pd.Series(elements).str.lower().str.rstrip('.,\"”\\'').str.lstrip('\\'\\\"”').value_counts()\n",
    "        else:\n",
    "            elements = pd.Series(v for v in col)\n",
    "            elements = [st for st in elements]\n",
    "            element_values = pd.Series(elements).value_counts()\n",
    "        result.append([])\n",
    "        result[i].append(group[0])\n",
    "        result[i].append(element_values)\n",
    "        i = i + 1\n",
    "    return result"
   ]
  },
  {
   "cell_type": "markdown",
   "metadata": {},
   "source": [
    "We will get unique subjects for each output label. It will return 6 series object since we have 6 different outputs. We will get false and pants-fire statements to determine the counts of subjects in the lies."
   ]
  },
  {
   "cell_type": "code",
   "execution_count": 16,
   "metadata": {
    "collapsed": true
   },
   "outputs": [],
   "source": [
    "# Get unique subjects for each target value.\n",
    "statement_counts = get_count_group('Subject', data_group_df, ',', True)"
   ]
  },
  {
   "cell_type": "code",
   "execution_count": 17,
   "metadata": {
    "collapsed": true
   },
   "outputs": [],
   "source": [
    "# Get subject counts in false and pants-fire statements.\n",
    "false_st = statement_counts[1]\n",
    "pants_fire_st = statement_counts[4]"
   ]
  },
  {
   "cell_type": "markdown",
   "metadata": {},
   "source": [
    "We show the top 20 subjects in the pants-fire statements."
   ]
  },
  {
   "cell_type": "code",
   "execution_count": 18,
   "metadata": {},
   "outputs": [
    {
     "name": "stdout",
     "output_type": "stream",
     "text": [
      "Top 20 subjects in the pants-fire statements:\n",
      "health-care             150\n",
      "candidates-biography     95\n",
      "taxes                    83\n",
      "elections                75\n",
      "economy                  73\n",
      "immigration              66\n",
      "history                  60\n",
      "foreign-policy           58\n",
      "state-budget             56\n",
      "religion                 54\n",
      "crime                    49\n",
      "education                48\n",
      "jobs                     45\n",
      "federal-budget           43\n",
      "terrorism                41\n",
      "military                 37\n",
      "environment              37\n",
      "energy                   36\n",
      "pundits                  34\n",
      "message-machine-2012     34\n",
      "dtype: int64\n"
     ]
    }
   ],
   "source": [
    "print(\"Top 20 subjects in the pants-fire statements:\\n{}\".format(pants_fire_st[1][:20]))"
   ]
  },
  {
   "cell_type": "markdown",
   "metadata": {},
   "source": [
    "We show the top 20 subjects in false statements."
   ]
  },
  {
   "cell_type": "code",
   "execution_count": 19,
   "metadata": {},
   "outputs": [
    {
     "name": "stdout",
     "output_type": "stream",
     "text": [
      "Top 20 subjects in false statements:\n",
      "health-care             331\n",
      "economy                 239\n",
      "taxes                   230\n",
      "federal-budget          183\n",
      "elections               173\n",
      "state-budget            169\n",
      "candidates-biography    166\n",
      "jobs                    164\n",
      "education               147\n",
      "immigration             133\n",
      "foreign-policy          119\n",
      "history                 111\n",
      "energy                  105\n",
      "legal-issues             97\n",
      "environment              92\n",
      "crime                    91\n",
      "terrorism                81\n",
      "job-accomplishments      81\n",
      "guns                     71\n",
      "transportation           68\n",
      "dtype: int64\n"
     ]
    }
   ],
   "source": [
    "print(\"Top 20 subjects in false statements:\\n{}\".format(false_st[1][:20]))"
   ]
  },
  {
   "cell_type": "markdown",
   "metadata": {},
   "source": [
    "We will combine both of them to create subjects in lie statements and we will show top 20 subjects in false and pants-fire statements."
   ]
  },
  {
   "cell_type": "code",
   "execution_count": 20,
   "metadata": {
    "collapsed": true
   },
   "outputs": [],
   "source": [
    "# Combining both statement types and sum the counts\n",
    "lie_subjects = pd.concat([false_st[1][:20], pants_fire_st[1][:20]])\n",
    "lie_subjects = lie_subjects.groupby(lie_subjects.index).sum().sort_values(ascending=False)[:20]"
   ]
  },
  {
   "cell_type": "code",
   "execution_count": 21,
   "metadata": {
    "collapsed": true
   },
   "outputs": [],
   "source": [
    "import pylab\n",
    "import sys"
   ]
  },
  {
   "cell_type": "code",
   "execution_count": 36,
   "metadata": {},
   "outputs": [
    {
     "data": {
      "image/png": "[encoded data removed]",
      "text/plain": [
       "<matplotlib.figure.Figure at 0x1a22bf9390>"
      ]
     },
     "metadata": {},
     "output_type": "display_data"
    }
   ],
   "source": [
    "fig = plt.figure(figsize=(20,10))\n",
    "lie_subjects.plot.bar()\n",
    "plt.xlabel('Subjects', fontsize=16)\n",
    "plt.ylabel('Count of lies', fontsize=16)\n",
    "plt.title('Top 20 Subjects in Lies', fontsize=18)\n",
    "plt.gca().yaxis.set_tick_params(labelsize=14)\n",
    "plt.gca().xaxis.set_tick_params(labelsize=14)\n",
    "plt.savefig('Figure1.png', bbox_inches=\"tight\", dpi=200)"
   ]
  },
  {
   "cell_type": "markdown",
   "metadata": {},
   "source": [
    "We observe that politicians and news sources lie mostly about health-care, taxes and economy. Candidates-biographies, unsurprisingly, are a common thing to lie about. "
   ]
  },
  {
   "cell_type": "markdown",
   "metadata": {},
   "source": [
    "***"
   ]
  },
  {
   "cell_type": "markdown",
   "metadata": {},
   "source": [
    "### Q2. What are the most frequent words that used in lies?\n",
    "\n",
    "We count the words in the statements for false and pants-fire category. First, we get the counts of words in the statements for each target value. Then, we get the counts of words in pants-fire and false statements to determine the words are the most common in lies."
   ]
  },
  {
   "cell_type": "code",
   "execution_count": 38,
   "metadata": {
    "collapsed": true
   },
   "outputs": [],
   "source": [
    "# Get the counts of the words that are most common in false and pants-fire statements.\n",
    "statement_word_counts = get_count_group('Statement', data_group_df, ' ', True)\n",
    "false_st_count = statement_word_counts[1][1]\n",
    "pants_fire_st_count = statement_word_counts[4][1]"
   ]
  },
  {
   "cell_type": "code",
   "execution_count": 39,
   "metadata": {},
   "outputs": [
    {
     "name": "stdout",
     "output_type": "stream",
     "text": [
      "Top 10 words in false statements:\n",
      "the     2236\n",
      "to      1103\n",
      "in      1099\n",
      "of       977\n",
      "a        830\n",
      "says     599\n",
      "and      577\n",
      "for      494\n",
      "that     480\n",
      "is       470\n",
      "dtype: int64\n"
     ]
    }
   ],
   "source": [
    "print(\"Top 10 words in false statements:\\n{}\".format(false_st_count[:10]))"
   ]
  },
  {
   "cell_type": "markdown",
   "metadata": {},
   "source": [
    "Most of the words are stop words and meaningless for analysis. We need specific keywords. We get rid of stop words and try to reveal the relevant words for analysis. We use `NLTK` library to remove irrelevant words."
   ]
  },
  {
   "cell_type": "code",
   "execution_count": 57,
   "metadata": {},
   "outputs": [
    {
     "name": "stdout",
     "output_type": "stream",
     "text": [
      "[nltk_data] Downloading package stopwords to\n",
      "[nltk_data]     /Users/canaltinigne/nltk_data...\n",
      "[nltk_data]   Package stopwords is already up-to-date!\n"
     ]
    }
   ],
   "source": [
    "# NLTK's stopWords\n",
    "nltk.download('stopwords')\n",
    "stopWords = list(set(stopwords.words('english')))"
   ]
  },
  {
   "cell_type": "code",
   "execution_count": 41,
   "metadata": {},
   "outputs": [
    {
     "data": {
      "text/plain": [
       "says          292\n",
       "obama         123\n",
       "president      92\n",
       "health         77\n",
       "care           75\n",
       "barack         70\n",
       "tax            63\n",
       "state          59\n",
       "said           58\n",
       "               58\n",
       "percent        55\n",
       "people         54\n",
       "bill           52\n",
       "new            47\n",
       "would          46\n",
       "u.s            45\n",
       "one            45\n",
       "million        39\n",
       "years          39\n",
       "wisconsin      39\n",
       "obamacare      38\n",
       "government     37\n",
       "states         36\n",
       "jobs           36\n",
       "law            36\n",
       "dtype: int64"
      ]
     },
     "execution_count": 41,
     "metadata": {},
     "output_type": "execute_result"
    }
   ],
   "source": [
    "# Get the words that are not in stopwords.\n",
    "pants_fire_st_count[~pants_fire_st_count.index.isin(stopWords)][:25]"
   ]
  },
  {
   "cell_type": "markdown",
   "metadata": {},
   "source": [
    "We will select top 10 specific words from this list by hand, because there are particular relationships between some words (some of the words are used together i.e. health-care, Barack Obama). Also some of the words are irrelevant or not interesting."
   ]
  },
  {
   "cell_type": "code",
   "execution_count": 42,
   "metadata": {
    "collapsed": true
   },
   "outputs": [],
   "source": [
    "# Selected words from pants-fire statements.\n",
    "pants_fire_words = ['obama', 'health', 'tax', 'people', 'bill', 'new', 'u.s', 'wisconsin', 'obamacare', 'law']"
   ]
  },
  {
   "cell_type": "code",
   "execution_count": 43,
   "metadata": {},
   "outputs": [
    {
     "data": {
      "text/plain": [
       "says          599\n",
       "percent       194\n",
       "state         187\n",
       "obama         185\n",
       "health        178\n",
       "president     168\n",
       "tax           159\n",
       "care          152\n",
       "people        140\n",
       "years         130\n",
       "would         129\n",
       "new           115\n",
       "jobs          111\n",
       "states        110\n",
       "u.s           107\n",
       "government    106\n",
       "barack        106\n",
       "year          105\n",
       "bill          103\n",
       "billion        99\n",
       "budget         98\n",
       "one            96\n",
       "million        88\n",
       "said           87\n",
       "wisconsin      85\n",
       "dtype: int64"
      ]
     },
     "execution_count": 43,
     "metadata": {},
     "output_type": "execute_result"
    }
   ],
   "source": [
    "# Doing the same thing for false statements.\n",
    "false_st_count[~false_st_count.index.isin(stopWords)][:25]"
   ]
  },
  {
   "cell_type": "code",
   "execution_count": 44,
   "metadata": {
    "collapsed": true
   },
   "outputs": [],
   "source": [
    "false_words = ['obama', 'health', 'tax', 'people', 'new', 'jobs', 'u.s', 'bill', 'budget', 'wisconsin']"
   ]
  },
  {
   "cell_type": "code",
   "execution_count": 49,
   "metadata": {},
   "outputs": [
    {
     "data": {
      "image/png": "[encoded data removed]",
      "text/plain": [
       "<matplotlib.figure.Figure at 0x1a2f1d2518>"
      ]
     },
     "metadata": {},
     "output_type": "display_data"
    }
   ],
   "source": [
    "plt.figure(figsize=(20,10))\n",
    "false_st_count[false_st_count.index.isin(false_words)].plot.bar()\n",
    "plt.xlabel('Subjects', fontsize=16)\n",
    "plt.ylabel('Count of lies', fontsize=16)\n",
    "plt.title('Top 20 Specific Words in False Statements', fontsize=18)\n",
    "plt.xlabel('Subjects', )\n",
    "plt.gca().yaxis.set_tick_params(labelsize=14)\n",
    "plt.gca().xaxis.set_tick_params(labelsize=14)\n",
    "plt.savefig('Figure2.png', bbox_inches=\"tight\", dpi=200)"
   ]
  },
  {
   "cell_type": "code",
   "execution_count": 50,
   "metadata": {},
   "outputs": [
    {
     "data": {
      "image/png": "[encoded data removed]",
      "text/plain": [
       "<matplotlib.figure.Figure at 0x1a2ef034e0>"
      ]
     },
     "metadata": {},
     "output_type": "display_data"
    }
   ],
   "source": [
    "plt.figure(figsize=(20,10))\n",
    "pants_fire_st_count[pants_fire_st_count.index.isin(pants_fire_words)].plot.bar()\n",
    "plt.xlabel('Subjects', fontsize=16)\n",
    "plt.ylabel('Count of lies', fontsize=16)\n",
    "plt.title('Top 20 Specific Words in Pants-Fire Statements', fontsize=18)\n",
    "plt.gca().yaxis.set_tick_params(labelsize=14)\n",
    "plt.gca().xaxis.set_tick_params(labelsize=14)\n",
    "plt.savefig('Figure2.png', bbox_inches=\"tight\", dpi=200)"
   ]
  },
  {
   "cell_type": "markdown",
   "metadata": {},
   "source": [
    "We observe that the Former U.S. President Barack Obama's name are the most common word in false and pants-fire statements. Also health-care and tax are very common words in lies. One of the interesting things in this dataset is that the word count of *Wisconsin* in lies is substantial. We can deduce that there are a lot of lies specifically told in Wisconsin or about Wisconsin. Finally, we can see that *Obamacare* is among the most common words in lies list. We think that people against this health reform told considerable amount of lies about this subject.  "
   ]
  },
  {
   "cell_type": "markdown",
   "metadata": {},
   "source": [
    "***"
   ]
  },
  {
   "cell_type": "markdown",
   "metadata": {},
   "source": [
    "### Q3. What are the most frequent words that used in lies relating to specific subjects ?"
   ]
  },
  {
   "cell_type": "code",
   "execution_count": 90,
   "metadata": {
    "collapsed": true
   },
   "outputs": [],
   "source": [
    "def make_word_series(df, col_filter, col_parse, string):\n",
    "    df_col = df[df[col_filter].str.contains(string, na=False)][col_parse]\n",
    "    word_series = pd.Series(str(v).split(' ') for v in df_col)\n",
    "    word_series = pd.Series([st for row in word_series for st in row])\n",
    "    word_series = word_series.str.lower().str.rstrip('.,\"”\\'').str.lstrip('\\'\\\"”')\n",
    "    word_series = word_series[~word_series.isin(stopWords)][~word_series.isin([''])]\n",
    "    return word_series"
   ]
  },
  {
   "cell_type": "code",
   "execution_count": 91,
   "metadata": {
    "collapsed": true
   },
   "outputs": [],
   "source": [
    "lies_df = pd.concat([liar_dataframe[liar_dataframe.Label == 'false'], liar_dataframe[liar_dataframe.Label == 'pants-fire']])\n",
    "truth_df = pd.concat([liar_dataframe[liar_dataframe.Label == 'true'], liar_dataframe[liar_dataframe.Label == 'mostly-true']])"
   ]
  },
  {
   "cell_type": "markdown",
   "metadata": {},
   "source": [
    "#### Health-care: "
   ]
  },
  {
   "cell_type": "code",
   "execution_count": 92,
   "metadata": {},
   "outputs": [
    {
     "data": {
      "text/plain": [
       "health       230\n",
       "care         201\n",
       "says         102\n",
       "obamacare     87\n",
       "law           62\n",
       "dtype: int64"
      ]
     },
     "execution_count": 92,
     "metadata": {},
     "output_type": "execute_result"
    }
   ],
   "source": [
    "health_care_lies = make_word_series(lies_df, 'Subject', 'Statement', 'health-care')\n",
    "health_care_lie_counts = health_care_lies.value_counts()\n",
    "health_care_lie_counts.head()"
   ]
  },
  {
   "cell_type": "code",
   "execution_count": 93,
   "metadata": {},
   "outputs": [
    {
     "data": {
      "text/plain": [
       "health       183\n",
       "care         135\n",
       "insurance     69\n",
       "says          61\n",
       "percent       49\n",
       "dtype: int64"
      ]
     },
     "execution_count": 93,
     "metadata": {},
     "output_type": "execute_result"
    }
   ],
   "source": [
    "health_care_truth = make_word_series(truth_df, 'Subject', 'Statement', 'health-care')\n",
    "health_care_truth_counts = health_care_truth.value_counts()\n",
    "health_care_truth_counts.head()"
   ]
  },
  {
   "cell_type": "code",
   "execution_count": 94,
   "metadata": {},
   "outputs": [
    {
     "data": {
      "image/png": "[encoded data removed]",
      "text/plain": [
       "<matplotlib.figure.Figure at 0x1a2aedeac8>"
      ]
     },
     "metadata": {},
     "output_type": "display_data"
    }
   ],
   "source": [
    "f, (ax1, ax2) = plt.subplots(1, 2,  figsize=(16,6),sharey=True)\n",
    "health_care_lie_counts[0:10].plot(ax=ax1,kind='bar')\n",
    "health_care_truth_counts[0:10].plot(ax=ax2, kind='bar')\n",
    "\n",
    "ax1.set_xlabel('Lies')\n",
    "ax1.set_ylabel('Word Counts')\n",
    "ax2.set_xlabel('True Statements')\n",
    "f.savefig('Figure31.png', bbox_inches=\"tight\", dpi=200)"
   ]
  },
  {
   "cell_type": "markdown",
   "metadata": {},
   "source": [
    "When top 10 frequent words relating to health-care are analyzed for lies and truths, it is found that some words in lies are not found in top words of truths. These words are 'law', 'medicare', 'would' and 'government'. It is also observed that ranks of some words in lies precede their ranks in truths. These words are 'says' and 'obamacare'."
   ]
  },
  {
   "cell_type": "markdown",
   "metadata": {},
   "source": [
    "#### Taxes: "
   ]
  },
  {
   "cell_type": "code",
   "execution_count": 80,
   "metadata": {},
   "outputs": [
    {
     "data": {
      "text/plain": [
       "tax        184\n",
       "says        88\n",
       "taxes       80\n",
       "percent     37\n",
       "income      32\n",
       "dtype: int64"
      ]
     },
     "execution_count": 80,
     "metadata": {},
     "output_type": "execute_result"
    }
   ],
   "source": [
    "taxes_lies = make_word_series(lies_df, 'Subject', 'Statement', 'taxes')\n",
    "taxes_lie_counts = taxes_lies.value_counts()\n",
    "taxes_lie_counts.head()"
   ]
  },
  {
   "cell_type": "code",
   "execution_count": 81,
   "metadata": {},
   "outputs": [
    {
     "data": {
      "text/plain": [
       "tax        248\n",
       "taxes      137\n",
       "says       100\n",
       "percent     93\n",
       "income      53\n",
       "dtype: int64"
      ]
     },
     "execution_count": 81,
     "metadata": {},
     "output_type": "execute_result"
    }
   ],
   "source": [
    "taxes_truth = make_word_series(truth_df, 'Subject', 'Statement', 'taxes')\n",
    "taxes_truth_counts = taxes_truth.value_counts()\n",
    "taxes_truth_counts.head()"
   ]
  },
  {
   "cell_type": "code",
   "execution_count": 95,
   "metadata": {},
   "outputs": [
    {
     "data": {
      "image/png": "[encoded data removed]",
      "text/plain": [
       "<matplotlib.figure.Figure at 0x1a2f9c7b38>"
      ]
     },
     "metadata": {},
     "output_type": "display_data"
    }
   ],
   "source": [
    "f, (ax1, ax2) = plt.subplots(1, 2,  figsize=(16,6),sharey=True)\n",
    "taxes_lie_counts[0:10].plot(ax=ax1,kind='bar')\n",
    "taxes_truth_counts[0:10].plot(ax=ax2, kind='bar')\n",
    "\n",
    "ax1.set_xlabel('Lies')\n",
    "ax1.set_ylabel('Word Counts')\n",
    "ax2.set_xlabel('True Statements')\n",
    "f.savefig('Figure32.png', bbox_inches=\"tight\", dpi=200)"
   ]
  },
  {
   "cell_type": "markdown",
   "metadata": {},
   "source": [
    "When top 10 frequent words relating to taxes are analyzed for lies and truths, it is found that only one word in lies is not found in top words of truths. It is 'increase'. It is also observed that ranks of no words in lies precedes its rank in truths."
   ]
  },
  {
   "cell_type": "markdown",
   "metadata": {},
   "source": [
    "#### Economy:"
   ]
  },
  {
   "cell_type": "code",
   "execution_count": 83,
   "metadata": {},
   "outputs": [
    {
     "data": {
      "text/plain": [
       "says            50\n",
       "jobs            50\n",
       "percent         33\n",
       "unemployment    29\n",
       "economy         25\n",
       "dtype: int64"
      ]
     },
     "execution_count": 83,
     "metadata": {},
     "output_type": "execute_result"
    }
   ],
   "source": [
    "economy_lies = make_word_series(lies_df, 'Subject', 'Statement', 'economy')\n",
    "economy_lie_counts = economy_lies.value_counts()\n",
    "economy_lie_counts.head()"
   ]
  },
  {
   "cell_type": "code",
   "execution_count": 84,
   "metadata": {},
   "outputs": [
    {
     "data": {
      "text/plain": [
       "percent    127\n",
       "jobs       104\n",
       "says        67\n",
       "years       53\n",
       "million     47\n",
       "dtype: int64"
      ]
     },
     "execution_count": 84,
     "metadata": {},
     "output_type": "execute_result"
    }
   ],
   "source": [
    "economy_truth = make_word_series(truth_df, 'Subject', 'Statement', 'economy')\n",
    "economy_truth_counts = economy_truth.value_counts()\n",
    "economy_truth_counts.head()"
   ]
  },
  {
   "cell_type": "code",
   "execution_count": 96,
   "metadata": {},
   "outputs": [
    {
     "data": {
      "image/png": "[encoded data removed]",
      "text/plain": [
       "<matplotlib.figure.Figure at 0x1a2a816e48>"
      ]
     },
     "metadata": {},
     "output_type": "display_data"
    }
   ],
   "source": [
    "f, (ax1, ax2) = plt.subplots(1, 2,  figsize=(16,6),sharey=True)\n",
    "economy_lie_counts[0:10].plot(ax=ax1,kind='bar')\n",
    "economy_truth_counts[0:10].plot(ax=ax2, kind='bar')\n",
    "\n",
    "ax1.set_xlabel('Lies')\n",
    "ax1.set_ylabel('Word Counts')\n",
    "ax2.set_xlabel('True Statements')\n",
    "f.savefig('Figure33.png', bbox_inches=\"tight\", dpi=200)"
   ]
  },
  {
   "cell_type": "markdown",
   "metadata": {},
   "source": [
    "When top 10 frequent words relating to ecomony are analyzed for lies and truths, it is found that some words in lies are not found in top words of truths. These words are 'tax', 'president', 'obama' and 'people'. It is also observed that ranks of some words in lies precede their rank in truths. These words are 'says', 'economy' and 'unemployment'."
   ]
  },
  {
   "cell_type": "markdown",
   "metadata": {},
   "source": [
    "#### Immigration:"
   ]
  },
  {
   "cell_type": "code",
   "execution_count": 87,
   "metadata": {},
   "outputs": [
    {
     "data": {
      "text/plain": [
       "illegal        56\n",
       "says           50\n",
       "immigrants     35\n",
       "immigration    35\n",
       "border         26\n",
       "dtype: int64"
      ]
     },
     "execution_count": 87,
     "metadata": {},
     "output_type": "execute_result"
    }
   ],
   "source": [
    "immigration_lies = make_word_series(lies_df, 'Subject', 'Statement', 'immigration')\n",
    "immigration_lie_counts = immigration_lies.value_counts()\n",
    "immigration_lie_counts.head()"
   ]
  },
  {
   "cell_type": "code",
   "execution_count": 88,
   "metadata": {},
   "outputs": [
    {
     "data": {
      "text/plain": [
       "immigration    41\n",
       "says           41\n",
       "illegal        35\n",
       "immigrants     35\n",
       "border         30\n",
       "dtype: int64"
      ]
     },
     "execution_count": 88,
     "metadata": {},
     "output_type": "execute_result"
    }
   ],
   "source": [
    "immigration_truth = make_word_series(truth_df, 'Subject', 'Statement', 'immigration')\n",
    "immigration_truth_counts = immigration_truth.value_counts()\n",
    "immigration_truth_counts.head()"
   ]
  },
  {
   "cell_type": "code",
   "execution_count": 97,
   "metadata": {},
   "outputs": [
    {
     "data": {
      "image/png": "[encoded data removed]",
      "text/plain": [
       "<matplotlib.figure.Figure at 0x1a30523be0>"
      ]
     },
     "metadata": {},
     "output_type": "display_data"
    }
   ],
   "source": [
    "f, (ax1, ax2) = plt.subplots(1, 2,  figsize=(16,6),sharey=True)\n",
    "immigration_lie_counts[0:10].plot(ax=ax1,kind='bar')\n",
    "immigration_truth_counts[0:10].plot(ax=ax2, kind='bar')\n",
    "\n",
    "ax1.set_xlabel('Lies')\n",
    "ax1.set_ylabel('Word Counts')\n",
    "ax2.set_xlabel('True Statements')\n",
    "f.savefig('Figure34.png', bbox_inches=\"tight\", dpi=200)"
   ]
  },
  {
   "cell_type": "markdown",
   "metadata": {},
   "source": [
    "When top 10 frequent words relating to immigration are analyzed for lies and truths, it is found that some words in lies are not found in top words of truths. These words are 'arizona', 'bill', and 'voted'. It is also observed that ranks of some words in lies precede their rank in truths. These words are 'illegal', and 'immigrants."
   ]
  },
  {
   "cell_type": "markdown",
   "metadata": {},
   "source": [
    "Overall, it can be deduced that top words in both lies and truths are the words related to the category and therefore expected. Even though there are difference of ranks in top words of lies and truths, this difference is not enough to deduce that a sentence with a given word has a higher chance of being true or a lie."
   ]
  },
  {
   "cell_type": "markdown",
   "metadata": {},
   "source": [
    "***"
   ]
  },
  {
   "cell_type": "markdown",
   "metadata": {},
   "source": [
    "### Q4. What is the total number of lies told by state representers ?"
   ]
  },
  {
   "cell_type": "markdown",
   "metadata": {},
   "source": [
    "We will count the number of false and pants-fire statements made by each state representers. Also, in order to remove places which are not a state of United States, we maintain a list of state names of United States. "
   ]
  },
  {
   "cell_type": "code",
   "execution_count": 15,
   "metadata": {
    "collapsed": true
   },
   "outputs": [],
   "source": [
    "# State names list\n",
    "import pickle\n",
    "with open('data/state_names.pkl', 'rb') as f:\n",
    "    states = pickle.load(f)"
   ]
  },
  {
   "cell_type": "markdown",
   "metadata": {},
   "source": [
    "First, we get the counts of false and pants-fire statements made by each state representers. Then, we concat them to create lie counts for each state."
   ]
  },
  {
   "cell_type": "code",
   "execution_count": 19,
   "metadata": {
    "collapsed": true
   },
   "outputs": [],
   "source": [
    "# Get the counts of false and pants-fire statements for each state\n",
    "state_counts = get_count_group('State', data_group_df, '', True)\n",
    "false_st_states = state_counts[1][1]\n",
    "pants_fire_states = state_counts[4][1]\n",
    "\n",
    "# Concat false and pants-fire statements\n",
    "lie_states = pd.concat([false_st_states, pants_fire_states])\n",
    "lie_states = lie_states.groupby(lie_states.index).sum()\n",
    "\n",
    "# Convert it to a dataframe\n",
    "lie_states = pd.DataFrame(lie_states)\n",
    "\n",
    "# Remove state name as an index\n",
    "lie_states = lie_states.reset_index()"
   ]
  },
  {
   "cell_type": "code",
   "execution_count": 20,
   "metadata": {},
   "outputs": [
    {
     "data": {
      "text/html": [
       "<div>\n",
       "<style scoped>\n",
       "    .dataframe tbody tr th:only-of-type {\n",
       "        vertical-align: middle;\n",
       "    }\n",
       "\n",
       "    .dataframe tbody tr th {\n",
       "        vertical-align: top;\n",
       "    }\n",
       "\n",
       "    .dataframe thead th {\n",
       "        text-align: right;\n",
       "    }\n",
       "</style>\n",
       "<table border=\"1\" class=\"dataframe\">\n",
       "  <thead>\n",
       "    <tr style=\"text-align: right;\">\n",
       "      <th></th>\n",
       "      <th>index</th>\n",
       "      <th>0</th>\n",
       "    </tr>\n",
       "  </thead>\n",
       "  <tbody>\n",
       "    <tr>\n",
       "      <th>0</th>\n",
       "      <td>Alabama</td>\n",
       "      <td>7</td>\n",
       "    </tr>\n",
       "    <tr>\n",
       "      <th>1</th>\n",
       "      <td>Alaska</td>\n",
       "      <td>34</td>\n",
       "    </tr>\n",
       "    <tr>\n",
       "      <th>2</th>\n",
       "      <td>Arizona</td>\n",
       "      <td>60</td>\n",
       "    </tr>\n",
       "    <tr>\n",
       "      <th>3</th>\n",
       "      <td>Arkansas</td>\n",
       "      <td>20</td>\n",
       "    </tr>\n",
       "    <tr>\n",
       "      <th>4</th>\n",
       "      <td>California</td>\n",
       "      <td>47</td>\n",
       "    </tr>\n",
       "  </tbody>\n",
       "</table>\n",
       "</div>"
      ],
      "text/plain": [
       "        index   0\n",
       "0     Alabama   7\n",
       "1      Alaska  34\n",
       "2     Arizona  60\n",
       "3    Arkansas  20\n",
       "4  California  47"
      ]
     },
     "execution_count": 20,
     "metadata": {},
     "output_type": "execute_result"
    }
   ],
   "source": [
    "lie_states.head()"
   ]
  },
  {
   "cell_type": "code",
   "execution_count": 21,
   "metadata": {
    "collapsed": true
   },
   "outputs": [],
   "source": [
    "# Rename the new columns\n",
    "lie_states = lie_states.rename({\"index\":\"id\", 0: \"Lies\"}, axis='columns')"
   ]
  },
  {
   "cell_type": "code",
   "execution_count": 22,
   "metadata": {
    "collapsed": true
   },
   "outputs": [],
   "source": [
    "# If the place is a state of United States\n",
    "lie_states = lie_states[lie_states['id'].isin(states)]"
   ]
  },
  {
   "cell_type": "code",
   "execution_count": 23,
   "metadata": {
    "collapsed": true
   },
   "outputs": [],
   "source": [
    "# Sort the dataset w.r.t lie counts\n",
    "lie_states = lie_states.sort_values(by=['Lies'], ascending=False)\n",
    "\n",
    "# Make state name index\n",
    "lie_states.set_index('id', inplace=True)"
   ]
  },
  {
   "cell_type": "code",
   "execution_count": 24,
   "metadata": {},
   "outputs": [
    {
     "data": {
      "text/html": [
       "<div>\n",
       "<style scoped>\n",
       "    .dataframe tbody tr th:only-of-type {\n",
       "        vertical-align: middle;\n",
       "    }\n",
       "\n",
       "    .dataframe tbody tr th {\n",
       "        vertical-align: top;\n",
       "    }\n",
       "\n",
       "    .dataframe thead th {\n",
       "        text-align: right;\n",
       "    }\n",
       "</style>\n",
       "<table border=\"1\" class=\"dataframe\">\n",
       "  <thead>\n",
       "    <tr style=\"text-align: right;\">\n",
       "      <th></th>\n",
       "      <th>Lies</th>\n",
       "    </tr>\n",
       "    <tr>\n",
       "      <th>id</th>\n",
       "      <th></th>\n",
       "    </tr>\n",
       "  </thead>\n",
       "  <tbody>\n",
       "    <tr>\n",
       "      <th>Texas</th>\n",
       "      <td>333</td>\n",
       "    </tr>\n",
       "    <tr>\n",
       "      <th>Wisconsin</th>\n",
       "      <td>291</td>\n",
       "    </tr>\n",
       "    <tr>\n",
       "      <th>Florida</th>\n",
       "      <td>273</td>\n",
       "    </tr>\n",
       "    <tr>\n",
       "      <th>New York</th>\n",
       "      <td>272</td>\n",
       "    </tr>\n",
       "    <tr>\n",
       "      <th>Virginia</th>\n",
       "      <td>147</td>\n",
       "    </tr>\n",
       "  </tbody>\n",
       "</table>\n",
       "</div>"
      ],
      "text/plain": [
       "           Lies\n",
       "id             \n",
       "Texas       333\n",
       "Wisconsin   291\n",
       "Florida     273\n",
       "New York    272\n",
       "Virginia    147"
      ]
     },
     "execution_count": 24,
     "metadata": {},
     "output_type": "execute_result"
    }
   ],
   "source": [
    "lie_states.head()"
   ]
  },
  {
   "cell_type": "markdown",
   "metadata": {},
   "source": [
    "We can see that the top 5 state which have the largest number of lie statements are Texas, Wisconsin, Florida, New York and Virginia. We can deduce that since Texas and New York are among the largest states of United States, the number of representers in these states are high unsurprisingly. However, although Wisconsin is a small state, it has a huge number of lies interestingly. It means that state representers in Wisconsin loves lying. We show the number of lies told by each state representers in a bar chart below."
   ]
  },
  {
   "cell_type": "code",
   "execution_count": 29,
   "metadata": {},
   "outputs": [
    {
     "data": {
      "image/png": "[encoded data removed]",
      "text/plain": [
       "<matplotlib.figure.Figure at 0x1a19e9fa58>"
      ]
     },
     "metadata": {},
     "output_type": "display_data"
    }
   ],
   "source": [
    "# Show the bar chart\n",
    "lie_states.sort_values(by=['Lies'], ascending=True).plot.barh(legend=None, figsize=(10,12))\n",
    "plt.ylabel('States', fontsize=16)\n",
    "plt.xlabel('Number of Lies', fontsize=16)\n",
    "plt.title('Number of Lies told by State Representers', y=1.02, fontsize=18)\n",
    "plt.gca().yaxis.set_tick_params(labelsize=12)\n",
    "plt.gca().xaxis.set_tick_params(labelsize=12)\n",
    "plt.savefig('Figure4.png', bbox_inches=\"tight\", dpi=200)"
   ]
  },
  {
   "cell_type": "markdown",
   "metadata": {},
   "source": [
    "Also we show the results in a `Folium` map. "
   ]
  },
  {
   "cell_type": "code",
   "execution_count": 643,
   "metadata": {
    "collapsed": true
   },
   "outputs": [],
   "source": [
    "# Get the GeoJson File\n",
    "geo_json = json.load(open('data/us-states.json'))\n",
    "\n",
    "# Convert indices to column for folium\n",
    "lie_states = lie_states.reset_index()\n",
    "\n",
    "us_map = folium.Map(location=[40, -102], zoom_start=4)\n",
    "\n",
    "us_map.choropleth(geo_data=geo_json, \n",
    "                  data=lie_states,\n",
    "                  columns=['id', 'Lies'],\n",
    "                  key_on='feature.properties.name',\n",
    "                  fill_color='YlGn',\n",
    "                  fill_opacity=0.7,\n",
    "                  line_opacity=0.2,\n",
    "                  legend_name='Number of Lies'\n",
    "                 )\n",
    "\n",
    "us_map.save('static/map.html')"
   ]
  },
  {
   "cell_type": "code",
   "execution_count": 1,
   "metadata": {},
   "outputs": [
    {
     "data": {
      "text/html": [
       "<iframe src=static/map.html width=800 height=500></iframe>"
      ],
      "text/plain": [
       "<IPython.core.display.HTML object>"
      ]
     },
     "execution_count": 1,
     "metadata": {},
     "output_type": "execute_result"
    }
   ],
   "source": [
    "from IPython.display import HTML\n",
    "HTML('<iframe src=static/map.html width=800 height=500></iframe>')"
   ]
  },
  {
   "cell_type": "markdown",
   "metadata": {},
   "source": [
    "***"
   ]
  },
  {
   "cell_type": "markdown",
   "metadata": {},
   "source": [
    "### Q5. Do republicans and democrats tell lies more in the states that they won or they lost ?"
   ]
  },
  {
   "cell_type": "code",
   "execution_count": 122,
   "metadata": {
    "collapsed": true
   },
   "outputs": [],
   "source": [
    "# Dictionary from State Name to State Code like CA, AL etc.\n",
    "import pickle\n",
    "with open(\"data/us_abbrev.pkl\", \"rb\") as input_file:\n",
    "    US_state_to_code = pickle.load(input_file)"
   ]
  },
  {
   "cell_type": "code",
   "execution_count": 123,
   "metadata": {
    "collapsed": true
   },
   "outputs": [],
   "source": [
    "US_state_to_code['Florida ']='FL'"
   ]
  },
  {
   "cell_type": "code",
   "execution_count": 124,
   "metadata": {
    "collapsed": true
   },
   "outputs": [],
   "source": [
    "# get count of a given column per each label category\n",
    "# Data having dates between min_date and max_date filtered\n",
    "# Political View: Democrat - Republican can also be filtered by 'party' parameter\n",
    "\n",
    "def get_count_group_by_years(min_date,max_date,col_num, df, delimiter, get_all, party,n=0):\n",
    "    result = []\n",
    "    i = 0\n",
    "    for group in df:\n",
    "        group[1]['Date'] = pd.to_datetime(group[1]['Date'])\n",
    "        col = group[1].loc[np.logical_and(group[1]['Date']>min_date , group[1]['Date']<max_date)]\n",
    "        col = col.loc[col['The Party Affiliation']==party]\n",
    "        col = col[col_num]\n",
    "        if(len(delimiter) > 0):\n",
    "            if(get_all):\n",
    "                elements = pd.Series(str(v).split(delimiter) for v in col)\n",
    "            else:\n",
    "                elements = pd.Series(str(v).split(delimiter) for v in col)\n",
    "            elements = [st for row in elements for st in row]\n",
    "            element_values = pd.Series(elements).str.lower().str.rstrip('.,\"”\\'').str.lstrip('\\'\\\"”').value_counts()\n",
    "        else:\n",
    "            elements = pd.Series(v for v in col)\n",
    "            elements = [st for st in elements]\n",
    "            element_values = pd.Series(elements).value_counts()\n",
    "        result.append([])\n",
    "        result[i].append(group[0])\n",
    "        result[i].append(element_values)\n",
    "        i = i + 1\n",
    "    return result"
   ]
  },
  {
   "cell_type": "markdown",
   "metadata": {},
   "source": [
    "Dataset is grouped according to its truth label."
   ]
  },
  {
   "cell_type": "code",
   "execution_count": 125,
   "metadata": {
    "collapsed": true
   },
   "outputs": [],
   "source": [
    "# grouping all statements data by label\n",
    "data_group_df = liar_dataframe.groupby('Label')"
   ]
  },
  {
   "cell_type": "markdown",
   "metadata": {},
   "source": [
    "Official Dates of US Elections are assigned to variables **date_year**_election."
   ]
  },
  {
   "cell_type": "code",
   "execution_count": 126,
   "metadata": {
    "collapsed": true
   },
   "outputs": [],
   "source": [
    "date_2008_election = datetime(2008, 11, 4, 0, 0)\n",
    "date_2012_election = datetime(2012, 11, 6, 0, 0)\n",
    "date_2016_election = datetime(2016, 11, 8, 0, 0)"
   ]
  },
  {
   "cell_type": "markdown",
   "metadata": {},
   "source": [
    "state\\_counts\\_\"year\"_\"politicView\" = number of statements grouped by states where (democrat or republican)speakers given their speeches between last election and the election in \"year\" grouped by the truth labels.\n",
    "\n",
    "For instance: For state_counts_2012_democrat, data samples between 'date_2008_election' and 'date_2012_election' and said by a democrat are filtered. "
   ]
  },
  {
   "cell_type": "code",
   "execution_count": 127,
   "metadata": {},
   "outputs": [
    {
     "name": "stderr",
     "output_type": "stream",
     "text": [
      "/Users/canaltinigne/anaconda3/lib/python3.6/site-packages/ipykernel_launcher.py:9: SettingWithCopyWarning: \n",
      "A value is trying to be set on a copy of a slice from a DataFrame.\n",
      "Try using .loc[row_indexer,col_indexer] = value instead\n",
      "\n",
      "See the caveats in the documentation: http://pandas.pydata.org/pandas-docs/stable/indexing.html#indexing-view-versus-copy\n",
      "  if __name__ == '__main__':\n"
     ]
    }
   ],
   "source": [
    "#count of states where (democrat or republican)speakers said their statements grouped by the truth labels 2012 \n",
    "state_counts_2012_democrat = get_count_group_by_years(date_2008_election,date_2012_election,'State',\\\n",
    "                                                 data_group_df, '', True,'democrat')\n",
    "state_counts_2012_republican = get_count_group_by_years(date_2008_election,date_2012_election,'State',\\\n",
    "                                                 data_group_df, '', True,'republican')\n",
    "\n",
    "#count of states where (democrat or republican)speakers said their statements grouped by the truth labels 2016\n",
    "state_counts_2016_democrat = get_count_group_by_years(date_2012_election,date_2016_election,'State',\\\n",
    "                                                 data_group_df, '', True,'democrat')\n",
    "state_counts_2016_republican = get_count_group_by_years(date_2012_election,date_2016_election,'State',\\\n",
    "                                                 data_group_df, '', True,'republican')"
   ]
  },
  {
   "cell_type": "code",
   "execution_count": 128,
   "metadata": {},
   "outputs": [
    {
     "name": "stdout",
     "output_type": "stream",
     "text": [
      "Label: barely-true\n",
      "State Counts:\n",
      " Illinois            38\n",
      "Florida             33\n",
      "Texas               29\n",
      "Wisconsin           24\n",
      "Rhode Island        16\n",
      "New Jersey          12\n",
      "Virginia            12\n",
      "Ohio                11\n",
      "Oregon              10\n",
      "Georgia              9\n",
      "New Hampshire        7\n",
      "California           4\n",
      "Delaware             4\n",
      "Massachusetts        4\n",
      "New York             4\n",
      "Arkansas             3\n",
      "Nevada               3\n",
      "Pennsylvania         2\n",
      "Indiana              1\n",
      "Tennessee            1\n",
      "Washington, D.C.     1\n",
      "Louisiana            1\n",
      "South Carolina       1\n",
      "dtype: int64\n"
     ]
    }
   ],
   "source": [
    "print('Label:',state_counts_2012_democrat[0][0])\n",
    "print('State Counts:\\n',state_counts_2012_democrat[0][1])"
   ]
  },
  {
   "cell_type": "markdown",
   "metadata": {},
   "source": [
    "#### Calculation of Number of Lies Said in Each State<br>\n",
    "\n",
    "We determined the number of lies said by democrats or republicans starting from the last election until the current election. (For 2012: 2008 - 2012)<br>\n",
    "We converted the state names to state codes, since the election results have state column as state code."
   ]
  },
  {
   "cell_type": "code",
   "execution_count": 129,
   "metadata": {
    "collapsed": true
   },
   "outputs": [],
   "source": [
    "#2012 election - Democrat\n",
    "# Number of \"pants fire\" and \"false\" statements said in each state are summed. \n",
    "lie_count_2012_democrat = state_counts_2012_democrat[1][1].add(state_counts_2012_democrat[4][1], fill_value=0)\n",
    "#set state codes as index\n",
    "lie_count_2012_democrat.index=[US_state_to_code[state] for state in lie_count_2012_democrat.index]\n",
    "\n",
    "#2012 election - Republican\n",
    "# Number of \"pants fire\" and \"false\" statements said in each state are summed. \n",
    "lie_count_2012_republican = state_counts_2012_republican[1][1].add(state_counts_2012_republican[4][1], fill_value=0)\n",
    "#set state codes as index\n",
    "lie_count_2012_republican.index=[US_state_to_code[state] for state in lie_count_2012_republican.index]\n",
    "\n",
    "#same process for 2016 presidental election\n",
    "lie_count_2016_democrat = state_counts_2016_democrat[1][1].add(state_counts_2016_democrat[4][1], fill_value=0)\n",
    "lie_count_2016_democrat.index=[US_state_to_code[state] for state in lie_count_2016_democrat.index]\n",
    "lie_count_2016_republican = state_counts_2016_republican[1][1].add(state_counts_2016_republican[4][1], fill_value=0)\n",
    "lie_count_2016_republican.index=[US_state_to_code[state] for state in lie_count_2016_republican.index]"
   ]
  },
  {
   "cell_type": "code",
   "execution_count": 130,
   "metadata": {},
   "outputs": [
    {
     "name": "stdout",
     "output_type": "stream",
     "text": [
      "Lies said by democrats starting from 2012 until 2016 election:\n",
      " AK     1.0\n",
      "AR     1.0\n",
      "CA    11.0\n",
      "DE     3.0\n",
      "FL    34.0\n",
      "dtype: float64\n"
     ]
    }
   ],
   "source": [
    "print(\"Lies said by democrats starting from 2012 until 2016 election:\\n\",lie_count_2016_democrat.head())"
   ]
  },
  {
   "cell_type": "markdown",
   "metadata": {},
   "source": [
    "#### Number of lies in states where the republicans won and lost. (2012-2016)\n",
    "We calculated the number of lies said by democrats and republicans in the states where they won and lost in 2012 and 2016.\n",
    "In these dataframes, indices are the US State Codes and the only column is 'Lie Count'.\n",
    "State column is set as the index of the dataframes so that the lie counts calculated in the previous step can be assigned to each each state won or lost by democrats or republicans.  "
   ]
  },
  {
   "cell_type": "code",
   "execution_count": 131,
   "metadata": {
    "collapsed": true
   },
   "outputs": [],
   "source": [
    "# initialize dataframes for states won by democrats and republicans\n",
    "won_states_democrat_2012=pd.DataFrame()\n",
    "lost_states_democrat_2012=pd.DataFrame()\n",
    "won_states_republican_2012=pd.DataFrame()\n",
    "lost_states_republican_2012=pd.DataFrame()\n",
    "\n",
    "# Number of lies said by democrats in the states where they won the election in 2012.\n",
    "won_states_democrat_2012['STATE'] = votes_2012.loc[votes_2012['Winner'] == 'D']['STATE']\n",
    "won_states_democrat_2012 = won_states_democrat_2012.set_index('STATE')\n",
    "lie_count_2012_democrat = lie_count_2012_democrat[~lie_count_2012_democrat.index.duplicated()]\n",
    "won_states_democrat_2012['Lie Count'] = lie_count_2012_democrat.to_frame()[0]\n",
    "won_states_democrat_2012 = won_states_democrat_2012.fillna(0)\n",
    "\n",
    "# Number of lies said by democrats in the states where they lost the election in 2012.\n",
    "lost_states_democrat_2012['STATE'] = votes_2012.loc[votes_2012['Winner'] == 'R']['STATE']\n",
    "lost_states_democrat_2012 = lost_states_democrat_2012.set_index('STATE')\n",
    "lost_states_democrat_2012['Lie Count'] = lie_count_2012_democrat.to_frame()[0]\n",
    "lost_states_democrat_2012 = lost_states_democrat_2012.fillna(0)\n",
    "\n",
    "# Number of lies said by republicans in the states where they won the election in 2012.\n",
    "won_states_republican_2012['STATE'] = votes_2012.loc[votes_2012['Winner'] == 'R']['STATE']\n",
    "won_states_republican_2012 = won_states_republican_2012.set_index('STATE')\n",
    "lie_count_2012_republican = lie_count_2012_republican[~lie_count_2012_republican.index.duplicated()]\n",
    "won_states_republican_2012['Lie Count'] = lie_count_2012_republican.to_frame()[0]\n",
    "won_states_republican_2012 = won_states_republican_2012.fillna(0)\n",
    "\n",
    "# Number of lies said by republicans in the states where they lost the election in 2012.\n",
    "lost_states_republican_2012['STATE'] = votes_2012.loc[votes_2012['Winner'] == 'D']['STATE']\n",
    "lost_states_republican_2012 = lost_states_republican_2012.set_index('STATE')\n",
    "lost_states_republican_2012['Lie Count'] = lie_count_2012_republican.to_frame()[0]\n",
    "lost_states_republican_2012 = lost_states_republican_2012.fillna(0)"
   ]
  },
  {
   "cell_type": "code",
   "execution_count": 132,
   "metadata": {},
   "outputs": [
    {
     "data": {
      "text/html": [
       "<div>\n",
       "<style scoped>\n",
       "    .dataframe tbody tr th:only-of-type {\n",
       "        vertical-align: middle;\n",
       "    }\n",
       "\n",
       "    .dataframe tbody tr th {\n",
       "        vertical-align: top;\n",
       "    }\n",
       "\n",
       "    .dataframe thead th {\n",
       "        text-align: right;\n",
       "    }\n",
       "</style>\n",
       "<table border=\"1\" class=\"dataframe\">\n",
       "  <thead>\n",
       "    <tr style=\"text-align: right;\">\n",
       "      <th></th>\n",
       "      <th>Lie Count</th>\n",
       "    </tr>\n",
       "    <tr>\n",
       "      <th>STATE</th>\n",
       "      <th></th>\n",
       "    </tr>\n",
       "  </thead>\n",
       "  <tbody>\n",
       "    <tr>\n",
       "      <th>CA</th>\n",
       "      <td>10.0</td>\n",
       "    </tr>\n",
       "    <tr>\n",
       "      <th>CO</th>\n",
       "      <td>1.0</td>\n",
       "    </tr>\n",
       "    <tr>\n",
       "      <th>CT</th>\n",
       "      <td>1.0</td>\n",
       "    </tr>\n",
       "    <tr>\n",
       "      <th>DE</th>\n",
       "      <td>2.0</td>\n",
       "    </tr>\n",
       "    <tr>\n",
       "      <th>DC</th>\n",
       "      <td>1.0</td>\n",
       "    </tr>\n",
       "  </tbody>\n",
       "</table>\n",
       "</div>"
      ],
      "text/plain": [
       "       Lie Count\n",
       "STATE           \n",
       "CA          10.0\n",
       "CO           1.0\n",
       "CT           1.0\n",
       "DE           2.0\n",
       "DC           1.0"
      ]
     },
     "execution_count": 132,
     "metadata": {},
     "output_type": "execute_result"
    }
   ],
   "source": [
    "lost_states_republican_2012.head()"
   ]
  },
  {
   "cell_type": "code",
   "execution_count": 133,
   "metadata": {
    "collapsed": true
   },
   "outputs": [],
   "source": [
    "# initialize dataframes for states won by democrats and republicans\n",
    "won_states_democrat_2016=pd.DataFrame()\n",
    "lost_states_democrat_2016=pd.DataFrame()\n",
    "won_states_republican_2016=pd.DataFrame()\n",
    "lost_states_republican_2016=pd.DataFrame()\n",
    "\n",
    "# Number of lies said by democrats in the states where they won the election in 2016.\n",
    "won_states_democrat_2016['STATE'] = votes_2016.loc[votes_2016['Winner'] == 'D']['STATE']\n",
    "won_states_democrat_2016 = won_states_democrat_2016.set_index('STATE')\n",
    "lie_count_2016_democrat = lie_count_2016_democrat[~lie_count_2016_democrat.index.duplicated()]\n",
    "won_states_democrat_2016['Lie Count'] = lie_count_2016_democrat.to_frame()[0]\n",
    "won_states_democrat_2016 = won_states_democrat_2016.fillna(0)\n",
    "\n",
    "# Number of lies said by democrats in the states where they lost the election in 2016.\n",
    "lost_states_democrat_2016['STATE'] = votes_2016.loc[votes_2016['Winner'] == 'R']['STATE']\n",
    "lost_states_democrat_2016 = lost_states_democrat_2016.set_index('STATE')\n",
    "lost_states_democrat_2016['Lie Count'] = lie_count_2016_democrat.to_frame()[0]\n",
    "lost_states_democrat_2016 = lost_states_democrat_2016.fillna(0)\n",
    "\n",
    "# Number of lies said by republicans in the states where they won the election in 2016.\n",
    "won_states_republican_2016['STATE'] = votes_2016.loc[votes_2016['Winner'] == 'R']['STATE']\n",
    "won_states_republican_2016 = won_states_republican_2016.set_index('STATE')\n",
    "lie_count_2016_republican = lie_count_2016_republican[~lie_count_2016_republican.index.duplicated()]\n",
    "won_states_republican_2016['Lie Count'] = lie_count_2016_republican.to_frame()[0]\n",
    "won_states_republican_2016 = won_states_republican_2016.fillna(0)\n",
    "\n",
    "# Number of lies said by republicans in the states where they lost the election in 2016.\n",
    "lost_states_republican_2016['STATE'] = votes_2016.loc[votes_2016['Winner'] == 'D']['STATE']\n",
    "lost_states_republican_2016 = lost_states_republican_2016.set_index('STATE')\n",
    "lost_states_republican_2016['Lie Count'] = lie_count_2016_republican.to_frame()[0]\n",
    "lost_states_republican_2016 = lost_states_republican_2016.fillna(0)"
   ]
  },
  {
   "cell_type": "code",
   "execution_count": 134,
   "metadata": {},
   "outputs": [
    {
     "data": {
      "text/html": [
       "<div>\n",
       "<style scoped>\n",
       "    .dataframe tbody tr th:only-of-type {\n",
       "        vertical-align: middle;\n",
       "    }\n",
       "\n",
       "    .dataframe tbody tr th {\n",
       "        vertical-align: top;\n",
       "    }\n",
       "\n",
       "    .dataframe thead th {\n",
       "        text-align: right;\n",
       "    }\n",
       "</style>\n",
       "<table border=\"1\" class=\"dataframe\">\n",
       "  <thead>\n",
       "    <tr style=\"text-align: right;\">\n",
       "      <th></th>\n",
       "      <th>Lie Count</th>\n",
       "    </tr>\n",
       "    <tr>\n",
       "      <th>STATE</th>\n",
       "      <th></th>\n",
       "    </tr>\n",
       "  </thead>\n",
       "  <tbody>\n",
       "    <tr>\n",
       "      <th>AL</th>\n",
       "      <td>2.0</td>\n",
       "    </tr>\n",
       "    <tr>\n",
       "      <th>AK</th>\n",
       "      <td>10.0</td>\n",
       "    </tr>\n",
       "    <tr>\n",
       "      <th>AZ</th>\n",
       "      <td>2.0</td>\n",
       "    </tr>\n",
       "    <tr>\n",
       "      <th>AR</th>\n",
       "      <td>7.0</td>\n",
       "    </tr>\n",
       "    <tr>\n",
       "      <th>FL</th>\n",
       "      <td>62.0</td>\n",
       "    </tr>\n",
       "  </tbody>\n",
       "</table>\n",
       "</div>"
      ],
      "text/plain": [
       "       Lie Count\n",
       "STATE           \n",
       "AL           2.0\n",
       "AK          10.0\n",
       "AZ           2.0\n",
       "AR           7.0\n",
       "FL          62.0"
      ]
     },
     "execution_count": 134,
     "metadata": {},
     "output_type": "execute_result"
    }
   ],
   "source": [
    "won_states_republican_2016.head()"
   ]
  },
  {
   "cell_type": "markdown",
   "metadata": {},
   "source": [
    "We compare the means of lies in the states that Republicans and Democrats win and the states that they lose in 2012 and 2016 elections in order to determine in which type of states that they lie more. Since the standard deviation of the lie samples for both type of states have unequal variances and unequal sample sizes, we decide to use Welch's T-Test to compare means of the samples. We select the significance level as 0.05."
   ]
  },
  {
   "cell_type": "markdown",
   "metadata": {},
   "source": [
    "* ### Welch's T-Test between Lies said by Democrats in Won and Lost states 2012"
   ]
  },
  {
   "cell_type": "code",
   "execution_count": 670,
   "metadata": {},
   "outputs": [
    {
     "data": {
      "text/plain": [
       "count    27.000000\n",
       "mean     12.259259\n",
       "std      17.603742\n",
       "min       0.000000\n",
       "25%       1.000000\n",
       "50%       3.000000\n",
       "75%      21.000000\n",
       "max      57.000000\n",
       "Name: Lie Count, dtype: float64"
      ]
     },
     "execution_count": 670,
     "metadata": {},
     "output_type": "execute_result"
    }
   ],
   "source": [
    "won_states_democrat_2012['Lie Count'].describe()"
   ]
  },
  {
   "cell_type": "code",
   "execution_count": 671,
   "metadata": {},
   "outputs": [
    {
     "data": {
      "text/plain": [
       "count    24.000000\n",
       "mean      2.375000\n",
       "std       7.699873\n",
       "min       0.000000\n",
       "25%       0.000000\n",
       "50%       0.000000\n",
       "75%       1.000000\n",
       "max      37.000000\n",
       "Name: Lie Count, dtype: float64"
      ]
     },
     "execution_count": 671,
     "metadata": {},
     "output_type": "execute_result"
    }
   ],
   "source": [
    "lost_states_democrat_2012['Lie Count'].describe()"
   ]
  },
  {
   "cell_type": "code",
   "execution_count": 674,
   "metadata": {},
   "outputs": [
    {
     "data": {
      "text/plain": [
       "Ttest_indResult(statistic=2.6466174086831313, pvalue=0.011927574727831309)"
      ]
     },
     "execution_count": 674,
     "metadata": {},
     "output_type": "execute_result"
    }
   ],
   "source": [
    "stats.ttest_ind(won_states_democrat_2012['Lie Count'], lost_states_democrat_2012['Lie Count'], equal_var = False)"
   ]
  },
  {
   "cell_type": "markdown",
   "metadata": {},
   "source": [
    "p-value is below significance level of 0.05. It means that the mean of the lie counts is significantly higher in states that Democrats win than the states that they lose in 2012 elections. We consider the lies before 2012 elections."
   ]
  },
  {
   "cell_type": "markdown",
   "metadata": {},
   "source": [
    "* ### Welch's T-Test between Lies said by Democrats in Won and Lost states 2016"
   ]
  },
  {
   "cell_type": "code",
   "execution_count": 676,
   "metadata": {},
   "outputs": [
    {
     "data": {
      "text/plain": [
       "count    21.000000\n",
       "mean      6.428571\n",
       "std      10.146780\n",
       "min       0.000000\n",
       "25%       0.000000\n",
       "50%       1.000000\n",
       "75%       9.000000\n",
       "max      34.000000\n",
       "Name: Lie Count, dtype: float64"
      ]
     },
     "execution_count": 676,
     "metadata": {},
     "output_type": "execute_result"
    }
   ],
   "source": [
    "won_states_democrat_2016['Lie Count'].describe()"
   ]
  },
  {
   "cell_type": "code",
   "execution_count": 678,
   "metadata": {},
   "outputs": [
    {
     "data": {
      "text/plain": [
       "count    30.000000\n",
       "mean      4.300000\n",
       "std      10.117073\n",
       "min       0.000000\n",
       "25%       0.000000\n",
       "50%       0.000000\n",
       "75%       1.750000\n",
       "max      38.000000\n",
       "Name: Lie Count, dtype: float64"
      ]
     },
     "execution_count": 678,
     "metadata": {},
     "output_type": "execute_result"
    }
   ],
   "source": [
    "lost_states_democrat_2016['Lie Count'].describe()"
   ]
  },
  {
   "cell_type": "code",
   "execution_count": 679,
   "metadata": {},
   "outputs": [
    {
     "data": {
      "text/plain": [
       "Ttest_indResult(statistic=0.738190731744156, pvalue=0.4643973785354718)"
      ]
     },
     "execution_count": 679,
     "metadata": {},
     "output_type": "execute_result"
    }
   ],
   "source": [
    "stats.ttest_ind(won_states_democrat_2016['Lie Count'], lost_states_democrat_2016['Lie Count'], equal_var = False)"
   ]
  },
  {
   "cell_type": "markdown",
   "metadata": {},
   "source": [
    "p-value is above significance level of 0.05. It means that we can not reject the null hypothesis which state that there is no significant difference between the means of counts sample in Democrats' win states and lost states in 2016 elections."
   ]
  },
  {
   "cell_type": "code",
   "execution_count": 160,
   "metadata": {},
   "outputs": [
    {
     "data": {
      "image/png": "[encoded data removed]",
      "text/plain": [
       "<matplotlib.figure.Figure at 0x1a2dcc4cf8>"
      ]
     },
     "metadata": {},
     "output_type": "display_data"
    }
   ],
   "source": [
    "f, (ax1, ax2) = plt.subplots(1, 2,  figsize=(16,6),sharey=True)\n",
    "ax1.set_title('in 2012')\n",
    "ax1.boxplot([won_states_democrat_2012['Lie Count'],lost_states_democrat_2012['Lie Count']], labels=['Win', 'Lose'])\n",
    "ax1.set_ylabel('Lie Counts')\n",
    "ax2.set_title('in 2016')\n",
    "ax2.boxplot([won_states_democrat_2016['Lie Count'],lost_states_democrat_2016['Lie Count']], labels=['Win', 'Lose'])\n",
    "f.suptitle('Lies said by Democrats in Won and Lost states in 2012 & 2016')\n",
    "plt.show()\n",
    "f.savefig('FigureDem.png', bbox_inches=\"tight\", dpi=200)"
   ]
  },
  {
   "cell_type": "markdown",
   "metadata": {},
   "source": [
    "### Welch's T-Test between Lies said by Republican in Won and Lost states 2012"
   ]
  },
  {
   "cell_type": "code",
   "execution_count": 681,
   "metadata": {},
   "outputs": [
    {
     "data": {
      "text/plain": [
       "count     24.000000\n",
       "mean      12.500000\n",
       "std       28.119311\n",
       "min        0.000000\n",
       "25%        0.750000\n",
       "50%        2.500000\n",
       "75%        9.250000\n",
       "max      127.000000\n",
       "Name: Lie Count, dtype: float64"
      ]
     },
     "execution_count": 681,
     "metadata": {},
     "output_type": "execute_result"
    }
   ],
   "source": [
    "won_states_republican_2012['Lie Count'].describe()"
   ]
  },
  {
   "cell_type": "code",
   "execution_count": 682,
   "metadata": {},
   "outputs": [
    {
     "data": {
      "text/plain": [
       "count     27.000000\n",
       "mean      19.666667\n",
       "std       28.772316\n",
       "min        0.000000\n",
       "25%        1.000000\n",
       "50%        3.000000\n",
       "75%       29.500000\n",
       "max      103.000000\n",
       "Name: Lie Count, dtype: float64"
      ]
     },
     "execution_count": 682,
     "metadata": {},
     "output_type": "execute_result"
    }
   ],
   "source": [
    "lost_states_republican_2012['Lie Count'].describe()"
   ]
  },
  {
   "cell_type": "code",
   "execution_count": 683,
   "metadata": {},
   "outputs": [
    {
     "data": {
      "text/plain": [
       "Ttest_indResult(statistic=-0.8985992323793024, pvalue=0.37330218086657174)"
      ]
     },
     "execution_count": 683,
     "metadata": {},
     "output_type": "execute_result"
    }
   ],
   "source": [
    "stats.ttest_ind(won_states_republican_2012['Lie Count'], lost_states_republican_2012['Lie Count'], equal_var = False)"
   ]
  },
  {
   "cell_type": "markdown",
   "metadata": {},
   "source": [
    "p-value is above significance level of 0.05. It means that we can not reject the null hypothesis which state that there is no significant difference between the means of counts sample in Republicans' win states and lost states in 2012 elections."
   ]
  },
  {
   "cell_type": "markdown",
   "metadata": {},
   "source": [
    "### Welch's T-Test between Lies said by Republican in Won and Lost states 2016"
   ]
  },
  {
   "cell_type": "code",
   "execution_count": 687,
   "metadata": {},
   "outputs": [
    {
     "data": {
      "text/plain": [
       "count     30.000000\n",
       "mean      11.733333\n",
       "std       24.622576\n",
       "min        0.000000\n",
       "25%        1.000000\n",
       "50%        3.000000\n",
       "75%        7.750000\n",
       "max      114.000000\n",
       "Name: Lie Count, dtype: float64"
      ]
     },
     "execution_count": 687,
     "metadata": {},
     "output_type": "execute_result"
    }
   ],
   "source": [
    "won_states_republican_2016['Lie Count'].describe()"
   ]
  },
  {
   "cell_type": "code",
   "execution_count": 688,
   "metadata": {},
   "outputs": [
    {
     "data": {
      "text/plain": [
       "count     21.000000\n",
       "mean      13.857143\n",
       "std       39.538950\n",
       "min        0.000000\n",
       "25%        0.000000\n",
       "50%        3.000000\n",
       "75%        7.000000\n",
       "max      183.000000\n",
       "Name: Lie Count, dtype: float64"
      ]
     },
     "execution_count": 688,
     "metadata": {},
     "output_type": "execute_result"
    }
   ],
   "source": [
    "lost_states_republican_2016['Lie Count'].describe()"
   ]
  },
  {
   "cell_type": "code",
   "execution_count": 692,
   "metadata": {},
   "outputs": [
    {
     "data": {
      "text/plain": [
       "Ttest_indResult(statistic=-0.21829700445116615, pvalue=0.8286391234541339)"
      ]
     },
     "execution_count": 692,
     "metadata": {},
     "output_type": "execute_result"
    }
   ],
   "source": [
    "stats.ttest_ind(won_states_republican_2016['Lie Count'], lost_states_republican_2016['Lie Count'], equal_var = False)"
   ]
  },
  {
   "cell_type": "markdown",
   "metadata": {},
   "source": [
    "p-value is above significance level of 0.05. It means that we can not reject the null hypothesis which state that there is no significant difference between the means of counts sample in Republicans' win states and lost states in 2016 elections."
   ]
  },
  {
   "cell_type": "code",
   "execution_count": 161,
   "metadata": {},
   "outputs": [
    {
     "data": {
      "image/png": "[encoded data removed]",
      "text/plain": [
       "<matplotlib.figure.Figure at 0x1a2915f7f0>"
      ]
     },
     "metadata": {},
     "output_type": "display_data"
    }
   ],
   "source": [
    "f, (ax1, ax2) = plt.subplots(1, 2,  figsize=(16,6),sharey=True)\n",
    "ax1.set_title('in 2012')\n",
    "ax1.boxplot([won_states_republican_2012['Lie Count'],lost_states_republican_2012['Lie Count']], labels=['Win', 'Lose'])\n",
    "ax1.set_ylabel('Lie Counts')\n",
    "ax2.set_title('in 2016')\n",
    "ax2.boxplot([won_states_republican_2016['Lie Count'],lost_states_republican_2016['Lie Count']], labels=['Win', 'Lose'])\n",
    "f.suptitle('Lies said by Republicans in Won and Lost states in 2012 & 2016')\n",
    "plt.show()\n",
    "f.savefig('FigureRep.png', bbox_inches=\"tight\", dpi=200)"
   ]
  },
  {
   "cell_type": "markdown",
   "metadata": {},
   "source": [
    "***"
   ]
  },
  {
   "cell_type": "markdown",
   "metadata": {},
   "source": [
    "### Q6. Visualization of the truth ratios of the statements made by famous politicians\n",
    "\n",
    "We consider that a statement is a lie if it is labelled as false or pants-fire. We create the counts of subjects for each label category. We pick Barack Obama, Donald Trump and Hillary Clinton, because during 2016 Elections campaign, most of the statements were made by these three figures and also these people were well known all over the world compared to other politicians in the dataset."
   ]
  },
  {
   "cell_type": "code",
   "execution_count": 16,
   "metadata": {
    "collapsed": true
   },
   "outputs": [],
   "source": [
    "# Creating the people list\n",
    "speakers = get_count_group('Speaker’s Job Title', data_group_df, ' ', True)\n",
    "notable_people = ['barack-obama', 'donald-trump', 'hillary-clinton']"
   ]
  },
  {
   "cell_type": "code",
   "execution_count": 17,
   "metadata": {
    "collapsed": true
   },
   "outputs": [],
   "source": [
    "from collections import defaultdict\n",
    "\n",
    "lst = []\n",
    "column_name = []\n",
    "\n",
    "column_set=False\n",
    "\n",
    "# Count the number of statements in six different categories made by three politicians\n",
    "for person in notable_people:\n",
    "    pe_list = []\n",
    "    for i in range(6):\n",
    "        pe_list.append(speakers[i][1][person])\n",
    "        \n",
    "        if not column_set:\n",
    "            column_name.append(speakers[i][0])\n",
    "        \n",
    "    column_set = True\n",
    "        \n",
    "    lst.append(pe_list)\n",
    "        \n",
    "speaker_df = pd.DataFrame(lst)\n",
    "\n",
    "speaker_df.index = ['Barack Obama', 'Donald Trump', 'Hillary Clinton']\n",
    "speaker_df.columns = column_name\n",
    "speaker_df = speaker_df[['pants-fire', 'false', 'barely-true', 'half-true', 'mostly-true',  'true']]\n",
    "\n",
    "# Count pants-fire and false statements as lies\n",
    "speaker_df['pants-fire'] += speaker_df['false']\n",
    "\n",
    "speaker_df.drop(columns=['false'], inplace=True)\n",
    "speaker_df.rename(columns={\"pants-fire\": \"lie\"} , inplace=True)"
   ]
  },
  {
   "cell_type": "markdown",
   "metadata": {},
   "source": [
    "Number of statements made by three politicians in each authenticity category were given below. "
   ]
  },
  {
   "cell_type": "code",
   "execution_count": 18,
   "metadata": {},
   "outputs": [
    {
     "data": {
      "text/html": [
       "<div>\n",
       "<style scoped>\n",
       "    .dataframe tbody tr th:only-of-type {\n",
       "        vertical-align: middle;\n",
       "    }\n",
       "\n",
       "    .dataframe tbody tr th {\n",
       "        vertical-align: top;\n",
       "    }\n",
       "\n",
       "    .dataframe thead th {\n",
       "        text-align: right;\n",
       "    }\n",
       "</style>\n",
       "<table border=\"1\" class=\"dataframe\">\n",
       "  <thead>\n",
       "    <tr style=\"text-align: right;\">\n",
       "      <th></th>\n",
       "      <th>lie</th>\n",
       "      <th>barely-true</th>\n",
       "      <th>half-true</th>\n",
       "      <th>mostly-true</th>\n",
       "      <th>true</th>\n",
       "    </tr>\n",
       "  </thead>\n",
       "  <tbody>\n",
       "    <tr>\n",
       "      <th>Barack Obama</th>\n",
       "      <td>90</td>\n",
       "      <td>70</td>\n",
       "      <td>165</td>\n",
       "      <td>163</td>\n",
       "      <td>123</td>\n",
       "    </tr>\n",
       "    <tr>\n",
       "      <th>Donald Trump</th>\n",
       "      <td>178</td>\n",
       "      <td>63</td>\n",
       "      <td>51</td>\n",
       "      <td>37</td>\n",
       "      <td>14</td>\n",
       "    </tr>\n",
       "    <tr>\n",
       "      <th>Hillary Clinton</th>\n",
       "      <td>39</td>\n",
       "      <td>40</td>\n",
       "      <td>69</td>\n",
       "      <td>76</td>\n",
       "      <td>73</td>\n",
       "    </tr>\n",
       "  </tbody>\n",
       "</table>\n",
       "</div>"
      ],
      "text/plain": [
       "                 lie  barely-true  half-true  mostly-true  true\n",
       "Barack Obama      90           70        165          163   123\n",
       "Donald Trump     178           63         51           37    14\n",
       "Hillary Clinton   39           40         69           76    73"
      ]
     },
     "execution_count": 18,
     "metadata": {},
     "output_type": "execute_result"
    }
   ],
   "source": [
    "speaker_df"
   ]
  },
  {
   "cell_type": "code",
   "execution_count": 32,
   "metadata": {},
   "outputs": [
    {
     "name": "stdout",
     "output_type": "stream",
     "text": [
      "[14.7299509  11.45662848 27.00490998 26.67757774 20.1309329  14.7299509 ]\n",
      "[51.89504373 18.36734694 14.86880466 10.78717201  4.08163265 51.89504373]\n",
      "[13.13131313 13.46801347 23.23232323 25.58922559 24.57912458 13.13131313]\n"
     ]
    },
    {
     "data": {
      "text/plain": [
       "<matplotlib.legend.Legend at 0x1a2eaa65f8>"
      ]
     },
     "execution_count": 32,
     "metadata": {},
     "output_type": "execute_result"
    },
    {
     "data": {
      "image/png": "[encoded data removed]",
      "text/plain": [
       "<matplotlib.figure.Figure at 0x1a2e8a4be0>"
      ]
     },
     "metadata": {},
     "output_type": "display_data"
    }
   ],
   "source": [
    "# Creating the radar-plot for three politicians\n",
    "from math import pi\n",
    " \n",
    "N = 5\n",
    "categories = list(speaker_df.columns)\n",
    "\n",
    "# Divide the 360 deg in equal sizes.\n",
    "angles = [n / float(N) * 2 * pi for n in range(N)]\n",
    "\n",
    "# Add the first degree's position to complete the chain\n",
    "angles.append(angles[0])\n",
    " \n",
    "plt.figure(figsize=(10,10))\n",
    "ax = plt.subplot(111, polar=True)\n",
    "plt.xticks(angles[:-1], categories, size=12)\n",
    " \n",
    "# Show at most %60 level\n",
    "ax.set_rlabel_position(60)\n",
    "plt.yticks([20,40,60], [\"%20\",\"%40\",\"%60\"], color=\"grey\", size=12)\n",
    "plt.ylim(0,60)\n",
    "cl = dict(zip(list(speaker_df.index), ['r', 'g', 'b']))\n",
    "    \n",
    "for name in list(speaker_df.index):\n",
    "    values = np.array(list(speaker_df.loc[name]))\n",
    "    # Show the values in percentage\n",
    "    values = np.divide(values, sum(values))\n",
    "    values *= 100\n",
    "    values = np.append(values, values[0])\n",
    "    print(values)\n",
    "    ax.plot(angles, values, linewidth=1.5, linestyle='solid', label=name, color=cl[name])\n",
    "    ax.fill(angles, values, cl[name], alpha=0.1)\n",
    "    \n",
    "plt.legend(loc='upper right', bbox_to_anchor=(0.1, 0.1))"
   ]
  },
  {
   "cell_type": "markdown",
   "metadata": {},
   "source": [
    "We can observe that the statement counts for Barack Obama and Hillary Clinton are very similar and the counts of statements for each category are close. Statements of these two politicians are mostly in true side of the plot.\n",
    "\n",
    "It can be seen that almost 50% of Donald Trump's statements are labelled as lie. When comparing with the statements of Obama and Clinton, the lie ratio of Trump is nearly 5 times higher than other two politicians."
   ]
  },
  {
   "cell_type": "markdown",
   "metadata": {},
   "source": [
    "***"
   ]
  },
  {
   "cell_type": "markdown",
   "metadata": {},
   "source": [
    "### Q7. Trump's False Statements during 2016 Elections Campaign\n",
    "\n",
    "We will consider the number of Trump's false statements in six week intervals starting from the date that he  formally launched his presidential campaign to the 2016 Elections date. We assume that the number of lies will increase as the election date approaches. We will use Spearman and Pearson correlation tests to find out if the number of lies increases with time."
   ]
  },
  {
   "cell_type": "code",
   "execution_count": 44,
   "metadata": {
    "collapsed": true
   },
   "outputs": [],
   "source": [
    "# Getting Trump's false statements\n",
    "trump_lies = liar_dataframe[(liar_dataframe.iloc[:,4] == 'donald-trump') & \n",
    "                            ((liar_dataframe['Label'] == 'false') | \n",
    "                             (liar_dataframe['Label'] == 'pants-fire'))].copy()"
   ]
  },
  {
   "cell_type": "code",
   "execution_count": 48,
   "metadata": {
    "collapsed": true
   },
   "outputs": [],
   "source": [
    "# Set 6-week intervals starting from declaration date to the election date\n",
    "trump_lies['Date'] = pd.to_datetime(trump_lies['Date'], format='%Y%m%d')\n",
    "trump_lies = trump_lies[(trump_lies['Date'] > \"2015-06-15\") & (trump_lies['Date'] < \"2016-11-08\")]\n",
    "lies = trump_lies[['Id', 'Date']].groupby(pd.Grouper(key='Date', freq='6W')).count()\n",
    "lies = lies.reset_index()\n",
    "lies = lies.drop(13)"
   ]
  },
  {
   "cell_type": "code",
   "execution_count": 50,
   "metadata": {
    "collapsed": true
   },
   "outputs": [],
   "source": [
    "# Set date column as index\n",
    "lies = lies.set_index('Date')"
   ]
  },
  {
   "cell_type": "code",
   "execution_count": 51,
   "metadata": {},
   "outputs": [
    {
     "data": {
      "text/plain": [
       "DatetimeIndex(['2015-06-21', '2015-08-02', '2015-09-13', '2015-10-25',\n",
       "               '2015-12-06', '2016-01-17', '2016-02-28', '2016-04-10',\n",
       "               '2016-05-22', '2016-07-03', '2016-08-14', '2016-09-25',\n",
       "               '2016-11-06'],\n",
       "              dtype='datetime64[ns]', name='Date', freq=None)"
      ]
     },
     "execution_count": 51,
     "metadata": {},
     "output_type": "execute_result"
    }
   ],
   "source": [
    "lies.index"
   ]
  },
  {
   "cell_type": "code",
   "execution_count": 53,
   "metadata": {},
   "outputs": [
    {
     "data": {
      "image/png": "[encoded data removed]",
      "text/plain": [
       "<matplotlib.figure.Figure at 0x1a29089d30>"
      ]
     },
     "metadata": {},
     "output_type": "display_data"
    }
   ],
   "source": [
    "# Plotting the number of lies in 6-week intervals\n",
    "import matplotlib.dates as mdates\n",
    "\n",
    "plt.figure(figsize=(12,6))\n",
    "plt.plot(lies.index, lies['Id'])\n",
    "plt.ylabel('Lies')\n",
    "\n",
    "# Set x-axis labels\n",
    "plt.gca().xaxis.set_major_formatter(mdates.DateFormatter(\"%b %Y\"))\n",
    "plt.xticks(rotation=30)\n",
    "\n",
    "plt.title('Trump Lies during 2016 Elections Campaign')\n",
    "plt.savefig('Figure8.png', bbox_inches=\"tight\", dpi=200)"
   ]
  },
  {
   "cell_type": "code",
   "execution_count": 411,
   "metadata": {
    "collapsed": true
   },
   "outputs": [],
   "source": [
    "# Reset datetime index for correlation test\n",
    "lies = lies.reset_index()\n",
    "lies['Date'] = lies['Date'].astype(int)"
   ]
  },
  {
   "cell_type": "code",
   "execution_count": 412,
   "metadata": {},
   "outputs": [
    {
     "name": "stdout",
     "output_type": "stream",
     "text": [
      "Spearman Rank Correlation Test\n",
      "Correlation: 0.9063395272835296 - p-value: 1.9576561673536152e-05\n"
     ]
    }
   ],
   "source": [
    "# Spearman Rank Correlation test\n",
    "from scipy.stats import spearmanr\n",
    "\n",
    "corr, p_val = spearmanr(lies)\n",
    "print(\"Spearman Rank Correlation Test\\nCorrelation: {} - p-value: {}\".format(corr, p_val))"
   ]
  },
  {
   "cell_type": "code",
   "execution_count": 413,
   "metadata": {},
   "outputs": [
    {
     "name": "stdout",
     "output_type": "stream",
     "text": [
      "Pearson Correlation Test\n",
      "Correlation: 0.8775851873460432 - p-value: 8.062258485416106e-05\n"
     ]
    }
   ],
   "source": [
    "# Pearson Rank Correlation test\n",
    "from scipy.stats import pearsonr\n",
    "\n",
    "corr, p_val = pearsonr(lies['Date'], lies['Id'])\n",
    "print(\"Pearson Correlation Test\\nCorrelation: {} - p-value: {}\".format(corr, p_val))"
   ]
  },
  {
   "cell_type": "markdown",
   "metadata": {},
   "source": [
    "We can observe that starting from July 2015, the number of Trump's lies shows an increasing trend in six-week intervals. In addition to the line plot, Pearson and Spearman correlation tests give a very high correlation coefficient. We select the significance level as 0.05 for correlation tests. As the p-values of tests are lower than the significance level, we can say that there is a significant correlation between date and number of lies told by Donald Trump."
   ]
  },
  {
   "cell_type": "markdown",
   "metadata": {},
   "source": [
    "***"
   ]
  },
  {
   "cell_type": "markdown",
   "metadata": {},
   "source": [
    "### Q8. Quarrel Network\n",
    "\n",
    "We will present the liars and the people who are affected by those lies in a network. We would like to present a connected graph, so we will find the list of people who included at least a person in that list in their lies. We use vis.js library to visualize the network."
   ]
  },
  {
   "cell_type": "code",
   "execution_count": 12,
   "metadata": {
    "collapsed": true
   },
   "outputs": [],
   "source": [
    "# Getting false and pants-fire statements as lies.\n",
    "lies = liar_dataframe[((liar_dataframe['Label'] == 'false') | \n",
    "                             (liar_dataframe['Label'] == 'pants-fire'))].copy()"
   ]
  },
  {
   "cell_type": "code",
   "execution_count": 13,
   "metadata": {},
   "outputs": [
    {
     "data": {
      "text/plain": [
       "(3555, 16)"
      ]
     },
     "execution_count": 13,
     "metadata": {},
     "output_type": "execute_result"
    }
   ],
   "source": [
    "lies.shape"
   ]
  },
  {
   "cell_type": "code",
   "execution_count": 14,
   "metadata": {
    "collapsed": true
   },
   "outputs": [],
   "source": [
    "# Some of the lie sources are not a person, so we remove them.\n",
    "not_included = ['chain-email', 'blog-posting', 'facebook-posts', 'viral-image', \n",
    "                'national-republican-congressional-committee', 'democratic-congressional-campaign-committee',\n",
    "               'state-democratic-party-wisconsin', 'republican-party-florida', \n",
    "                'national-republican-senatorial-committee']"
   ]
  },
  {
   "cell_type": "code",
   "execution_count": 21,
   "metadata": {
    "collapsed": true
   },
   "outputs": [],
   "source": [
    "# We will select people from top 20 lie sources\n",
    "top20 = list(lies.groupby('Speaker’s Job Title').count().sort_values(by=['Id'], ascending=False).iloc[:20,:].index)\n",
    "selected_people = [x for x in top20 if x not in not_included]"
   ]
  },
  {
   "cell_type": "code",
   "execution_count": 22,
   "metadata": {},
   "outputs": [
    {
     "data": {
      "text/plain": [
       "17"
      ]
     },
     "execution_count": 22,
     "metadata": {},
     "output_type": "execute_result"
    }
   ],
   "source": [
    "# After removing non-person lie sources, we have 17 people.\n",
    "len(selected_people)"
   ]
  },
  {
   "cell_type": "code",
   "execution_count": 23,
   "metadata": {},
   "outputs": [
    {
     "data": {
      "text/plain": [
       "['donald-trump',\n",
       " 'barack-obama',\n",
       " 'scott-walker',\n",
       " 'mitt-romney',\n",
       " 'rick-perry',\n",
       " 'john-mccain',\n",
       " 'ted-cruz',\n",
       " 'hillary-clinton',\n",
       " 'michele-bachmann',\n",
       " 'rick-scott',\n",
       " 'marco-rubio',\n",
       " 'newt-gingrich',\n",
       " 'sarah-palin',\n",
       " 'chris-christie',\n",
       " 'john-boehner',\n",
       " 'rick-santorum',\n",
       " 'rush-limbaugh']"
      ]
     },
     "execution_count": 23,
     "metadata": {},
     "output_type": "execute_result"
    }
   ],
   "source": [
    "# Selected people\n",
    "selected_people"
   ]
  },
  {
   "cell_type": "code",
   "execution_count": 24,
   "metadata": {},
   "outputs": [
    {
     "data": {
      "text/plain": [
       "['trump',\n",
       " 'obama',\n",
       " 'walker',\n",
       " 'romney',\n",
       " 'perry',\n",
       " 'mccain',\n",
       " 'cruz',\n",
       " 'clinton',\n",
       " 'bachmann',\n",
       " 'scott',\n",
       " 'rubio',\n",
       " 'gingrich',\n",
       " 'palin',\n",
       " 'christie',\n",
       " 'boehner',\n",
       " 'santorum',\n",
       " 'limbaugh']"
      ]
     },
     "execution_count": 24,
     "metadata": {},
     "output_type": "execute_result"
    }
   ],
   "source": [
    "# Use surnames to search people in lies\n",
    "searched_people = []\n",
    "\n",
    "for person in selected_people:\n",
    "    searched_people.append(person.replace(\"-\", \" \").split()[-1])\n",
    "    \n",
    "searched_people"
   ]
  },
  {
   "cell_type": "code",
   "execution_count": 25,
   "metadata": {
    "collapsed": true
   },
   "outputs": [],
   "source": [
    "# Create the quarrel network\n",
    "quarrel = [[0 for x in range(len(selected_people))] for y in range(len(selected_people))]\n",
    "\n",
    "# Creating quarrel matrix\n",
    "# Qij = # of lies of i'th person which include j'th person\n",
    "\n",
    "for i in range(len(selected_people)): \n",
    "    statements = list(lies[lies['Speaker’s Job Title'] == selected_people[i]]['Statement'])\n",
    "\n",
    "    for statement in statements:\n",
    "        for j in range(len(selected_people)):\n",
    "            if i != j:\n",
    "                # If other people in the list are found in the lies of current person increase the matrix entry\n",
    "                if searched_people[j] in statement.lower().strip().split():\n",
    "                    quarrel[i][j] += 1"
   ]
  },
  {
   "cell_type": "code",
   "execution_count": 26,
   "metadata": {},
   "outputs": [
    {
     "data": {
      "text/plain": [
       "array([42, 14,  3, 15,  5, 20, 13,  9,  5,  1,  5,  5,  4,  1,  3,  6,  5])"
      ]
     },
     "execution_count": 26,
     "metadata": {},
     "output_type": "execute_result"
    }
   ],
   "source": [
    "# Every person tells at least 1 lie about another person, so the graph is connected.\n",
    "np.sum(quarrel, axis=1)"
   ]
  },
  {
   "cell_type": "code",
   "execution_count": 140,
   "metadata": {
    "collapsed": true
   },
   "outputs": [],
   "source": [
    "# Write edges to file\n",
    "\n",
    "edges = []\n",
    "\n",
    "for i in range(len(quarrel)):\n",
    "    for j in range(len(quarrel)):\n",
    "        if quarrel[i][j] != 0:\n",
    "            edges.append({'from': i+1, 'to': j+1, 'weight': quarrel[i][j]})"
   ]
  },
  {
   "cell_type": "code",
   "execution_count": 146,
   "metadata": {
    "collapsed": true
   },
   "outputs": [],
   "source": [
    "import json\n",
    "\n",
    "with open('edges.json', 'w') as f:\n",
    "    f.write(json.dumps(edges))"
   ]
  },
  {
   "cell_type": "markdown",
   "metadata": {},
   "source": [
    "Network can be seen below. Edges are directed and the arrow points to the person who is included in the lies of source person. As the number of lies increases, the edges thicken. You can click the person to see the people that the current person include in his/her lies. You can see the biography of the person by hovering the node."
   ]
  },
  {
   "cell_type": "code",
   "execution_count": 2,
   "metadata": {},
   "outputs": [
    {
     "data": {
      "text/html": [
       "<iframe frameBorder=0 src=network.html width=100% height=800></iframe>"
      ],
      "text/plain": [
       "<IPython.core.display.HTML object>"
      ]
     },
     "execution_count": 2,
     "metadata": {},
     "output_type": "execute_result"
    }
   ],
   "source": [
    "from IPython.display import HTML\n",
    "HTML('<iframe frameBorder=0 src=network.html width=100% height=800></iframe>')"
   ]
  },
  {
   "cell_type": "markdown",
   "metadata": {},
   "source": [
    "**Images:**\n",
    "\n",
    "- _\"Scott Walker speaking at the 2017 CPAC in National Harbor, Maryland.\" by Greg Skidmore is licensed under CC BY-SA 3.0_\n",
    "\n",
    "- _Other images are in public domain and taken from Wikimedia Commons._"
   ]
  },
  {
   "cell_type": "markdown",
   "metadata": {},
   "source": [
    "We can observe that a lot of politicians include Barack Obama in their lies. It is convenient with the results that we found out in Q2. Also, we can see that the thickest edge is the one which points to Hillary Clinton from Donald Trump. As a result, we can infer that Donald Trump attacks Hillary Clinton a lot."
   ]
  },
  {
   "cell_type": "markdown",
   "metadata": {},
   "source": [
    "***"
   ]
  },
  {
   "cell_type": "markdown",
   "metadata": {},
   "source": [
    "### Q9. Lie Predictor"
   ]
  },
  {
   "cell_type": "markdown",
   "metadata": {},
   "source": [
    "In order to predict if a given statement is a lie or not, we needed to extract features for each statement. We used pretrained Glove vectors to represent words which are trained on 2 billion tweets and having a dimension of 200 [2].\n",
    "\n",
    "Our dataset contains counts for labels : barely true counts, false counts, half true counts, mostly true counts, pants on fire counts. These counts are collected from PolitiFact.com. We considered false and pants on fire counts as lies. So, if for a statement the sum of false and pants on fire counts are higher than the sum of the rest of the counts for the given statement, we labeled this statement as lie. Now, our prediction task is a binary classification task.\n",
    "\n",
    "In this section, we compared the classification results of three models: Logistic Regression, SVM and LSTM."
   ]
  },
  {
   "cell_type": "code",
   "execution_count": 4,
   "metadata": {
    "collapsed": true
   },
   "outputs": [],
   "source": [
    "with open('glove_twitter_200', 'rb') as f:\n",
    "    model_glove = pickle.load(f)"
   ]
  },
  {
   "cell_type": "markdown",
   "metadata": {},
   "source": [
    "First we load the Glove model."
   ]
  },
  {
   "cell_type": "code",
   "execution_count": 5,
   "metadata": {},
   "outputs": [
    {
     "data": {
      "text/html": [
       "<div>\n",
       "<style scoped>\n",
       "    .dataframe tbody tr th:only-of-type {\n",
       "        vertical-align: middle;\n",
       "    }\n",
       "\n",
       "    .dataframe tbody tr th {\n",
       "        vertical-align: top;\n",
       "    }\n",
       "\n",
       "    .dataframe thead th {\n",
       "        text-align: right;\n",
       "    }\n",
       "</style>\n",
       "<table border=\"1\" class=\"dataframe\">\n",
       "  <thead>\n",
       "    <tr style=\"text-align: right;\">\n",
       "      <th></th>\n",
       "      <th>Id</th>\n",
       "      <th>Label</th>\n",
       "      <th>Statement</th>\n",
       "      <th>Subject</th>\n",
       "      <th>Speaker’s Job Title</th>\n",
       "      <th>Job</th>\n",
       "      <th>State</th>\n",
       "      <th>The Party Affiliation</th>\n",
       "      <th>barely true counts</th>\n",
       "      <th>false counts</th>\n",
       "      <th>half true counts</th>\n",
       "      <th>mostly true counts</th>\n",
       "      <th>pants on fire counts</th>\n",
       "      <th>Communication Media</th>\n",
       "      <th>Date</th>\n",
       "    </tr>\n",
       "  </thead>\n",
       "  <tbody>\n",
       "    <tr>\n",
       "      <th>0</th>\n",
       "      <td>2635.json</td>\n",
       "      <td>false</td>\n",
       "      <td>Says the Annies List political group supports ...</td>\n",
       "      <td>abortion</td>\n",
       "      <td>dwayne-bohac</td>\n",
       "      <td>State representative</td>\n",
       "      <td>Texas</td>\n",
       "      <td>republican</td>\n",
       "      <td>0.0</td>\n",
       "      <td>1.0</td>\n",
       "      <td>0.0</td>\n",
       "      <td>0.0</td>\n",
       "      <td>0.0</td>\n",
       "      <td>a mailer</td>\n",
       "      <td>2010-10-20 06:00:00</td>\n",
       "    </tr>\n",
       "    <tr>\n",
       "      <th>1</th>\n",
       "      <td>10540.json</td>\n",
       "      <td>half-true</td>\n",
       "      <td>When did the decline of coal start? It started...</td>\n",
       "      <td>energy,history,job-accomplishments</td>\n",
       "      <td>scott-surovell</td>\n",
       "      <td>State delegate</td>\n",
       "      <td>Virginia</td>\n",
       "      <td>democrat</td>\n",
       "      <td>0.0</td>\n",
       "      <td>0.0</td>\n",
       "      <td>1.0</td>\n",
       "      <td>1.0</td>\n",
       "      <td>0.0</td>\n",
       "      <td>a floor speech.</td>\n",
       "      <td>2015-02-23 00:00:00</td>\n",
       "    </tr>\n",
       "    <tr>\n",
       "      <th>2</th>\n",
       "      <td>324.json</td>\n",
       "      <td>mostly-true</td>\n",
       "      <td>Hillary Clinton agrees with John McCain \"by vo...</td>\n",
       "      <td>foreign-policy</td>\n",
       "      <td>barack-obama</td>\n",
       "      <td>President</td>\n",
       "      <td>Illinois</td>\n",
       "      <td>democrat</td>\n",
       "      <td>70.0</td>\n",
       "      <td>71.0</td>\n",
       "      <td>160.0</td>\n",
       "      <td>163.0</td>\n",
       "      <td>9.0</td>\n",
       "      <td>Denver</td>\n",
       "      <td>2008-02-01 00:00:00</td>\n",
       "    </tr>\n",
       "    <tr>\n",
       "      <th>3</th>\n",
       "      <td>1123.json</td>\n",
       "      <td>false</td>\n",
       "      <td>Health care reform legislation is likely to ma...</td>\n",
       "      <td>health-care</td>\n",
       "      <td>blog-posting</td>\n",
       "      <td>NaN</td>\n",
       "      <td>NaN</td>\n",
       "      <td>none</td>\n",
       "      <td>7.0</td>\n",
       "      <td>19.0</td>\n",
       "      <td>3.0</td>\n",
       "      <td>5.0</td>\n",
       "      <td>44.0</td>\n",
       "      <td>a news release</td>\n",
       "      <td>2009-08-07 12:13:20</td>\n",
       "    </tr>\n",
       "    <tr>\n",
       "      <th>4</th>\n",
       "      <td>9028.json</td>\n",
       "      <td>half-true</td>\n",
       "      <td>The economic turnaround started at the end of ...</td>\n",
       "      <td>economy,jobs</td>\n",
       "      <td>charlie-crist</td>\n",
       "      <td>NaN</td>\n",
       "      <td>Florida</td>\n",
       "      <td>democrat</td>\n",
       "      <td>15.0</td>\n",
       "      <td>9.0</td>\n",
       "      <td>20.0</td>\n",
       "      <td>19.0</td>\n",
       "      <td>2.0</td>\n",
       "      <td>an interview on CNN</td>\n",
       "      <td>2014-03-11 15:57:54</td>\n",
       "    </tr>\n",
       "    <tr>\n",
       "      <th>5</th>\n",
       "      <td>12465.json</td>\n",
       "      <td>true</td>\n",
       "      <td>The Chicago Bears have had more starting quart...</td>\n",
       "      <td>education</td>\n",
       "      <td>robin-vos</td>\n",
       "      <td>Wisconsin Assembly speaker</td>\n",
       "      <td>Wisconsin</td>\n",
       "      <td>republican</td>\n",
       "      <td>0.0</td>\n",
       "      <td>3.0</td>\n",
       "      <td>2.0</td>\n",
       "      <td>5.0</td>\n",
       "      <td>1.0</td>\n",
       "      <td>a an online opinion-piece</td>\n",
       "      <td>2016-06-03 05:00:00</td>\n",
       "    </tr>\n",
       "    <tr>\n",
       "      <th>6</th>\n",
       "      <td>2342.json</td>\n",
       "      <td>barely-true</td>\n",
       "      <td>Jim Dunnam has not lived in the district he re...</td>\n",
       "      <td>candidates-biography</td>\n",
       "      <td>republican-party-texas</td>\n",
       "      <td>NaN</td>\n",
       "      <td>Texas</td>\n",
       "      <td>republican</td>\n",
       "      <td>3.0</td>\n",
       "      <td>1.0</td>\n",
       "      <td>1.0</td>\n",
       "      <td>3.0</td>\n",
       "      <td>1.0</td>\n",
       "      <td>a press release.</td>\n",
       "      <td>2010-09-06 06:00:00</td>\n",
       "    </tr>\n",
       "    <tr>\n",
       "      <th>7</th>\n",
       "      <td>153.json</td>\n",
       "      <td>half-true</td>\n",
       "      <td>I'm the only person on this stage who has work...</td>\n",
       "      <td>ethics</td>\n",
       "      <td>barack-obama</td>\n",
       "      <td>President</td>\n",
       "      <td>Illinois</td>\n",
       "      <td>democrat</td>\n",
       "      <td>70.0</td>\n",
       "      <td>71.0</td>\n",
       "      <td>160.0</td>\n",
       "      <td>163.0</td>\n",
       "      <td>9.0</td>\n",
       "      <td>a Democratic debate in Philadelphia, Pa.</td>\n",
       "      <td>2007-10-31 00:00:00</td>\n",
       "    </tr>\n",
       "    <tr>\n",
       "      <th>8</th>\n",
       "      <td>5602.json</td>\n",
       "      <td>half-true</td>\n",
       "      <td>However, it took $19.5 million in Oregon Lotte...</td>\n",
       "      <td>jobs</td>\n",
       "      <td>oregon-lottery</td>\n",
       "      <td>NaN</td>\n",
       "      <td>NaN</td>\n",
       "      <td>organization</td>\n",
       "      <td>0.0</td>\n",
       "      <td>0.0</td>\n",
       "      <td>1.0</td>\n",
       "      <td>0.0</td>\n",
       "      <td>1.0</td>\n",
       "      <td>a website</td>\n",
       "      <td>2012-03-21 16:29:53</td>\n",
       "    </tr>\n",
       "    <tr>\n",
       "      <th>9</th>\n",
       "      <td>9741.json</td>\n",
       "      <td>mostly-true</td>\n",
       "      <td>Says GOP primary opponents Glenn Grothman and ...</td>\n",
       "      <td>energy,message-machine-2014,voting-record</td>\n",
       "      <td>duey-stroebel</td>\n",
       "      <td>State representative</td>\n",
       "      <td>Wisconsin</td>\n",
       "      <td>republican</td>\n",
       "      <td>0.0</td>\n",
       "      <td>0.0</td>\n",
       "      <td>0.0</td>\n",
       "      <td>1.0</td>\n",
       "      <td>0.0</td>\n",
       "      <td>an online video</td>\n",
       "      <td>2014-08-10 05:00:00</td>\n",
       "    </tr>\n",
       "    <tr>\n",
       "      <th>10</th>\n",
       "      <td>7115.json</td>\n",
       "      <td>mostly-true</td>\n",
       "      <td>For the first time in history, the share of th...</td>\n",
       "      <td>elections</td>\n",
       "      <td>robert-menendez</td>\n",
       "      <td>U.S. Senator</td>\n",
       "      <td>New Jersey</td>\n",
       "      <td>democrat</td>\n",
       "      <td>1.0</td>\n",
       "      <td>3.0</td>\n",
       "      <td>1.0</td>\n",
       "      <td>3.0</td>\n",
       "      <td>0.0</td>\n",
       "      <td>a speech</td>\n",
       "      <td>2012-11-26 07:30:00</td>\n",
       "    </tr>\n",
       "    <tr>\n",
       "      <th>11</th>\n",
       "      <td>4148.json</td>\n",
       "      <td>half-true</td>\n",
       "      <td>Since 2000, nearly 12 million Americans have s...</td>\n",
       "      <td>economy,jobs,new-hampshire-2012,poverty</td>\n",
       "      <td>bernie-s</td>\n",
       "      <td>U.S. Senator</td>\n",
       "      <td>Vermont</td>\n",
       "      <td>independent</td>\n",
       "      <td>18.0</td>\n",
       "      <td>12.0</td>\n",
       "      <td>22.0</td>\n",
       "      <td>41.0</td>\n",
       "      <td>0.0</td>\n",
       "      <td>a tweet</td>\n",
       "      <td>2011-07-20 15:01:47</td>\n",
       "    </tr>\n",
       "    <tr>\n",
       "      <th>12</th>\n",
       "      <td>5947.json</td>\n",
       "      <td>false</td>\n",
       "      <td>When Mitt Romney was governor of Massachusetts...</td>\n",
       "      <td>history,state-budget</td>\n",
       "      <td>mitt-romney</td>\n",
       "      <td>Former governor</td>\n",
       "      <td>Massachusetts</td>\n",
       "      <td>republican</td>\n",
       "      <td>34.0</td>\n",
       "      <td>32.0</td>\n",
       "      <td>58.0</td>\n",
       "      <td>33.0</td>\n",
       "      <td>19.0</td>\n",
       "      <td>an interview with CBN News</td>\n",
       "      <td>2012-05-21 17:16:53</td>\n",
       "    </tr>\n",
       "    <tr>\n",
       "      <th>13</th>\n",
       "      <td>8616.json</td>\n",
       "      <td>mostly-true</td>\n",
       "      <td>The economy bled $24 billion due to the govern...</td>\n",
       "      <td>economy,federal-budget,health-care</td>\n",
       "      <td>doonesbury</td>\n",
       "      <td>NaN</td>\n",
       "      <td>NaN</td>\n",
       "      <td>none</td>\n",
       "      <td>0.0</td>\n",
       "      <td>0.0</td>\n",
       "      <td>2.0</td>\n",
       "      <td>4.0</td>\n",
       "      <td>0.0</td>\n",
       "      <td>a Doonesbury strip in the Sunday comics</td>\n",
       "      <td>2013-12-03 11:51:27</td>\n",
       "    </tr>\n",
       "    <tr>\n",
       "      <th>14</th>\n",
       "      <td>8705.json</td>\n",
       "      <td>barely-true</td>\n",
       "      <td>Most of the (Affordable Care Act) has already ...</td>\n",
       "      <td>health-care</td>\n",
       "      <td>george-will</td>\n",
       "      <td>Columnist</td>\n",
       "      <td>Maryland</td>\n",
       "      <td>columnist</td>\n",
       "      <td>7.0</td>\n",
       "      <td>6.0</td>\n",
       "      <td>3.0</td>\n",
       "      <td>5.0</td>\n",
       "      <td>1.0</td>\n",
       "      <td>comments on \"Fox News Sunday\"</td>\n",
       "      <td>2013-12-22 16:21:42</td>\n",
       "    </tr>\n",
       "    <tr>\n",
       "      <th>15</th>\n",
       "      <td>10683.json</td>\n",
       "      <td>half-true</td>\n",
       "      <td>In this last election in November, ... 63 perc...</td>\n",
       "      <td>elections</td>\n",
       "      <td>bernie-s</td>\n",
       "      <td>U.S. Senator</td>\n",
       "      <td>Vermont</td>\n",
       "      <td>independent</td>\n",
       "      <td>18.0</td>\n",
       "      <td>12.0</td>\n",
       "      <td>22.0</td>\n",
       "      <td>41.0</td>\n",
       "      <td>0.0</td>\n",
       "      <td>a town hall in Austin, Texas</td>\n",
       "      <td>2015-04-02 16:30:48</td>\n",
       "    </tr>\n",
       "    <tr>\n",
       "      <th>16</th>\n",
       "      <td>620.json</td>\n",
       "      <td>true</td>\n",
       "      <td>McCain opposed a requirement that the governme...</td>\n",
       "      <td>federal-budget</td>\n",
       "      <td>barack-obama</td>\n",
       "      <td>President</td>\n",
       "      <td>Illinois</td>\n",
       "      <td>democrat</td>\n",
       "      <td>70.0</td>\n",
       "      <td>71.0</td>\n",
       "      <td>160.0</td>\n",
       "      <td>163.0</td>\n",
       "      <td>9.0</td>\n",
       "      <td>a radio ad</td>\n",
       "      <td>2008-08-12 00:00:00</td>\n",
       "    </tr>\n",
       "    <tr>\n",
       "      <th>17</th>\n",
       "      <td>3863.json</td>\n",
       "      <td>barely-true</td>\n",
       "      <td>U.S. Rep. Ron Kind, D-Wis., and his fellow Dem...</td>\n",
       "      <td>federal-budget</td>\n",
       "      <td>national-republican-congressional-committee</td>\n",
       "      <td>NaN</td>\n",
       "      <td>NaN</td>\n",
       "      <td>republican</td>\n",
       "      <td>18.0</td>\n",
       "      <td>9.0</td>\n",
       "      <td>8.0</td>\n",
       "      <td>5.0</td>\n",
       "      <td>8.0</td>\n",
       "      <td>a news release</td>\n",
       "      <td>2011-06-06 09:00:00</td>\n",
       "    </tr>\n",
       "    <tr>\n",
       "      <th>18</th>\n",
       "      <td>12372.json</td>\n",
       "      <td>half-true</td>\n",
       "      <td>Water rates in Manila, Philippines, were raise...</td>\n",
       "      <td>financial-regulation,foreign-policy,water</td>\n",
       "      <td>gwen-moore</td>\n",
       "      <td>U.S. House member -- 4th District</td>\n",
       "      <td>Wisconsin</td>\n",
       "      <td>democrat</td>\n",
       "      <td>3.0</td>\n",
       "      <td>4.0</td>\n",
       "      <td>4.0</td>\n",
       "      <td>3.0</td>\n",
       "      <td>1.0</td>\n",
       "      <td>a congressional hearing</td>\n",
       "      <td>2016-05-12 14:00:00</td>\n",
       "    </tr>\n",
       "    <tr>\n",
       "      <th>19</th>\n",
       "      <td>12385.json</td>\n",
       "      <td>mostly-true</td>\n",
       "      <td>Almost 100,000 people left Puerto Rico last year.</td>\n",
       "      <td>bankruptcy,economy,population</td>\n",
       "      <td>jack-lew</td>\n",
       "      <td>Treasury secretary</td>\n",
       "      <td>Washington, D.C.</td>\n",
       "      <td>democrat</td>\n",
       "      <td>0.0</td>\n",
       "      <td>1.0</td>\n",
       "      <td>0.0</td>\n",
       "      <td>1.0</td>\n",
       "      <td>0.0</td>\n",
       "      <td>an interview with Bloomberg News</td>\n",
       "      <td>2016-05-17 10:38:46</td>\n",
       "    </tr>\n",
       "    <tr>\n",
       "      <th>20</th>\n",
       "      <td>10173.json</td>\n",
       "      <td>false</td>\n",
       "      <td>Women and men both are making less when you ad...</td>\n",
       "      <td>economy,income</td>\n",
       "      <td>dennis-richardson</td>\n",
       "      <td>state representative</td>\n",
       "      <td>Oregon</td>\n",
       "      <td>republican</td>\n",
       "      <td>0.0</td>\n",
       "      <td>4.0</td>\n",
       "      <td>1.0</td>\n",
       "      <td>2.0</td>\n",
       "      <td>0.0</td>\n",
       "      <td>a campaign debate</td>\n",
       "      <td>2014-10-30 17:01:51</td>\n",
       "    </tr>\n",
       "    <tr>\n",
       "      <th>21</th>\n",
       "      <td>9867.json</td>\n",
       "      <td>mostly-true</td>\n",
       "      <td>The United States has the highest corporate ta...</td>\n",
       "      <td>corporations,taxes</td>\n",
       "      <td>eric-bolling</td>\n",
       "      <td>Co-host on Fox News Channel's \"The Five\"</td>\n",
       "      <td>NaN</td>\n",
       "      <td>none</td>\n",
       "      <td>2.0</td>\n",
       "      <td>1.0</td>\n",
       "      <td>1.0</td>\n",
       "      <td>1.0</td>\n",
       "      <td>0.0</td>\n",
       "      <td>a discussion on Fox News' \"The Five\"</td>\n",
       "      <td>2014-09-09 11:01:09</td>\n",
       "    </tr>\n",
       "    <tr>\n",
       "      <th>22</th>\n",
       "      <td>12408.json</td>\n",
       "      <td>mostly-true</td>\n",
       "      <td>We just had the best year for the auto industr...</td>\n",
       "      <td>economy</td>\n",
       "      <td>hillary-clinton</td>\n",
       "      <td>Presidential candidate</td>\n",
       "      <td>New York</td>\n",
       "      <td>democrat</td>\n",
       "      <td>40.0</td>\n",
       "      <td>29.0</td>\n",
       "      <td>69.0</td>\n",
       "      <td>76.0</td>\n",
       "      <td>7.0</td>\n",
       "      <td>remarks at a Kentucky rally</td>\n",
       "      <td>2016-05-20 15:00:00</td>\n",
       "    </tr>\n",
       "    <tr>\n",
       "      <th>23</th>\n",
       "      <td>2673.json</td>\n",
       "      <td>half-true</td>\n",
       "      <td>Says Scott Walker favors cutting up to 350,000...</td>\n",
       "      <td>health-care,message-machine</td>\n",
       "      <td>greater-wisconsin-political-fund</td>\n",
       "      <td>NaN</td>\n",
       "      <td>Wisconsin</td>\n",
       "      <td>none</td>\n",
       "      <td>3.0</td>\n",
       "      <td>3.0</td>\n",
       "      <td>3.0</td>\n",
       "      <td>1.0</td>\n",
       "      <td>1.0</td>\n",
       "      <td>a campaign TV ad</td>\n",
       "      <td>2010-10-25 09:00:00</td>\n",
       "    </tr>\n",
       "    <tr>\n",
       "      <th>24</th>\n",
       "      <td>7057.json</td>\n",
       "      <td>barely-true</td>\n",
       "      <td>Says Mitt Romney wants to get rid of Planned P...</td>\n",
       "      <td>abortion,federal-budget,health-care</td>\n",
       "      <td>planned-parenthood-action-fund</td>\n",
       "      <td>Advocacy group</td>\n",
       "      <td>Washington, D.C.</td>\n",
       "      <td>none</td>\n",
       "      <td>1.0</td>\n",
       "      <td>0.0</td>\n",
       "      <td>0.0</td>\n",
       "      <td>0.0</td>\n",
       "      <td>0.0</td>\n",
       "      <td>a radio ad</td>\n",
       "      <td>2012-11-02 11:45:15</td>\n",
       "    </tr>\n",
       "    <tr>\n",
       "      <th>25</th>\n",
       "      <td>10215.json</td>\n",
       "      <td>false</td>\n",
       "      <td>I dont know who (Jonathan Gruber) is.</td>\n",
       "      <td>health-care</td>\n",
       "      <td>nancy-pelosi</td>\n",
       "      <td>House Minority Leader</td>\n",
       "      <td>California</td>\n",
       "      <td>democrat</td>\n",
       "      <td>3.0</td>\n",
       "      <td>7.0</td>\n",
       "      <td>11.0</td>\n",
       "      <td>2.0</td>\n",
       "      <td>3.0</td>\n",
       "      <td>a news conference</td>\n",
       "      <td>2014-11-13 17:17:02</td>\n",
       "    </tr>\n",
       "    <tr>\n",
       "      <th>26</th>\n",
       "      <td>12517.json</td>\n",
       "      <td>mostly-true</td>\n",
       "      <td>Hate crimes against American Muslims and mosqu...</td>\n",
       "      <td>crime,diversity,homeland-security,terrorism</td>\n",
       "      <td>hillary-clinton</td>\n",
       "      <td>Presidential candidate</td>\n",
       "      <td>New York</td>\n",
       "      <td>democrat</td>\n",
       "      <td>40.0</td>\n",
       "      <td>29.0</td>\n",
       "      <td>69.0</td>\n",
       "      <td>76.0</td>\n",
       "      <td>7.0</td>\n",
       "      <td>a speech after a terrorist attack in Orlando</td>\n",
       "      <td>2016-06-14 13:37:23</td>\n",
       "    </tr>\n",
       "    <tr>\n",
       "      <th>27</th>\n",
       "      <td>3910.json</td>\n",
       "      <td>half-true</td>\n",
       "      <td>Rick Perry has never lost an election and rema...</td>\n",
       "      <td>candidates-biography</td>\n",
       "      <td>ted-nugent</td>\n",
       "      <td>musician</td>\n",
       "      <td>Texas</td>\n",
       "      <td>republican</td>\n",
       "      <td>0.0</td>\n",
       "      <td>0.0</td>\n",
       "      <td>2.0</td>\n",
       "      <td>0.0</td>\n",
       "      <td>2.0</td>\n",
       "      <td>an oped column.</td>\n",
       "      <td>2011-06-14 06:00:00</td>\n",
       "    </tr>\n",
       "    <tr>\n",
       "      <th>28</th>\n",
       "      <td>11092.json</td>\n",
       "      <td>false</td>\n",
       "      <td>ISIS supporter tweeted at 10:34 a.m. Shooting ...</td>\n",
       "      <td>technology,terrorism</td>\n",
       "      <td>pamela-geller</td>\n",
       "      <td>President of American Freedom Defense Intitiative</td>\n",
       "      <td>New York</td>\n",
       "      <td>activist</td>\n",
       "      <td>0.0</td>\n",
       "      <td>1.0</td>\n",
       "      <td>1.0</td>\n",
       "      <td>0.0</td>\n",
       "      <td>0.0</td>\n",
       "      <td>a tweet</td>\n",
       "      <td>2015-07-21 10:26:37</td>\n",
       "    </tr>\n",
       "    <tr>\n",
       "      <th>29</th>\n",
       "      <td>12163.json</td>\n",
       "      <td>mostly-true</td>\n",
       "      <td>Youth unemployment in minority communities is ...</td>\n",
       "      <td>diversity,economy,jobs</td>\n",
       "      <td>peter-kinder</td>\n",
       "      <td>Lieutenant governor</td>\n",
       "      <td>Missouri</td>\n",
       "      <td>republican</td>\n",
       "      <td>0.0</td>\n",
       "      <td>0.0</td>\n",
       "      <td>0.0</td>\n",
       "      <td>1.0</td>\n",
       "      <td>1.0</td>\n",
       "      <td>a gubernatorial debate</td>\n",
       "      <td>2016-03-31 23:17:38</td>\n",
       "    </tr>\n",
       "  </tbody>\n",
       "</table>\n",
       "</div>"
      ],
      "text/plain": [
       "            Id        Label  \\\n",
       "0    2635.json        false   \n",
       "1   10540.json    half-true   \n",
       "2     324.json  mostly-true   \n",
       "3    1123.json        false   \n",
       "4    9028.json    half-true   \n",
       "5   12465.json         true   \n",
       "6    2342.json  barely-true   \n",
       "7     153.json    half-true   \n",
       "8    5602.json    half-true   \n",
       "9    9741.json  mostly-true   \n",
       "10   7115.json  mostly-true   \n",
       "11   4148.json    half-true   \n",
       "12   5947.json        false   \n",
       "13   8616.json  mostly-true   \n",
       "14   8705.json  barely-true   \n",
       "15  10683.json    half-true   \n",
       "16    620.json         true   \n",
       "17   3863.json  barely-true   \n",
       "18  12372.json    half-true   \n",
       "19  12385.json  mostly-true   \n",
       "20  10173.json        false   \n",
       "21   9867.json  mostly-true   \n",
       "22  12408.json  mostly-true   \n",
       "23   2673.json    half-true   \n",
       "24   7057.json  barely-true   \n",
       "25  10215.json        false   \n",
       "26  12517.json  mostly-true   \n",
       "27   3910.json    half-true   \n",
       "28  11092.json        false   \n",
       "29  12163.json  mostly-true   \n",
       "\n",
       "                                            Statement  \\\n",
       "0   Says the Annies List political group supports ...   \n",
       "1   When did the decline of coal start? It started...   \n",
       "2   Hillary Clinton agrees with John McCain \"by vo...   \n",
       "3   Health care reform legislation is likely to ma...   \n",
       "4   The economic turnaround started at the end of ...   \n",
       "5   The Chicago Bears have had more starting quart...   \n",
       "6   Jim Dunnam has not lived in the district he re...   \n",
       "7   I'm the only person on this stage who has work...   \n",
       "8   However, it took $19.5 million in Oregon Lotte...   \n",
       "9   Says GOP primary opponents Glenn Grothman and ...   \n",
       "10  For the first time in history, the share of th...   \n",
       "11  Since 2000, nearly 12 million Americans have s...   \n",
       "12  When Mitt Romney was governor of Massachusetts...   \n",
       "13  The economy bled $24 billion due to the govern...   \n",
       "14  Most of the (Affordable Care Act) has already ...   \n",
       "15  In this last election in November, ... 63 perc...   \n",
       "16  McCain opposed a requirement that the governme...   \n",
       "17  U.S. Rep. Ron Kind, D-Wis., and his fellow Dem...   \n",
       "18  Water rates in Manila, Philippines, were raise...   \n",
       "19  Almost 100,000 people left Puerto Rico last year.   \n",
       "20  Women and men both are making less when you ad...   \n",
       "21  The United States has the highest corporate ta...   \n",
       "22  We just had the best year for the auto industr...   \n",
       "23  Says Scott Walker favors cutting up to 350,000...   \n",
       "24  Says Mitt Romney wants to get rid of Planned P...   \n",
       "25              I dont know who (Jonathan Gruber) is.   \n",
       "26  Hate crimes against American Muslims and mosqu...   \n",
       "27  Rick Perry has never lost an election and rema...   \n",
       "28  ISIS supporter tweeted at 10:34 a.m. Shooting ...   \n",
       "29  Youth unemployment in minority communities is ...   \n",
       "\n",
       "                                        Subject  \\\n",
       "0                                      abortion   \n",
       "1            energy,history,job-accomplishments   \n",
       "2                                foreign-policy   \n",
       "3                                   health-care   \n",
       "4                                  economy,jobs   \n",
       "5                                     education   \n",
       "6                          candidates-biography   \n",
       "7                                        ethics   \n",
       "8                                          jobs   \n",
       "9     energy,message-machine-2014,voting-record   \n",
       "10                                    elections   \n",
       "11      economy,jobs,new-hampshire-2012,poverty   \n",
       "12                         history,state-budget   \n",
       "13           economy,federal-budget,health-care   \n",
       "14                                  health-care   \n",
       "15                                    elections   \n",
       "16                               federal-budget   \n",
       "17                               federal-budget   \n",
       "18    financial-regulation,foreign-policy,water   \n",
       "19                bankruptcy,economy,population   \n",
       "20                               economy,income   \n",
       "21                           corporations,taxes   \n",
       "22                                      economy   \n",
       "23                  health-care,message-machine   \n",
       "24          abortion,federal-budget,health-care   \n",
       "25                                  health-care   \n",
       "26  crime,diversity,homeland-security,terrorism   \n",
       "27                         candidates-biography   \n",
       "28                         technology,terrorism   \n",
       "29                       diversity,economy,jobs   \n",
       "\n",
       "                            Speaker’s Job Title  \\\n",
       "0                                  dwayne-bohac   \n",
       "1                                scott-surovell   \n",
       "2                                  barack-obama   \n",
       "3                                  blog-posting   \n",
       "4                                 charlie-crist   \n",
       "5                                     robin-vos   \n",
       "6                        republican-party-texas   \n",
       "7                                  barack-obama   \n",
       "8                                oregon-lottery   \n",
       "9                                 duey-stroebel   \n",
       "10                              robert-menendez   \n",
       "11                                     bernie-s   \n",
       "12                                  mitt-romney   \n",
       "13                                   doonesbury   \n",
       "14                                  george-will   \n",
       "15                                     bernie-s   \n",
       "16                                 barack-obama   \n",
       "17  national-republican-congressional-committee   \n",
       "18                                   gwen-moore   \n",
       "19                                     jack-lew   \n",
       "20                            dennis-richardson   \n",
       "21                                 eric-bolling   \n",
       "22                              hillary-clinton   \n",
       "23             greater-wisconsin-political-fund   \n",
       "24               planned-parenthood-action-fund   \n",
       "25                                 nancy-pelosi   \n",
       "26                              hillary-clinton   \n",
       "27                                   ted-nugent   \n",
       "28                                pamela-geller   \n",
       "29                                 peter-kinder   \n",
       "\n",
       "                                                  Job              State  \\\n",
       "0                                State representative              Texas   \n",
       "1                                      State delegate           Virginia   \n",
       "2                                           President           Illinois   \n",
       "3                                                 NaN                NaN   \n",
       "4                                                 NaN            Florida   \n",
       "5                          Wisconsin Assembly speaker          Wisconsin   \n",
       "6                                                 NaN              Texas   \n",
       "7                                           President           Illinois   \n",
       "8                                                 NaN                NaN   \n",
       "9                                State representative          Wisconsin   \n",
       "10                                       U.S. Senator         New Jersey   \n",
       "11                                       U.S. Senator            Vermont   \n",
       "12                                    Former governor      Massachusetts   \n",
       "13                                                NaN                NaN   \n",
       "14                                          Columnist           Maryland   \n",
       "15                                       U.S. Senator            Vermont   \n",
       "16                                          President           Illinois   \n",
       "17                                                NaN                NaN   \n",
       "18                  U.S. House member -- 4th District          Wisconsin   \n",
       "19                                Treasury secretary   Washington, D.C.    \n",
       "20                               state representative             Oregon   \n",
       "21           Co-host on Fox News Channel's \"The Five\"                NaN   \n",
       "22                             Presidential candidate           New York   \n",
       "23                                                NaN          Wisconsin   \n",
       "24                                     Advocacy group   Washington, D.C.   \n",
       "25                              House Minority Leader         California   \n",
       "26                             Presidential candidate           New York   \n",
       "27                                           musician              Texas   \n",
       "28  President of American Freedom Defense Intitiative           New York   \n",
       "29                                Lieutenant governor           Missouri   \n",
       "\n",
       "   The Party Affiliation  barely true counts  false counts  half true counts  \\\n",
       "0             republican                 0.0           1.0               0.0   \n",
       "1               democrat                 0.0           0.0               1.0   \n",
       "2               democrat                70.0          71.0             160.0   \n",
       "3                   none                 7.0          19.0               3.0   \n",
       "4               democrat                15.0           9.0              20.0   \n",
       "5             republican                 0.0           3.0               2.0   \n",
       "6             republican                 3.0           1.0               1.0   \n",
       "7               democrat                70.0          71.0             160.0   \n",
       "8           organization                 0.0           0.0               1.0   \n",
       "9             republican                 0.0           0.0               0.0   \n",
       "10              democrat                 1.0           3.0               1.0   \n",
       "11           independent                18.0          12.0              22.0   \n",
       "12            republican                34.0          32.0              58.0   \n",
       "13                  none                 0.0           0.0               2.0   \n",
       "14             columnist                 7.0           6.0               3.0   \n",
       "15           independent                18.0          12.0              22.0   \n",
       "16              democrat                70.0          71.0             160.0   \n",
       "17            republican                18.0           9.0               8.0   \n",
       "18              democrat                 3.0           4.0               4.0   \n",
       "19              democrat                 0.0           1.0               0.0   \n",
       "20            republican                 0.0           4.0               1.0   \n",
       "21                  none                 2.0           1.0               1.0   \n",
       "22              democrat                40.0          29.0              69.0   \n",
       "23                  none                 3.0           3.0               3.0   \n",
       "24                  none                 1.0           0.0               0.0   \n",
       "25              democrat                 3.0           7.0              11.0   \n",
       "26              democrat                40.0          29.0              69.0   \n",
       "27            republican                 0.0           0.0               2.0   \n",
       "28              activist                 0.0           1.0               1.0   \n",
       "29            republican                 0.0           0.0               0.0   \n",
       "\n",
       "    mostly true counts  pants on fire counts  \\\n",
       "0                  0.0                   0.0   \n",
       "1                  1.0                   0.0   \n",
       "2                163.0                   9.0   \n",
       "3                  5.0                  44.0   \n",
       "4                 19.0                   2.0   \n",
       "5                  5.0                   1.0   \n",
       "6                  3.0                   1.0   \n",
       "7                163.0                   9.0   \n",
       "8                  0.0                   1.0   \n",
       "9                  1.0                   0.0   \n",
       "10                 3.0                   0.0   \n",
       "11                41.0                   0.0   \n",
       "12                33.0                  19.0   \n",
       "13                 4.0                   0.0   \n",
       "14                 5.0                   1.0   \n",
       "15                41.0                   0.0   \n",
       "16               163.0                   9.0   \n",
       "17                 5.0                   8.0   \n",
       "18                 3.0                   1.0   \n",
       "19                 1.0                   0.0   \n",
       "20                 2.0                   0.0   \n",
       "21                 1.0                   0.0   \n",
       "22                76.0                   7.0   \n",
       "23                 1.0                   1.0   \n",
       "24                 0.0                   0.0   \n",
       "25                 2.0                   3.0   \n",
       "26                76.0                   7.0   \n",
       "27                 0.0                   2.0   \n",
       "28                 0.0                   0.0   \n",
       "29                 1.0                   1.0   \n",
       "\n",
       "                             Communication Media                 Date  \n",
       "0                                       a mailer  2010-10-20 06:00:00  \n",
       "1                                a floor speech.  2015-02-23 00:00:00  \n",
       "2                                         Denver  2008-02-01 00:00:00  \n",
       "3                                 a news release  2009-08-07 12:13:20  \n",
       "4                            an interview on CNN  2014-03-11 15:57:54  \n",
       "5                      a an online opinion-piece  2016-06-03 05:00:00  \n",
       "6                               a press release.  2010-09-06 06:00:00  \n",
       "7       a Democratic debate in Philadelphia, Pa.  2007-10-31 00:00:00  \n",
       "8                                     a website   2012-03-21 16:29:53  \n",
       "9                                an online video  2014-08-10 05:00:00  \n",
       "10                                      a speech  2012-11-26 07:30:00  \n",
       "11                                       a tweet  2011-07-20 15:01:47  \n",
       "12                    an interview with CBN News  2012-05-21 17:16:53  \n",
       "13       a Doonesbury strip in the Sunday comics  2013-12-03 11:51:27  \n",
       "14                 comments on \"Fox News Sunday\"  2013-12-22 16:21:42  \n",
       "15                  a town hall in Austin, Texas  2015-04-02 16:30:48  \n",
       "16                                    a radio ad  2008-08-12 00:00:00  \n",
       "17                                a news release  2011-06-06 09:00:00  \n",
       "18                       a congressional hearing  2016-05-12 14:00:00  \n",
       "19              an interview with Bloomberg News  2016-05-17 10:38:46  \n",
       "20                             a campaign debate  2014-10-30 17:01:51  \n",
       "21          a discussion on Fox News' \"The Five\"  2014-09-09 11:01:09  \n",
       "22                   remarks at a Kentucky rally  2016-05-20 15:00:00  \n",
       "23                              a campaign TV ad  2010-10-25 09:00:00  \n",
       "24                                    a radio ad  2012-11-02 11:45:15  \n",
       "25                             a news conference  2014-11-13 17:17:02  \n",
       "26  a speech after a terrorist attack in Orlando  2016-06-14 13:37:23  \n",
       "27                               an oped column.  2011-06-14 06:00:00  \n",
       "28                                      a tweet   2015-07-21 10:26:37  \n",
       "29                        a gubernatorial debate  2016-03-31 23:17:38  "
      ]
     },
     "execution_count": 5,
     "metadata": {},
     "output_type": "execute_result"
    }
   ],
   "source": [
    "with open('data/liar_set_with_date.tsv') as tsvfile:\n",
    "    liar_dataframe = pd.read_csv(tsvfile,sep='\\t',)\n",
    "len(liar_dataframe)\n",
    "liar_dataframe.head(30)"
   ]
  },
  {
   "cell_type": "markdown",
   "metadata": {},
   "source": [
    "### Preprocessing "
   ]
  },
  {
   "cell_type": "code",
   "execution_count": 6,
   "metadata": {
    "collapsed": true
   },
   "outputs": [],
   "source": [
    "liar_dataframe['pants on fire counts'] = pd.to_numeric(liar_dataframe['pants on fire counts']) \n",
    "liar_dataframe['false counts'] = pd.to_numeric(liar_dataframe['false counts']) \n",
    "liar_dataframe['barely true counts'] = pd.to_numeric(liar_dataframe['barely true counts']) \n",
    "liar_dataframe['half true counts'] = pd.to_numeric(liar_dataframe['half true counts']) \n",
    "liar_dataframe['mostly true counts'] = pd.to_numeric(liar_dataframe['mostly true counts']) "
   ]
  },
  {
   "cell_type": "markdown",
   "metadata": {},
   "source": [
    "In order to decide the labels of each statement, we need to convert truth counts to numeric."
   ]
  },
  {
   "cell_type": "code",
   "execution_count": 953,
   "metadata": {
    "collapsed": true
   },
   "outputs": [],
   "source": [
    "#Preprocessing statements by lemmatizing each word and filtering out out of vocabulary words.\n",
    "def preprocess_statements(dataset):\n",
    "    labels=[] \n",
    "    #statements as list of words\n",
    "    statement_set=[]\n",
    "    wordnet_lemmatizer = WordNetLemmatizer() \n",
    "    # load english stopwords\n",
    "    stopWords = set(stopwords.words('english')) \n",
    "    #removing punctuations\n",
    "    tokenizer = RegexpTokenizer(r'\\w+') \n",
    "    \n",
    "    for index, row in liar_dataframe.iterrows():\n",
    "        statement = row['Statement']\n",
    "        false = row['pants on fire counts'] + row['false counts'] \n",
    "        true = row['barely true counts'] + row['half true counts'] + row['mostly true counts']\n",
    "        \n",
    "        tokens=tokenizer.tokenize(statement)\n",
    "        words=[]\n",
    "        for word in tokens:\n",
    "            word = wordnet_lemmatizer.lemmatize(word)\n",
    "            if word not in stopWords:\n",
    "                if word in model_glove:\n",
    "                    words.append(word.lower())\n",
    "        if len(words)>0:\n",
    "            statement_set.append(words)\n",
    "            #truth\n",
    "            if true>false:\n",
    "                labels.append(1)\n",
    "            #lie\n",
    "            else:\n",
    "                labels.append(0)\n",
    "\n",
    "    return statement_set, labels"
   ]
  },
  {
   "cell_type": "code",
   "execution_count": null,
   "metadata": {
    "collapsed": true
   },
   "outputs": [],
   "source": [
    "statement_set, labels = preprocess_statements(liar_dataframe)"
   ]
  },
  {
   "cell_type": "markdown",
   "metadata": {},
   "source": [
    "In preprocessing step, we remove punctuations, lemmatize words, filter out out-of-vocabulary words. \n",
    "Returned 'statement_set' by the function is a list of word list of each statement. "
   ]
  },
  {
   "cell_type": "markdown",
   "metadata": {},
   "source": [
    "### Logistic Regression"
   ]
  },
  {
   "cell_type": "code",
   "execution_count": 966,
   "metadata": {
    "collapsed": true
   },
   "outputs": [],
   "source": [
    "def average_feature(dataset,feature_dim):\n",
    "    labels=[]\n",
    "    statement_set=[]\n",
    "    average_vec = np.zeros(feature_dim)\n",
    "    for statement in dataset:\n",
    "        count=0\n",
    "        for word in statement:\n",
    "            average_vec+=model_glove[word.lower()]\n",
    "            count+=1\n",
    "        statement_set.append((average_vec/count))\n",
    "    return statement_set  "
   ]
  },
  {
   "cell_type": "markdown",
   "metadata": {},
   "source": [
    "Each word is represented by a Glove vector of 200 dimensions. Since number of words in each statement varies, the average vector of each statement is calculated to be used in logistic regression and SVM models."
   ]
  },
  {
   "cell_type": "markdown",
   "metadata": {},
   "source": [
    "### Cross Validation and Grid Search"
   ]
  },
  {
   "cell_type": "code",
   "execution_count": 56,
   "metadata": {
    "collapsed": true
   },
   "outputs": [],
   "source": [
    "trainset_avg = average_feature(statement_set,200)"
   ]
  },
  {
   "cell_type": "markdown",
   "metadata": {},
   "source": [
    "Average feature vector of each statement is calculated."
   ]
  },
  {
   "cell_type": "code",
   "execution_count": 398,
   "metadata": {
    "collapsed": true
   },
   "outputs": [],
   "source": [
    "X_train_avg, X_test_avg, y_train_avg, y_test_avg = train_test_split(np.array(trainset_avg), np.array(labels), test_size=0.2, random_state=23)"
   ]
  },
  {
   "cell_type": "markdown",
   "metadata": {},
   "source": [
    "We randomly split the %80 of the dataset as train set and the rest as the test set."
   ]
  },
  {
   "cell_type": "code",
   "execution_count": 445,
   "metadata": {
    "collapsed": true
   },
   "outputs": [],
   "source": [
    "logistic_regression = LogisticRegression(solver='lbfgs',max_iter=5000)"
   ]
  },
  {
   "cell_type": "markdown",
   "metadata": {},
   "source": [
    "We initialize the logistic regression model."
   ]
  },
  {
   "cell_type": "code",
   "execution_count": 446,
   "metadata": {
    "collapsed": true
   },
   "outputs": [],
   "source": [
    "C = np.linspace(0.1, 2, 10)\n",
    "hyperparameters = dict(C=C)\n",
    "log_reg_cv = GridSearchCV(logistic_regression, hyperparameters, cv=5, return_train_score=True)"
   ]
  },
  {
   "cell_type": "markdown",
   "metadata": {},
   "source": [
    "We initialize a grid search model to find the optimal C parameter for logistic regression. Additionally, our grid search model performs cross validation with 5-folds."
   ]
  },
  {
   "cell_type": "code",
   "execution_count": 447,
   "metadata": {
    "scrolled": false
   },
   "outputs": [
    {
     "data": {
      "text/plain": [
       "GridSearchCV(cv=5, error_score='raise-deprecating',\n",
       "       estimator=LogisticRegression(C=1.0, class_weight=None, dual=False, fit_intercept=True,\n",
       "          intercept_scaling=1, max_iter=5000, multi_class='warn',\n",
       "          n_jobs=None, penalty='l2', random_state=None, solver='lbfgs',\n",
       "          tol=0.0001, verbose=0, warm_start=False),\n",
       "       fit_params=None, iid='warn', n_jobs=None,\n",
       "       param_grid={'C': array([0.1    , 0.31111, 0.52222, 0.73333, 0.94444, 1.15556, 1.36667,\n",
       "       1.57778, 1.78889, 2.     ])},\n",
       "       pre_dispatch='2*n_jobs', refit=True, return_train_score=True,\n",
       "       scoring=None, verbose=0)"
      ]
     },
     "execution_count": 447,
     "metadata": {},
     "output_type": "execute_result"
    }
   ],
   "source": [
    "log_reg_cv.fit(X_train_avg, y_train_avg)"
   ]
  },
  {
   "cell_type": "code",
   "execution_count": 448,
   "metadata": {},
   "outputs": [
    {
     "data": {
      "text/plain": [
       "LogisticRegression(C=0.5222222222222223, class_weight=None, dual=False,\n",
       "          fit_intercept=True, intercept_scaling=1, max_iter=5000,\n",
       "          multi_class='warn', n_jobs=None, penalty='l2', random_state=None,\n",
       "          solver='lbfgs', tol=0.0001, verbose=0, warm_start=False)"
      ]
     },
     "execution_count": 448,
     "metadata": {},
     "output_type": "execute_result"
    }
   ],
   "source": [
    "log_reg_cv.best_estimator_"
   ]
  },
  {
   "cell_type": "markdown",
   "metadata": {},
   "source": [
    "Model with the highest accuracy has C=0.52"
   ]
  },
  {
   "cell_type": "code",
   "execution_count": 968,
   "metadata": {},
   "outputs": [
    {
     "name": "stdout",
     "output_type": "stream",
     "text": [
      "Best training score 0.7321498626912515\n"
     ]
    }
   ],
   "source": [
    "print(\"Best training score\",log_reg_cv.best_score_)"
   ]
  },
  {
   "cell_type": "code",
   "execution_count": 908,
   "metadata": {},
   "outputs": [
    {
     "data": {
      "image/png": "[encoded data removed]",
      "text/plain": [
       "<Figure size 432x288 with 1 Axes>"
      ]
     },
     "metadata": {},
     "output_type": "display_data"
    }
   ],
   "source": [
    "plt.title('Logistic Regression - Grid Search')\n",
    "plt.plot(log_reg_cv.cv_results_['param_C'].data, log_reg_cv.cv_results_['mean_train_score'],'o-',  label=\"Train score\")\n",
    "plt.plot(log_reg_cv.cv_results_['param_C'].data, log_reg_cv.cv_results_['mean_test_score'],'o-', label=\"Valid. score\") \n",
    "plt.legend(loc='lower left')\n",
    "plt.ylabel('Accuracy')\n",
    "plt.xlabel('C Parameters')\n",
    "plt.savefig('Logistic_Regression.png', dpi=300)"
   ]
  },
  {
   "cell_type": "markdown",
   "metadata": {},
   "source": [
    "We plotted the change of the accuracies in train set and validation set with respect to change in parameter C."
   ]
  },
  {
   "cell_type": "code",
   "execution_count": 767,
   "metadata": {
    "collapsed": true
   },
   "outputs": [],
   "source": [
    "test_result_lr = log_reg_cv.score(X_test_avg, y_test_avg)"
   ]
  },
  {
   "cell_type": "code",
   "execution_count": 969,
   "metadata": {},
   "outputs": [
    {
     "name": "stdout",
     "output_type": "stream",
     "text": [
      "Test Set Accuracy of best estimator model - Logistic Regression 0.7313725490196078\n"
     ]
    }
   ],
   "source": [
    "print(\"Test Set Accuracy of best estimator model - Logistic Regression\",test_result_lr)"
   ]
  },
  {
   "cell_type": "markdown",
   "metadata": {},
   "source": [
    "### SVM"
   ]
  },
  {
   "cell_type": "code",
   "execution_count": 483,
   "metadata": {
    "collapsed": true
   },
   "outputs": [],
   "source": [
    "svm_predictor = svm.SVC(gamma='scale')"
   ]
  },
  {
   "cell_type": "markdown",
   "metadata": {},
   "source": [
    "We initialize the SVM model."
   ]
  },
  {
   "cell_type": "code",
   "execution_count": 510,
   "metadata": {
    "collapsed": true
   },
   "outputs": [],
   "source": [
    "C = [0.001, 0.01, 0.1, 1, 10]\n",
    "gammas = [0.001, 0.01, 0.1, 1]\n",
    "hyperparameters = dict(C=C, gamma=gammas)\n",
    "svm_cv = GridSearchCV(svm_predictor, hyperparameters, cv=5, return_train_score=True)"
   ]
  },
  {
   "cell_type": "markdown",
   "metadata": {},
   "source": [
    "We initialize a grid search model to find the optimal C and gamma parameters for our SVM model. Additionally, our grid search model performs cross validation with 5-folds."
   ]
  },
  {
   "cell_type": "code",
   "execution_count": 511,
   "metadata": {
    "scrolled": false
   },
   "outputs": [
    {
     "name": "stdout",
     "output_type": "stream",
     "text": [
      "Fitting 5 folds for each of 20 candidates, totalling 100 fits\n"
     ]
    },
    {
     "name": "stderr",
     "output_type": "stream",
     "text": [
      "[Parallel(n_jobs=4)]: Using backend LokyBackend with 4 concurrent workers.\n",
      "[Parallel(n_jobs=4)]: Done  42 tasks      | elapsed:  7.9min\n",
      "[Parallel(n_jobs=4)]: Done 100 out of 100 | elapsed: 22.7min finished\n"
     ]
    },
    {
     "data": {
      "text/plain": [
       "GridSearchCV(cv=5, error_score='raise-deprecating',\n",
       "       estimator=SVC(C=1.0, cache_size=200, class_weight=None, coef0=0.0,\n",
       "  decision_function_shape='ovr', degree=3, gamma='scale', kernel='rbf',\n",
       "  max_iter=-1, probability=False, random_state=None, shrinking=True,\n",
       "  tol=0.001, verbose=False),\n",
       "       fit_params=None, iid='warn', n_jobs=4,\n",
       "       param_grid={'gamma': [0.001, 0.01, 0.1, 1], 'C': [0.001, 0.01, 0.1, 1, 10]},\n",
       "       pre_dispatch='2*n_jobs', refit=True, return_train_score=True,\n",
       "       scoring=None, verbose=1)"
      ]
     },
     "execution_count": 511,
     "metadata": {},
     "output_type": "execute_result"
    }
   ],
   "source": [
    "svm_cv.fit(X_train_avg, y_train_avg)"
   ]
  },
  {
   "cell_type": "code",
   "execution_count": 512,
   "metadata": {},
   "outputs": [
    {
     "data": {
      "text/plain": [
       "SVC(C=0.001, cache_size=200, class_weight=None, coef0=0.0,\n",
       "  decision_function_shape='ovr', degree=3, gamma=0.001, kernel='rbf',\n",
       "  max_iter=-1, probability=False, random_state=None, shrinking=True,\n",
       "  tol=0.001, verbose=False)"
      ]
     },
     "execution_count": 512,
     "metadata": {},
     "output_type": "execute_result"
    }
   ],
   "source": [
    "svm_cv.best_estimator_"
   ]
  },
  {
   "cell_type": "markdown",
   "metadata": {},
   "source": [
    "Model with the highest accuracy has C=0.001 and gamma=0.001"
   ]
  },
  {
   "cell_type": "code",
   "execution_count": 513,
   "metadata": {},
   "outputs": [
    {
     "data": {
      "text/plain": [
       "0.7344056492742251"
      ]
     },
     "execution_count": 513,
     "metadata": {},
     "output_type": "execute_result"
    }
   ],
   "source": [
    "svm_cv.best_score_"
   ]
  },
  {
   "cell_type": "code",
   "execution_count": 515,
   "metadata": {},
   "outputs": [
    {
     "data": {
      "text/plain": [
       "0.7313725490196078"
      ]
     },
     "execution_count": 515,
     "metadata": {},
     "output_type": "execute_result"
    }
   ],
   "source": [
    "test_result_svm = print(\"Test Set Accuracy of best estimator model - Logistic Regression\",test_result_lr).score(X_test_avg, y_test_avg)"
   ]
  },
  {
   "cell_type": "code",
   "execution_count": 975,
   "metadata": {},
   "outputs": [
    {
     "name": "stdout",
     "output_type": "stream",
     "text": [
      "Test Set Accuracy of best estimator model - SVM 0.73828125\n"
     ]
    }
   ],
   "source": [
    "print(\"Test Set Accuracy of best estimator model - SVM\",test_result_svm)"
   ]
  },
  {
   "cell_type": "code",
   "execution_count": 896,
   "metadata": {
    "collapsed": true
   },
   "outputs": [],
   "source": [
    "def heat_map(param_1,param_2,data,title,ax,y_label,x_label):\n",
    "    scores = np.ones([len(param_1),len(param_2)])\n",
    "\n",
    "    counter=0\n",
    "    # converting scores to 2d matrix\n",
    "    for i in range(len(param_1)):\n",
    "        for j in range(len(param_2)):\n",
    "            scores[i,j]=data[counter]\n",
    "            counter+=1\n",
    "            \n",
    "    im = ax.imshow(scores)\n",
    "    ax.set_ylabel(y_label)\n",
    "    ax.set_xlabel(x_label)\n",
    "    ax.set_yticks(np.arange(len(param_1)))\n",
    "    ax.set_xticks(np.arange(len(param_2)))\n",
    "    ax.set_yticklabels(param_1)\n",
    "    ax.set_xticklabels(param_2)\n",
    "\n",
    "    # Rotating the tick labels of x-axis\n",
    "    plt.setp(ax.get_xticklabels(), rotation=45, ha=\"right\",\n",
    "             rotation_mode=\"anchor\")\n",
    "\n",
    "    # writing accuracy values on each cell\n",
    "    for i in range(len(param_1)):\n",
    "        for j in range(len(param_2)):\n",
    "            text = ax.text(j, i, round(scores[i,j],3),ha=\"center\", va=\"center\", color=\"magenta\")\n",
    "        \n",
    "    ax.set_title(title)\n",
    "    fig.tight_layout()\n",
    "    return"
   ]
  },
  {
   "cell_type": "markdown",
   "metadata": {},
   "source": [
    "We coded a heatmap function which returns a heatmap plot when data and 2 parameters given. We used the same function in LSTM section too."
   ]
  },
  {
   "cell_type": "code",
   "execution_count": 970,
   "metadata": {},
   "outputs": [
    {
     "data": {
      "image/png": "[encoded data removed]",
      "text/plain": [
       "<Figure size 576x432 with 2 Axes>"
      ]
     },
     "metadata": {},
     "output_type": "display_data"
    }
   ],
   "source": [
    "fig, (ax1, ax2) = plt.subplots(1, 2,figsize=(8, 6))\n",
    "heat_map(C,gammas,svm_cv.cv_results_['mean_test_score'],\"Validation Accuracy\",ax1,\"C parameter\",\"Gamma parameter\")\n",
    "heat_map(C,gammas,svm_cv.cv_results_['mean_train_score'],\"Train Accuracy\",ax2,\"\",\"Gamma parameter\")\n",
    "plt.suptitle(\"SVM - Grid Search\", y=0.95, x=0.55)\n",
    "plt.savefig('heat_map_svm.png', dpi=300)"
   ]
  },
  {
   "cell_type": "markdown",
   "metadata": {},
   "source": [
    "Change in accuracy of models with different C and gamma values are shown via heatmap. Change in gamma parameter do not have a considerable effect on the results. However, as the C parameter gets higher, overfitting also increases."
   ]
  },
  {
   "cell_type": "markdown",
   "metadata": {},
   "source": [
    "### LSTM"
   ]
  },
  {
   "cell_type": "code",
   "execution_count": 952,
   "metadata": {
    "collapsed": true
   },
   "outputs": [],
   "source": [
    "#creating embedding layer for NN models\n",
    "def create_embedding(embedding_dim, X_train, X_test, seq_length,model):\n",
    "\n",
    "    # creating unique ids\n",
    "    tokenizer = Tokenizer(num_words=len(model.vocab))\n",
    "    tokenizer.fit_on_texts(X_train)\n",
    "    \n",
    "    # padding training sequences\n",
    "    sequences = tokenizer.texts_to_sequences(X_train)\n",
    "    train_data = pad_sequences(sequences, maxlen=seq_length)\n",
    "\n",
    "    # padding test sequences\n",
    "    sequences_test = tokenizer.texts_to_sequences(X_test)  # test\n",
    "    test_data = pad_sequences(sequences_test, maxlen=seq_length)\n",
    "    \n",
    "    #get word indexes\n",
    "    word_index = tokenizer.word_index\n",
    "    nb_words = min(len(model.vocab), len(word_index)) + 1\n",
    "\n",
    "    embedding_matrix = np.zeros((nb_words, embedding_dim))\n",
    "    \n",
    "    for word, i in word_index.items():\n",
    "        if word in model.vocab:\n",
    "            embedding_matrix[i] = model[word]\n",
    "\n",
    "    print('Null word embeddings: %d' % np.sum(np.sum(embedding_matrix, axis=1) == 0))\n",
    "\n",
    "    embedding_layer = Embedding(embedding_matrix.shape[0],  # or len(word_index) + 1\n",
    "                                embedding_matrix.shape[1],  # or EMBEDDING_DIM,\n",
    "                                weights=[embedding_matrix],\n",
    "                                input_length=seq_length,\n",
    "                                trainable=False)\n",
    "\n",
    "    return train_data, test_data, embedding_layer"
   ]
  },
  {
   "cell_type": "markdown",
   "metadata": {},
   "source": [
    "Keras requires an Embedding Layer to be able to create neural network models on text data. An embedding layer is the input layer where each word is integer encoded. We created unique integers for each word in our training corpus by using Tokenizer API. We initialize the embedding layer with 'embedding_matrix' which maps keys with weights from Glove model.\n",
    "\n",
    "We also use padding so that each sample has the same size."
   ]
  },
  {
   "cell_type": "code",
   "execution_count": 28,
   "metadata": {
    "collapsed": true
   },
   "outputs": [],
   "source": [
    "X_train, X_test, y_train, y_test = train_test_split(np.array(statement_set), np.array(labels), test_size=0.2, random_state=23)"
   ]
  },
  {
   "cell_type": "markdown",
   "metadata": {},
   "source": [
    "We split the statement set as train and test sets."
   ]
  },
  {
   "cell_type": "code",
   "execution_count": 29,
   "metadata": {},
   "outputs": [
    {
     "name": "stdout",
     "output_type": "stream",
     "text": [
      "Null word embeddings: 1396\n"
     ]
    }
   ],
   "source": [
    "train_data, test_data, embedding_layer = create_embedding(200,X_train, X_test,10,model_glove)"
   ]
  },
  {
   "cell_type": "markdown",
   "metadata": {},
   "source": [
    "We create the embedding layer by using the create_embedding function defined above."
   ]
  },
  {
   "cell_type": "code",
   "execution_count": 616,
   "metadata": {
    "collapsed": true
   },
   "outputs": [],
   "source": [
    "def create_model(dropout_rate=0.0,neurons=70):\n",
    "    model = Sequential()\n",
    "    model.add(embedding_layer)\n",
    "    model.add(Bidirectional(LSTM(neurons,recurrent_dropout=0.5)))\n",
    "    model.add(Dense(1, activation='sigmoid'))\n",
    "    model.compile(loss='binary_crossentropy', optimizer='adam', metrics=['accuracy'])\n",
    "    return model"
   ]
  },
  {
   "cell_type": "code",
   "execution_count": 716,
   "metadata": {},
   "outputs": [
    {
     "name": "stdout",
     "output_type": "stream",
     "text": [
      "Fitting 2 folds for each of 15 candidates, totalling 30 fits\n"
     ]
    },
    {
     "name": "stderr",
     "output_type": "stream",
     "text": [
      "[Parallel(n_jobs=1)]: Using backend SequentialBackend with 1 concurrent workers.\n"
     ]
    },
    {
     "name": "stdout",
     "output_type": "stream",
     "text": [
      "Train on 4607 samples, validate on 512 samples\n",
      "Epoch 1/10\n",
      "4607/4607 [==============================] - 31s 7ms/step - loss: 0.5837 - acc: 0.7282 - val_loss: 0.5815 - val_acc: 0.7402\n",
      "Epoch 2/10\n",
      "4607/4607 [==============================] - 6s 1ms/step - loss: 0.5570 - acc: 0.7326 - val_loss: 0.5854 - val_acc: 0.7344\n",
      "5120/5120 [==============================] - 3s 683us/step\n",
      "5119/5119 [==============================] - 3s 664us/step\n",
      "Train on 4608 samples, validate on 512 samples\n",
      "Epoch 1/10\n",
      "4608/4608 [==============================] - 33s 7ms/step - loss: 0.5808 - acc: 0.7326 - val_loss: 0.5792 - val_acc: 0.7344\n",
      "Epoch 2/10\n",
      "4608/4608 [==============================] - 6s 1ms/step - loss: 0.5564 - acc: 0.7357 - val_loss: 0.5786 - val_acc: 0.7324\n",
      "Epoch 3/10\n",
      "4608/4608 [==============================] - 5s 1ms/step - loss: 0.5332 - acc: 0.7450 - val_loss: 0.5863 - val_acc: 0.7227\n",
      "5119/5119 [==============================] - 2s 417us/step\n",
      "5120/5120 [==============================] - 2s 418us/step\n",
      "Train on 4607 samples, validate on 512 samples\n",
      "Epoch 1/10\n",
      "4607/4607 [==============================] - 31s 7ms/step - loss: 0.5846 - acc: 0.7241 - val_loss: 0.5873 - val_acc: 0.7402\n",
      "Epoch 2/10\n",
      "4607/4607 [==============================] - 5s 1ms/step - loss: 0.5564 - acc: 0.7306 - val_loss: 0.5891 - val_acc: 0.7344\n",
      "5120/5120 [==============================] - 2s 465us/step\n",
      "5119/5119 [==============================] - 2s 465us/step\n",
      "Train on 4608 samples, validate on 512 samples\n",
      "Epoch 1/10\n",
      "4608/4608 [==============================] - 32s 7ms/step - loss: 0.5807 - acc: 0.7311 - val_loss: 0.5802 - val_acc: 0.7363\n",
      "Epoch 2/10\n",
      "4608/4608 [==============================] - 5s 1ms/step - loss: 0.5555 - acc: 0.7350 - val_loss: 0.5841 - val_acc: 0.7227\n",
      "5119/5119 [==============================] - 3s 489us/step\n",
      "5120/5120 [==============================] - 2s 486us/step\n",
      "Train on 4607 samples, validate on 512 samples\n",
      "Epoch 1/10\n",
      "4607/4607 [==============================] - 32s 7ms/step - loss: 0.5842 - acc: 0.7259 - val_loss: 0.5798 - val_acc: 0.7383\n",
      "Epoch 2/10\n",
      "4607/4607 [==============================] - 6s 1ms/step - loss: 0.5572 - acc: 0.7321 - val_loss: 0.5844 - val_acc: 0.7324\n",
      "5120/5120 [==============================] - 3s 557us/step\n",
      "5119/5119 [==============================] - 3s 561us/step\n",
      "Train on 4608 samples, validate on 512 samples\n",
      "Epoch 1/10\n",
      "4608/4608 [==============================] - 31s 7ms/step - loss: 0.5834 - acc: 0.7300 - val_loss: 0.5747 - val_acc: 0.7344\n",
      "Epoch 2/10\n",
      "4608/4608 [==============================] - 6s 1ms/step - loss: 0.5532 - acc: 0.7363 - val_loss: 0.5827 - val_acc: 0.7305\n",
      "5119/5119 [==============================] - 3s 559us/step\n",
      "5120/5120 [==============================] - 3s 561us/step\n",
      "Train on 4607 samples, validate on 512 samples\n",
      "Epoch 1/10\n",
      "4607/4607 [==============================] - 28s 6ms/step - loss: 0.5818 - acc: 0.7278 - val_loss: 0.5840 - val_acc: 0.7402\n",
      "Epoch 2/10\n",
      "4607/4607 [==============================] - 3s 589us/step - loss: 0.5610 - acc: 0.7293 - val_loss: 0.5927 - val_acc: 0.7402\n",
      "5120/5120 [==============================] - 1s 264us/step\n",
      "5119/5119 [==============================] - 1s 264us/step\n",
      "Train on 4608 samples, validate on 512 samples\n",
      "Epoch 1/10\n",
      "4608/4608 [==============================] - 28s 6ms/step - loss: 0.5806 - acc: 0.7322 - val_loss: 0.5783 - val_acc: 0.7344\n",
      "Epoch 2/10\n",
      "4608/4608 [==============================] - 3s 578us/step - loss: 0.5612 - acc: 0.7335 - val_loss: 0.5748 - val_acc: 0.7344\n",
      "Epoch 3/10\n",
      "4608/4608 [==============================] - 3s 578us/step - loss: 0.5459 - acc: 0.7383 - val_loss: 0.5770 - val_acc: 0.7363\n",
      "5119/5119 [==============================] - 1s 257us/step\n",
      "5120/5120 [==============================] - 1s 261us/step\n",
      "Train on 4607 samples, validate on 512 samples\n",
      "Epoch 1/10\n",
      "4607/4607 [==============================] - 29s 6ms/step - loss: 0.5824 - acc: 0.7267 - val_loss: 0.5800 - val_acc: 0.7383\n",
      "Epoch 2/10\n",
      "4607/4607 [==============================] - 3s 591us/step - loss: 0.5597 - acc: 0.7317 - val_loss: 0.5830 - val_acc: 0.7402\n",
      "5120/5120 [==============================] - 1s 281us/step\n",
      "5119/5119 [==============================] - 1s 291us/step\n",
      "Train on 4608 samples, validate on 512 samples\n",
      "Epoch 1/10\n",
      "4608/4608 [==============================] - 29s 6ms/step - loss: 0.5872 - acc: 0.7253 - val_loss: 0.5783 - val_acc: 0.7344\n",
      "Epoch 2/10\n",
      "4608/4608 [==============================] - 3s 598us/step - loss: 0.5613 - acc: 0.7333 - val_loss: 0.5803 - val_acc: 0.7363\n",
      "5119/5119 [==============================] - 1s 283us/step\n",
      "5120/5120 [==============================] - 1s 265us/step\n",
      "Train on 4607 samples, validate on 512 samples\n",
      "Epoch 1/10\n",
      "4607/4607 [==============================] - 35s 8ms/step - loss: 0.5848 - acc: 0.7235 - val_loss: 0.5809 - val_acc: 0.7383\n",
      "Epoch 2/10\n",
      "4607/4607 [==============================] - 4s 832us/step - loss: 0.5589 - acc: 0.7306 - val_loss: 0.5881 - val_acc: 0.7363\n",
      "5120/5120 [==============================] - 2s 408us/step\n",
      "5119/5119 [==============================] - 2s 406us/step\n",
      "Train on 4608 samples, validate on 512 samples\n",
      "Epoch 1/10\n",
      "4608/4608 [==============================] - 31s 7ms/step - loss: 0.5829 - acc: 0.7298 - val_loss: 0.5839 - val_acc: 0.7344\n",
      "Epoch 2/10\n",
      "4608/4608 [==============================] - 4s 806us/step - loss: 0.5539 - acc: 0.7363 - val_loss: 0.5820 - val_acc: 0.7344\n",
      "Epoch 3/10\n",
      "4608/4608 [==============================] - 4s 808us/step - loss: 0.5345 - acc: 0.7418 - val_loss: 0.5857 - val_acc: 0.7324\n",
      "5119/5119 [==============================] - 2s 409us/step\n",
      "5120/5120 [==============================] - 2s 407us/step\n",
      "Train on 4607 samples, validate on 512 samples\n",
      "Epoch 1/10\n",
      "4607/4607 [==============================] - 30s 6ms/step - loss: 0.5832 - acc: 0.7276 - val_loss: 0.5814 - val_acc: 0.7383\n",
      "Epoch 2/10\n",
      "4607/4607 [==============================] - 2s 371us/step - loss: 0.5629 - acc: 0.7289 - val_loss: 0.5840 - val_acc: 0.7383\n",
      "5120/5120 [==============================] - 1s 206us/step\n",
      "5119/5119 [==============================] - 1s 205us/step\n",
      "Train on 4608 samples, validate on 512 samples\n",
      "Epoch 1/10\n",
      "4608/4608 [==============================] - 30s 6ms/step - loss: 0.5828 - acc: 0.7322 - val_loss: 0.5762 - val_acc: 0.7344\n",
      "Epoch 2/10\n",
      "4608/4608 [==============================] - 2s 372us/step - loss: 0.5651 - acc: 0.7326 - val_loss: 0.5746 - val_acc: 0.7344\n",
      "Epoch 3/10\n",
      "4608/4608 [==============================] - 2s 368us/step - loss: 0.5508 - acc: 0.7344 - val_loss: 0.5716 - val_acc: 0.7363\n",
      "Epoch 4/10\n",
      "4608/4608 [==============================] - 2s 363us/step - loss: 0.5378 - acc: 0.7405 - val_loss: 0.5744 - val_acc: 0.7383\n",
      "5119/5119 [==============================] - 1s 205us/step\n",
      "5120/5120 [==============================] - 1s 208us/step\n",
      "Train on 4607 samples, validate on 512 samples\n",
      "Epoch 1/10\n",
      "4607/4607 [==============================] - 30s 7ms/step - loss: 0.5819 - acc: 0.7278 - val_loss: 0.5784 - val_acc: 0.7383\n",
      "Epoch 2/10\n",
      "4607/4607 [==============================] - 2s 377us/step - loss: 0.5624 - acc: 0.7280 - val_loss: 0.5800 - val_acc: 0.7422\n",
      "5120/5120 [==============================] - 1s 215us/step\n",
      "5119/5119 [==============================] - 1s 219us/step\n",
      "Train on 4608 samples, validate on 512 samples\n",
      "Epoch 1/10\n",
      "4608/4608 [==============================] - 30s 6ms/step - loss: 0.5860 - acc: 0.7246 - val_loss: 0.5786 - val_acc: 0.7344\n",
      "Epoch 2/10\n",
      "4608/4608 [==============================] - 2s 380us/step - loss: 0.5612 - acc: 0.7344 - val_loss: 0.5781 - val_acc: 0.7344\n",
      "Epoch 3/10\n",
      "4608/4608 [==============================] - 2s 387us/step - loss: 0.5469 - acc: 0.7407 - val_loss: 0.5803 - val_acc: 0.7305\n",
      "5119/5119 [==============================] - 1s 218us/step\n",
      "5120/5120 [==============================] - 1s 215us/step\n",
      "Train on 4607 samples, validate on 512 samples\n",
      "Epoch 1/10\n",
      "4607/4607 [==============================] - 31s 7ms/step - loss: 0.5801 - acc: 0.7265 - val_loss: 0.5841 - val_acc: 0.7363\n",
      "Epoch 2/10\n",
      "4607/4607 [==============================] - 2s 465us/step - loss: 0.5567 - acc: 0.7317 - val_loss: 0.5874 - val_acc: 0.7363\n",
      "5120/5120 [==============================] - 1s 236us/step\n",
      "5119/5119 [==============================] - 1s 236us/step\n",
      "Train on 4608 samples, validate on 512 samples\n",
      "Epoch 1/10\n",
      "4608/4608 [==============================] - 30s 7ms/step - loss: 0.5864 - acc: 0.7276 - val_loss: 0.5781 - val_acc: 0.7344\n",
      "Epoch 2/10\n",
      "4608/4608 [==============================] - 2s 459us/step - loss: 0.5580 - acc: 0.7329 - val_loss: 0.5809 - val_acc: 0.7344\n",
      "5119/5119 [==============================] - 1s 231us/step\n",
      "5120/5120 [==============================] - 1s 232us/step\n",
      "Train on 4607 samples, validate on 512 samples\n",
      "Epoch 1/10\n",
      "4607/4607 [==============================] - 30s 7ms/step - loss: 0.5971 - acc: 0.7098 - val_loss: 0.5833 - val_acc: 0.7363\n",
      "Epoch 2/10\n",
      "4607/4607 [==============================] - 1s 200us/step - loss: 0.5703 - acc: 0.7285 - val_loss: 0.5841 - val_acc: 0.7363\n",
      "5120/5120 [==============================] - ETA:  - 1s 123us/step\n",
      "5119/5119 [==============================] - 1s 125us/step\n",
      "Train on 4608 samples, validate on 512 samples\n",
      "Epoch 1/10\n",
      "4608/4608 [==============================] - 29s 6ms/step - loss: 0.5897 - acc: 0.7194 - val_loss: 0.5779 - val_acc: 0.7344\n",
      "Epoch 2/10\n",
      "4608/4608 [==============================] - 1s 170us/step - loss: 0.5688 - acc: 0.7329 - val_loss: 0.5773 - val_acc: 0.7363\n",
      "Epoch 3/10\n",
      "4608/4608 [==============================] - 1s 170us/step - loss: 0.5598 - acc: 0.7339 - val_loss: 0.5788 - val_acc: 0.7363\n",
      "5119/5119 [==============================] - 1s 102us/step\n",
      "5120/5120 [==============================] - 1s 101us/step\n",
      "Train on 4607 samples, validate on 512 samples\n",
      "Epoch 1/10\n",
      "4607/4607 [==============================] - 29s 6ms/step - loss: 0.5867 - acc: 0.7276 - val_loss: 0.5815 - val_acc: 0.7383\n",
      "Epoch 2/10\n",
      "4607/4607 [==============================] - 1s 179us/step - loss: 0.5663 - acc: 0.7280 - val_loss: 0.5816 - val_acc: 0.7383\n",
      "5120/5120 [==============================] - 1s 109us/step\n",
      "5119/5119 [==============================] - 1s 109us/step\n",
      "Train on 4608 samples, validate on 512 samples\n",
      "Epoch 1/10\n",
      "4608/4608 [==============================] - 29s 6ms/step - loss: 0.5917 - acc: 0.7244 - val_loss: 0.5786 - val_acc: 0.7344\n",
      "Epoch 2/10\n",
      "4608/4608 [==============================] - 1s 180us/step - loss: 0.5679 - acc: 0.7329 - val_loss: 0.5768 - val_acc: 0.7344\n",
      "Epoch 3/10\n",
      "4608/4608 [==============================] - 1s 180us/step - loss: 0.5565 - acc: 0.7326 - val_loss: 0.5755 - val_acc: 0.7344\n",
      "Epoch 4/10\n",
      "4608/4608 [==============================] - 1s 178us/step - loss: 0.5460 - acc: 0.7359 - val_loss: 0.5770 - val_acc: 0.7344\n",
      "5119/5119 [==============================] - 1s 109us/step\n",
      "5120/5120 [==============================] - 1s 108us/step\n",
      "Train on 4607 samples, validate on 512 samples\n",
      "Epoch 1/10\n",
      "4607/4607 [==============================] - 30s 7ms/step - loss: 0.5858 - acc: 0.7282 - val_loss: 0.5842 - val_acc: 0.7383\n",
      "Epoch 2/10\n",
      "4607/4607 [==============================] - 1s 242us/step - loss: 0.5604 - acc: 0.7285 - val_loss: 0.5845 - val_acc: 0.7383\n",
      "5120/5120 [==============================] - 1s 128us/step\n",
      "5119/5119 [==============================] - 1s 128us/step\n",
      "Train on 4608 samples, validate on 512 samples\n",
      "Epoch 1/10\n",
      "4608/4608 [==============================] - 31s 7ms/step - loss: 0.5932 - acc: 0.7205 - val_loss: 0.5830 - val_acc: 0.7344\n",
      "Epoch 2/10\n",
      "4608/4608 [==============================] - 1s 246us/step - loss: 0.5648 - acc: 0.7333 - val_loss: 0.5782 - val_acc: 0.7344\n",
      "Epoch 3/10\n",
      "4608/4608 [==============================] - 1s 245us/step - loss: 0.5514 - acc: 0.7357 - val_loss: 0.5758 - val_acc: 0.7363\n",
      "Epoch 4/10\n",
      "4608/4608 [==============================] - 1s 245us/step - loss: 0.5376 - acc: 0.7396 - val_loss: 0.5827 - val_acc: 0.7383\n",
      "5119/5119 [==============================] - 1s 130us/step\n",
      "5120/5120 [==============================] - 1s 130us/step\n",
      "Train on 4607 samples, validate on 512 samples\n",
      "Epoch 1/10\n",
      "4607/4607 [==============================] - 30s 7ms/step - loss: 0.6473 - acc: 0.6210 - val_loss: 0.5929 - val_acc: 0.7383\n",
      "Epoch 2/10\n",
      "4607/4607 [==============================] - 1s 115us/step - loss: 0.5819 - acc: 0.7280 - val_loss: 0.5818 - val_acc: 0.7383\n",
      "Epoch 3/10\n",
      "4607/4607 [==============================] - 1s 115us/step - loss: 0.5725 - acc: 0.7287 - val_loss: 0.5809 - val_acc: 0.7383\n",
      "Epoch 4/10\n",
      "4607/4607 [==============================] - 1s 115us/step - loss: 0.5670 - acc: 0.7285 - val_loss: 0.5805 - val_acc: 0.7383\n",
      "Epoch 5/10\n",
      "4607/4607 [==============================] - 1s 113us/step - loss: 0.5614 - acc: 0.7285 - val_loss: 0.5807 - val_acc: 0.7383\n",
      "5120/5120 [==============================] - 0s 73us/step\n",
      "5119/5119 [==============================] - 0s 74us/step\n",
      "Train on 4608 samples, validate on 512 samples\n",
      "Epoch 1/10\n",
      "4608/4608 [==============================] - 32s 7ms/step - loss: 0.6056 - acc: 0.7068 - val_loss: 0.5863 - val_acc: 0.7344\n",
      "Epoch 2/10\n",
      "4608/4608 [==============================] - 1s 144us/step - loss: 0.5775 - acc: 0.7324 - val_loss: 0.5777 - val_acc: 0.7344\n",
      "Epoch 3/10\n",
      "4608/4608 [==============================] - 1s 146us/step - loss: 0.5685 - acc: 0.7322 - val_loss: 0.5772 - val_acc: 0.7344\n",
      "Epoch 4/10\n",
      "4608/4608 [==============================] - 1s 159us/step - loss: 0.5629 - acc: 0.7331 - val_loss: 0.5748 - val_acc: 0.7344\n",
      "Epoch 5/10\n",
      "4608/4608 [==============================] - 1s 148us/step - loss: 0.5567 - acc: 0.7337 - val_loss: 0.5740 - val_acc: 0.7344\n",
      "Epoch 6/10\n",
      "4608/4608 [==============================] - 1s 142us/step - loss: 0.5490 - acc: 0.7357 - val_loss: 0.5739 - val_acc: 0.7344\n",
      "Epoch 7/10\n",
      "4608/4608 [==============================] - 1s 145us/step - loss: 0.5447 - acc: 0.7378 - val_loss: 0.5735 - val_acc: 0.7344\n",
      "Epoch 8/10\n",
      "4608/4608 [==============================] - 1s 147us/step - loss: 0.5353 - acc: 0.7431 - val_loss: 0.5744 - val_acc: 0.7305\n",
      "5119/5119 [==============================] - 0s 91us/step\n",
      "5120/5120 [==============================] - 0s 92us/step\n",
      "Train on 4607 samples, validate on 512 samples\n",
      "Epoch 1/10\n",
      "4607/4607 [==============================] - 33s 7ms/step - loss: 0.6092 - acc: 0.6900 - val_loss: 0.5885 - val_acc: 0.7383\n",
      "Epoch 2/10\n",
      "4607/4607 [==============================] - 1s 146us/step - loss: 0.5759 - acc: 0.7282 - val_loss: 0.5801 - val_acc: 0.7383\n",
      "Epoch 3/10\n",
      "4607/4607 [==============================] - 1s 145us/step - loss: 0.5655 - acc: 0.7282 - val_loss: 0.5813 - val_acc: 0.7383\n",
      "5120/5120 [==============================] - 0s 84us/step\n",
      "5119/5119 [==============================] - 0s 83us/step\n",
      "Train on 4608 samples, validate on 512 samples\n",
      "Epoch 1/10\n",
      "4608/4608 [==============================] - 33s 7ms/step - loss: 0.6162 - acc: 0.6860 - val_loss: 0.5837 - val_acc: 0.7344\n",
      "Epoch 2/10\n",
      "4608/4608 [==============================] - 1s 141us/step - loss: 0.5725 - acc: 0.7326 - val_loss: 0.5779 - val_acc: 0.7344\n",
      "Epoch 3/10\n",
      "4608/4608 [==============================] - 1s 141us/step - loss: 0.5648 - acc: 0.7329 - val_loss: 0.5767 - val_acc: 0.7344\n",
      "Epoch 4/10\n",
      "4608/4608 [==============================] - 1s 137us/step - loss: 0.5558 - acc: 0.7333 - val_loss: 0.5756 - val_acc: 0.7344\n",
      "Epoch 5/10\n",
      "4608/4608 [==============================] - 1s 137us/step - loss: 0.5499 - acc: 0.7355 - val_loss: 0.5777 - val_acc: 0.7344\n",
      "5119/5119 [==============================] - 0s 83us/step\n",
      "5120/5120 [==============================] - 0s 86us/step\n",
      "Train on 4607 samples, validate on 512 samples\n",
      "Epoch 1/10\n",
      "4607/4607 [==============================] - 36s 8ms/step - loss: 0.6010 - acc: 0.7022 - val_loss: 0.5897 - val_acc: 0.7383\n",
      "Epoch 2/10\n",
      "4607/4607 [==============================] - 1s 199us/step - loss: 0.5719 - acc: 0.7289 - val_loss: 0.5824 - val_acc: 0.7383\n",
      "Epoch 3/10\n",
      "4607/4607 [==============================] - 1s 201us/step - loss: 0.5608 - acc: 0.7293 - val_loss: 0.5856 - val_acc: 0.7402\n",
      "5120/5120 [==============================] - 1s 115us/step\n",
      "5119/5119 [==============================] - 1s 107us/step\n",
      "Train on 4608 samples, validate on 512 samples\n",
      "Epoch 1/10\n",
      "4608/4608 [==============================] - 34s 7ms/step - loss: 0.5974 - acc: 0.7203 - val_loss: 0.5791 - val_acc: 0.7344\n",
      "Epoch 2/10\n",
      "4608/4608 [==============================] - 1s 221us/step - loss: 0.5688 - acc: 0.7326 - val_loss: 0.5752 - val_acc: 0.7344\n"
     ]
    },
    {
     "name": "stdout",
     "output_type": "stream",
     "text": [
      "Epoch 3/10\n",
      "4608/4608 [==============================] - 1s 215us/step - loss: 0.5595 - acc: 0.7335 - val_loss: 0.5753 - val_acc: 0.7344\n",
      "5119/5119 [==============================] - 1s 106us/step\n",
      "5120/5120 [==============================] - 1s 111us/step\n"
     ]
    },
    {
     "name": "stderr",
     "output_type": "stream",
     "text": [
      "[Parallel(n_jobs=1)]: Done  30 out of  30 | elapsed: 21.1min finished\n"
     ]
    },
    {
     "name": "stdout",
     "output_type": "stream",
     "text": [
      "Train on 9215 samples, validate on 1024 samples\n",
      "Epoch 1/10\n",
      "9215/9215 [==============================] - 36s 4ms/step - loss: 0.5911 - acc: 0.7230 - val_loss: 0.5928 - val_acc: 0.7158\n",
      "Epoch 2/10\n",
      "9215/9215 [==============================] - 1s 136us/step - loss: 0.5695 - acc: 0.7326 - val_loss: 0.5913 - val_acc: 0.7158\n",
      "Epoch 3/10\n",
      "9215/9215 [==============================] - 1s 141us/step - loss: 0.5627 - acc: 0.7329 - val_loss: 0.5916 - val_acc: 0.7168\n"
     ]
    }
   ],
   "source": [
    "model = KerasClassifier(build_fn=create_model) \n",
    "batch_size = [16, 32, 64, 128, 256]\n",
    "neurons = [30,50,100]\n",
    "\n",
    "param_grid = dict(batch_size=batch_size, neurons=neurons)\n",
    "\n",
    "grid = GridSearchCV(estimator=model, param_grid=param_grid,return_train_score=True,cv=2,verbose=1, n_jobs=1)\n",
    "grid_result = grid.fit(train_data, y_train,epochs=10,validation_split=0.1,callbacks=[earlyStopping]) "
   ]
  },
  {
   "cell_type": "markdown",
   "metadata": {},
   "source": [
    "We initialize a grid search model to find the optimal value for batch size and number of neurons for our LSTM model. Additionally, our grid search model performs cross validation with 2-folds."
   ]
  },
  {
   "cell_type": "code",
   "execution_count": 973,
   "metadata": {
    "scrolled": true
   },
   "outputs": [
    {
     "data": {
      "image/png": "[encoded data removed]",
      "text/plain": [
       "<Figure size 576x360 with 2 Axes>"
      ]
     },
     "metadata": {},
     "output_type": "display_data"
    }
   ],
   "source": [
    "fig, (ax1, ax2) = plt.subplots(1, 2,figsize=(8, 5))\n",
    "heat_map(batch_size,neurons,grid_result.cv_results_['mean_test_score'],\"Validation Accuracy\",ax1,\"Batch Size\",\"Neurons\")\n",
    "heat_map(batch_size,neurons,grid_result.cv_results_['mean_train_score'],\"Train Accuracy\",ax2,\"\",\"Neurons\")\n",
    "plt.suptitle(\"LSTM - Grid Search\", y=1.05, x=0.5)\n",
    "plt.savefig('heat_map_lstm.png', dpi=300)"
   ]
  },
  {
   "cell_type": "markdown",
   "metadata": {},
   "source": [
    "Change in accuracy of models with different batch size and number of neurons values are shown via heatmap. "
   ]
  },
  {
   "cell_type": "markdown",
   "metadata": {},
   "source": [
    "### Testing the best estimator model on our test set"
   ]
  },
  {
   "cell_type": "code",
   "execution_count": 731,
   "metadata": {
    "collapsed": true
   },
   "outputs": [],
   "source": [
    "params=grid_result.best_estimator_.get_params()"
   ]
  },
  {
   "cell_type": "code",
   "execution_count": 979,
   "metadata": {},
   "outputs": [
    {
     "name": "stdout",
     "output_type": "stream",
     "text": [
      "Parameters of best estimator: \n",
      " batch size:  256 \n",
      " neurons:  50\n"
     ]
    }
   ],
   "source": [
    "print('Parameters of best estimator: \\n batch size: ',params['batch_size'],'\\n neurons: ',params['neurons'])"
   ]
  },
  {
   "cell_type": "code",
   "execution_count": 759,
   "metadata": {
    "collapsed": true
   },
   "outputs": [],
   "source": [
    "model = Sequential()\n",
    "model.add(embedding_layer)\n",
    "model.add(Bidirectional(LSTM(params['neurons'],recurrent_dropout=0.5)))\n",
    "model.add(Dense(1, activation='sigmoid'))\n",
    "model.compile(loss='binary_crossentropy', optimizer='adam', metrics=['accuracy'])"
   ]
  },
  {
   "cell_type": "markdown",
   "metadata": {},
   "source": [
    "We initialize our LSTM model with the parameters found by Grid Search."
   ]
  },
  {
   "cell_type": "code",
   "execution_count": 760,
   "metadata": {},
   "outputs": [
    {
     "name": "stdout",
     "output_type": "stream",
     "text": [
      "Train on 9215 samples, validate on 1024 samples\n",
      "Epoch 1/10\n",
      "9215/9215 [==============================] - 42s 5ms/step - loss: 0.5830 - acc: 0.7312 - val_loss: 0.5930 - val_acc: 0.7158\n",
      "Epoch 2/10\n",
      "9215/9215 [==============================] - 2s 177us/step - loss: 0.5661 - acc: 0.7326 - val_loss: 0.5921 - val_acc: 0.7168\n",
      "Epoch 3/10\n",
      "9215/9215 [==============================] - 2s 185us/step - loss: 0.5583 - acc: 0.7328 - val_loss: 0.5909 - val_acc: 0.7129\n",
      "Epoch 4/10\n",
      "9215/9215 [==============================] - 2s 173us/step - loss: 0.5511 - acc: 0.7366 - val_loss: 0.5933 - val_acc: 0.7158\n"
     ]
    },
    {
     "data": {
      "text/plain": [
       "<keras.callbacks.History at 0x1bbfe406d8>"
      ]
     },
     "execution_count": 760,
     "metadata": {},
     "output_type": "execute_result"
    }
   ],
   "source": [
    "model.fit(train_data, y_train,  validation_split=0.1,callbacks=[earlyStopping], epochs=10, shuffle=True, verbose=1,batch_size=params['batch_size'])"
   ]
  },
  {
   "cell_type": "code",
   "execution_count": 980,
   "metadata": {},
   "outputs": [
    {
     "name": "stdout",
     "output_type": "stream",
     "text": [
      "2560/2560 [==============================] - 2s 694us/step\n"
     ]
    }
   ],
   "source": [
    "test_lstm = model.evaluate(test_data,y_test)"
   ]
  },
  {
   "cell_type": "code",
   "execution_count": 982,
   "metadata": {},
   "outputs": [
    {
     "name": "stdout",
     "output_type": "stream",
     "text": [
      "Test Set Accuracy of best estimator model - LSTM 0.73984375\n"
     ]
    }
   ],
   "source": [
    "print(\"Test Set Accuracy of best estimator model - LSTM\",test_lstm[1])"
   ]
  },
  {
   "cell_type": "code",
   "execution_count": 938,
   "metadata": {},
   "outputs": [
    {
     "data": {
      "image/png": "[encoded data removed]",
      "text/plain": [
       "<Figure size 1080x360 with 2 Axes>"
      ]
     },
     "metadata": {},
     "output_type": "display_data"
    }
   ],
   "source": [
    "fig, (ax1, ax2) = plt.subplots(1, 2, figsize=(15, 5))\n",
    "\n",
    "# plot of accuracy values in each epoch\n",
    "ax1.plot(model.history.epoch, model.history.history['acc'],label=\"Train Accuracy\")\n",
    "ax1.plot(model.history.epoch, model.history.history['val_acc'],label=\"Validation Accuracy\")\n",
    "ax1.legend(loc='lower left')\n",
    "ax1.set_ylabel('Accuracy')\n",
    "ax1.set_xlabel('Epochs')\n",
    "ax1.set_xticks([0,1,2,3])\n",
    "ax1.set_xticklabels([1,2,3,4])\n",
    "ax1.set_title('Model Accuracy')\n",
    "\n",
    "# plot of loss values in each epoch\n",
    "ax2.plot(model.history.epoch, model.history.history['loss'],label=\"Loss \")\n",
    "ax2.plot(model.history.epoch, model.history.history['val_loss'],label=\"Validation Loss \")\n",
    "ax2.legend(loc='lower left')\n",
    "ax2.set_xticks([0,1,2,3])\n",
    "ax2.set_xticklabels([1,2,3,4])\n",
    "ax2.set_ylabel('Loss')\n",
    "ax2.set_xlabel('Epochs')\n",
    "ax2.set_title('Model Loss')\n",
    "\n",
    "plt.suptitle(\"LSTM - Accuracy/Loss\", y=1.05, x=0.5)\n",
    "plt.savefig('test_accuracy_loss_bar.png', dpi=300)"
   ]
  },
  {
   "cell_type": "code",
   "execution_count": 991,
   "metadata": {},
   "outputs": [
    {
     "name": "stdout",
     "output_type": "stream",
     "text": [
      "TEST SCORES OF MODELS\n",
      "Logistic Regression: 0.7313725490196078 \n",
      "SVM 0.73828125 \n",
      "LSTM 0.73984375\n"
     ]
    }
   ],
   "source": [
    "print('TEST SCORES OF MODELS\\nLogistic Regression:',test_result_lr, '\\nSVM', test_result_svm,'\\nLSTM',test_lstm[1])"
   ]
  },
  {
   "cell_type": "markdown",
   "metadata": {},
   "source": [
    "| Models | Accuracy |\n",
    "|---------------------|----------|\n",
    "| LSTM | 0.739 |\n",
    "| SVM | 0.738 |\n",
    "| Logistic Regression | 0.731 |"
   ]
  },
  {
   "cell_type": "code",
   "execution_count": 949,
   "metadata": {},
   "outputs": [
    {
     "data": {
      "image/png": "[encoded data removed]",
      "text/plain": [
       "<Figure size 432x288 with 1 Axes>"
      ]
     },
     "metadata": {},
     "output_type": "display_data"
    },
    {
     "data": {
      "text/plain": [
       "<Figure size 432x288 with 0 Axes>"
      ]
     },
     "metadata": {},
     "output_type": "display_data"
    }
   ],
   "source": [
    "objects = ('Logistic Regression', 'SVM', 'LSTM')\n",
    "y_pos = np.arange(len(objects))\n",
    "accuracies = [test_result_lr,test_result_svm,test_lstm[1]]\n",
    " \n",
    "plt.barh(y_pos, accuracies, align='center', alpha=0.5, color=['red', 'green', 'blue'])\n",
    "plt.yticks(y_pos, objects)\n",
    "plt.xlabel('Accuracy')\n",
    "plt.title('Test Set Accuracy')\n",
    " \n",
    "plt.show()\n",
    "plt.savefig('test_accuracy_bar.png', dpi=300)"
   ]
  },
  {
   "cell_type": "markdown",
   "metadata": {},
   "source": [
    "Since our dataset is a small dataset, LSTM performed worse than we expected. However, the best test score belongs to LSTM, where SVM is the second and Logistic Regressioin is the last. The difference between accuracy values are very small, so we can not say that LSTM significantly improve our results."
   ]
  },
  {
   "cell_type": "markdown",
   "metadata": {},
   "source": [
    "## References\n",
    "\n",
    "[1] Wang, W.Y. (2017). “Liar, Liar Pants on Fire”: A New Benchmark Dataset for Fake News Detection. http://arxiv.org/abs/1705.00648\n",
    "\n",
    "[2] Jeffrey Pennington, Richard Socher, and Christopher D. Manning. 2014. GloVe: Global Vectors for Word Representation"
   ]
  }
 ],
 "metadata": {
  "kernelspec": {
   "display_name": "Python 3",
   "language": "python",
   "name": "python3"
  },
  "language_info": {
   "codemirror_mode": {
    "name": "ipython",
    "version": 3
   },
   "file_extension": ".py",
   "mimetype": "text/x-python",
   "name": "python",
   "nbconvert_exporter": "python",
   "pygments_lexer": "ipython3",
   "version": "3.6.4"
  }
 },
 "nbformat": 4,
 "nbformat_minor": 2
}
